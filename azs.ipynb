{
 "cells": [
  {
   "cell_type": "code",
   "execution_count": 8,
   "metadata": {},
   "outputs": [],
   "source": [
    "import numpy as np\n",
    "import pandas as pd"
   ]
  },
  {
   "cell_type": "code",
   "execution_count": 1,
   "metadata": {},
   "outputs": [],
   "source": [
    "TRAIN_CSV = '~/.kaggle/competitions/ai-hackathon-2018-spb-gpn/train_data.csv'"
   ]
  },
  {
   "cell_type": "code",
   "execution_count": 3,
   "metadata": {},
   "outputs": [
    {
     "name": "stderr",
     "output_type": "stream",
     "text": [
      "/home/s_belyaev/miniconda3/lib/python3.6/site-packages/IPython/core/interactiveshell.py:2728: DtypeWarning: Columns (12) have mixed types. Specify dtype option on import or set low_memory=False.\n",
      "  interactivity=interactivity, compiler=compiler, result=result)\n"
     ]
    }
   ],
   "source": [
    "df = pd.read_csv(TRAIN_CSV)"
   ]
  },
  {
   "cell_type": "code",
   "execution_count": 4,
   "metadata": {},
   "outputs": [
    {
     "data": {
      "text/html": [
       "<div>\n",
       "<style scoped>\n",
       "    .dataframe tbody tr th:only-of-type {\n",
       "        vertical-align: middle;\n",
       "    }\n",
       "\n",
       "    .dataframe tbody tr th {\n",
       "        vertical-align: top;\n",
       "    }\n",
       "\n",
       "    .dataframe thead th {\n",
       "        text-align: right;\n",
       "    }\n",
       "</style>\n",
       "<table border=\"1\" class=\"dataframe\">\n",
       "  <thead>\n",
       "    <tr style=\"text-align: right;\">\n",
       "      <th></th>\n",
       "      <th>Unnamed: 0</th>\n",
       "      <th>time</th>\n",
       "      <th>date</th>\n",
       "      <th>v_l</th>\n",
       "      <th>q</th>\n",
       "      <th>n_tr</th>\n",
       "      <th>sum_b</th>\n",
       "      <th>code_azs</th>\n",
       "      <th>id</th>\n",
       "      <th>first_prch</th>\n",
       "      <th>location</th>\n",
       "      <th>region</th>\n",
       "      <th>code</th>\n",
       "      <th>code1</th>\n",
       "      <th>percent</th>\n",
       "      <th>type</th>\n",
       "    </tr>\n",
       "  </thead>\n",
       "  <tbody>\n",
       "    <tr>\n",
       "      <th>0</th>\n",
       "      <td>0</td>\n",
       "      <td>NaN</td>\n",
       "      <td>2016-12-28</td>\n",
       "      <td>30.46</td>\n",
       "      <td>0</td>\n",
       "      <td>2016</td>\n",
       "      <td>1090.60</td>\n",
       "      <td>5915.0</td>\n",
       "      <td>21-8B2-7695</td>\n",
       "      <td>27.12.16 23:06:11</td>\n",
       "      <td>10.0</td>\n",
       "      <td>454.5</td>\n",
       "      <td>1010121</td>\n",
       "      <td>126.0</td>\n",
       "      <td>0.0</td>\n",
       "      <td>5</td>\n",
       "    </tr>\n",
       "    <tr>\n",
       "      <th>1</th>\n",
       "      <td>1</td>\n",
       "      <td>NaN</td>\n",
       "      <td>2016-12-27</td>\n",
       "      <td>0.00</td>\n",
       "      <td>1</td>\n",
       "      <td>2016</td>\n",
       "      <td>180.91</td>\n",
       "      <td>5915.0</td>\n",
       "      <td>21-8B2-7695</td>\n",
       "      <td>27.12.16 23:06:11</td>\n",
       "      <td>10.0</td>\n",
       "      <td>454.5</td>\n",
       "      <td>2230000</td>\n",
       "      <td>164.0</td>\n",
       "      <td>0.0</td>\n",
       "      <td>6</td>\n",
       "    </tr>\n",
       "    <tr>\n",
       "      <th>2</th>\n",
       "      <td>2</td>\n",
       "      <td>NaN</td>\n",
       "      <td>2016-12-27</td>\n",
       "      <td>35.60</td>\n",
       "      <td>0</td>\n",
       "      <td>2016</td>\n",
       "      <td>1363.48</td>\n",
       "      <td>5915.0</td>\n",
       "      <td>21-8B2-7695</td>\n",
       "      <td>27.12.16 23:06:11</td>\n",
       "      <td>10.0</td>\n",
       "      <td>454.5</td>\n",
       "      <td>1010131</td>\n",
       "      <td>128.0</td>\n",
       "      <td>0.0</td>\n",
       "      <td>13</td>\n",
       "    </tr>\n",
       "    <tr>\n",
       "      <th>3</th>\n",
       "      <td>3</td>\n",
       "      <td>08:24:24</td>\n",
       "      <td>2017-10-23</td>\n",
       "      <td>31.01</td>\n",
       "      <td>0</td>\n",
       "      <td>2017</td>\n",
       "      <td>1181.45</td>\n",
       "      <td>5915.0</td>\n",
       "      <td>21-8B2-7695</td>\n",
       "      <td>27.12.16 23:06:11</td>\n",
       "      <td>10.0</td>\n",
       "      <td>454.5</td>\n",
       "      <td>1010121</td>\n",
       "      <td>126.0</td>\n",
       "      <td>0.0</td>\n",
       "      <td>7</td>\n",
       "    </tr>\n",
       "    <tr>\n",
       "      <th>4</th>\n",
       "      <td>4</td>\n",
       "      <td>NaN</td>\n",
       "      <td>2017-03-19</td>\n",
       "      <td>51.95</td>\n",
       "      <td>0</td>\n",
       "      <td>2017</td>\n",
       "      <td>1818.09</td>\n",
       "      <td>2418.0</td>\n",
       "      <td>21-8B2-7695</td>\n",
       "      <td>27.12.16 23:06:11</td>\n",
       "      <td>9.0</td>\n",
       "      <td>454.0</td>\n",
       "      <td>1010121</td>\n",
       "      <td>126.0</td>\n",
       "      <td>0.0</td>\n",
       "      <td>5</td>\n",
       "    </tr>\n",
       "  </tbody>\n",
       "</table>\n",
       "</div>"
      ],
      "text/plain": [
       "   Unnamed: 0      time        date    v_l  q  n_tr    sum_b  code_azs  \\\n",
       "0           0       NaN  2016-12-28  30.46  0  2016  1090.60    5915.0   \n",
       "1           1       NaN  2016-12-27   0.00  1  2016   180.91    5915.0   \n",
       "2           2       NaN  2016-12-27  35.60  0  2016  1363.48    5915.0   \n",
       "3           3  08:24:24  2017-10-23  31.01  0  2017  1181.45    5915.0   \n",
       "4           4       NaN  2017-03-19  51.95  0  2017  1818.09    2418.0   \n",
       "\n",
       "            id         first_prch  location  region     code  code1  percent  \\\n",
       "0  21-8B2-7695  27.12.16 23:06:11      10.0   454.5  1010121  126.0      0.0   \n",
       "1  21-8B2-7695  27.12.16 23:06:11      10.0   454.5  2230000  164.0      0.0   \n",
       "2  21-8B2-7695  27.12.16 23:06:11      10.0   454.5  1010131  128.0      0.0   \n",
       "3  21-8B2-7695  27.12.16 23:06:11      10.0   454.5  1010121  126.0      0.0   \n",
       "4  21-8B2-7695  27.12.16 23:06:11       9.0   454.0  1010121  126.0      0.0   \n",
       "\n",
       "   type  \n",
       "0     5  \n",
       "1     6  \n",
       "2    13  \n",
       "3     7  \n",
       "4     5  "
      ]
     },
     "execution_count": 4,
     "metadata": {},
     "output_type": "execute_result"
    }
   ],
   "source": [
    "df.head()"
   ]
  },
  {
   "cell_type": "code",
   "execution_count": 12,
   "metadata": {},
   "outputs": [
    {
     "data": {
      "text/plain": [
       "('2016-01-01', '2017-12-31')"
      ]
     },
     "execution_count": 12,
     "metadata": {},
     "output_type": "execute_result"
    }
   ],
   "source": [
    "df.date.min(), df.date.max()"
   ]
  },
  {
   "cell_type": "code",
   "execution_count": 11,
   "metadata": {},
   "outputs": [
    {
     "data": {
      "text/plain": [
       "0.2810177651097257"
      ]
     },
     "execution_count": 11,
     "metadata": {},
     "output_type": "execute_result"
    }
   ],
   "source": [
    "sum(df.time.isnull()) / len(df)"
   ]
  }
 ],
 "metadata": {
  "kernelspec": {
   "display_name": "Python 3",
   "language": "python",
   "name": "python3"
  },
  "language_info": {
   "codemirror_mode": {
    "name": "ipython",
    "version": 3
   },
   "file_extension": ".py",
   "mimetype": "text/x-python",
   "name": "python",
   "nbconvert_exporter": "python",
   "pygments_lexer": "ipython3",
   "version": "3.6.4"
  }
 },
 "nbformat": 4,
 "nbformat_minor": 2
}
