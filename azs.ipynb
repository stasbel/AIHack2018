{
 "cells": [
  {
   "cell_type": "markdown",
   "metadata": {},
   "source": [
    "# AZS"
   ]
  },
  {
   "cell_type": "code",
   "execution_count": 1,
   "metadata": {},
   "outputs": [],
   "source": [
    "import numpy as np\n",
    "import pandas as pd"
   ]
  },
  {
   "cell_type": "markdown",
   "metadata": {},
   "source": [
    "## Args"
   ]
  },
  {
   "cell_type": "code",
   "execution_count": 2,
   "metadata": {},
   "outputs": [],
   "source": [
    "TRAIN_PATH = '~/.kaggle/competitions/ai-hack-2018-msk-gpn/train_data.csv'"
   ]
  },
  {
   "cell_type": "markdown",
   "metadata": {},
   "source": [
    "## Read"
   ]
  },
  {
   "cell_type": "code",
   "execution_count": null,
   "metadata": {},
   "outputs": [],
   "source": [
    "def initial_pre(df):\n",
    "    df = df.copy()\n",
    "    \n",
    "    # Renaming\n",
    "    del df['ID']\n",
    "    rename_map = {\n",
    "        'CLIENT': 'client',\n",
    "        'DATA_TRANS': 'time',\n",
    "        'AZS_NUMBER': 'azs',\n",
    "        'REGION_AZS': 'region',\n",
    "        'VID_NP': 'type',\n",
    "        'COL_LITR': 'litres',\n",
    "        'CENA_CLIENT': 'price'\n",
    "    }\n",
    "    df = df.rename(columns=rename_map)\n",
    "    \n",
    "    # Split times\n",
    "    times_df = pd.DataFrame([(time.hour, time.day, time.month, time.year) for time in pd.to_datetime(df.time)], \n",
    "                            columns=['hour', 'day', 'month', 'year'],\n",
    "                            index=df.index)\n",
    "    del df['time']\n",
    "    df = pd.concat([df, times_df], axis=1)\n",
    "    \n",
    "    # Reordering\n",
    "    columns = df.columns.tolist()\n",
    "    columns.remove('litres')\n",
    "    columns.append('litres')\n",
    "    df = df[columns]\n",
    "    \n",
    "    return df"
   ]
  },
  {
   "cell_type": "code",
   "execution_count": null,
   "metadata": {},
   "outputs": [],
   "source": [
    "%time df = initial_pre(pd.read_csv(TRAIN_PATH))\n",
    "df.shape"
   ]
  },
  {
   "cell_type": "code",
   "execution_count": null,
   "metadata": {},
   "outputs": [],
   "source": [
    "df.head()"
   ]
  },
  {
   "cell_type": "code",
   "execution_count": null,
   "metadata": {},
   "outputs": [],
   "source": [
    "df.tail()"
   ]
  },
  {
   "cell_type": "code",
   "execution_count": null,
   "metadata": {},
   "outputs": [],
   "source": [
    "df.dtypes"
   ]
  },
  {
   "cell_type": "code",
   "execution_count": null,
   "metadata": {},
   "outputs": [],
   "source": [
    "df.describe(include='all')"
   ]
  }
 ],
 "metadata": {
  "kernelspec": {
   "display_name": "Python 3",
   "language": "python",
   "name": "python3"
  },
  "language_info": {
   "codemirror_mode": {
    "name": "ipython",
    "version": 3
   },
   "file_extension": ".py",
   "mimetype": "text/x-python",
   "name": "python",
   "nbconvert_exporter": "python",
   "pygments_lexer": "ipython3",
   "version": "3.6.4"
  }
 },
 "nbformat": 4,
 "nbformat_minor": 2
}
