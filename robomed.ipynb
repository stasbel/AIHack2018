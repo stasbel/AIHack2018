{
 "cells": [
  {
   "cell_type": "markdown",
   "metadata": {},
   "source": [
    "# Robomed"
   ]
  },
  {
   "cell_type": "code",
   "execution_count": 1,
   "metadata": {},
   "outputs": [],
   "source": [
    "%matplotlib inline\n",
    "\n",
    "import re\n",
    "import numpy as np\n",
    "import pandas as pd\n",
    "import matplotlib.pyplot as plt\n",
    "\n",
    "from fuzzywuzzy import fuzz\n",
    "from tqdm import tqdm_notebook\n",
    "from sklearn.cluster import KMeans\n",
    "from utils import get_disease_class\n",
    "from sklearn.metrics import roc_auc_score\n",
    "from sklearn.model_selection import train_test_split\n",
    "from sklearn.base import BaseEstimator, TransformerMixin"
   ]
  },
  {
   "cell_type": "markdown",
   "metadata": {},
   "source": [
    "## Args"
   ]
  },
  {
   "cell_type": "code",
   "execution_count": 2,
   "metadata": {},
   "outputs": [],
   "source": [
    "TRAIN_PATH = '~/.kaggle/competitions/ai-hack-2018-spb-robomed/train_data.csv'\n",
    "TEST_PATH = '~/.kaggle/competitions/ai-hack-2018-spb-robomed/test_data.csv'\n",
    "SUBMISSION_PATH = 'submission.csv'\n",
    "MODEL_SAVE_PATH = 'model.pkl'"
   ]
  },
  {
   "cell_type": "markdown",
   "metadata": {},
   "source": [
    "## Read"
   ]
  },
  {
   "cell_type": "code",
   "execution_count": 3,
   "metadata": {},
   "outputs": [],
   "source": [
    "def initial_pre(df):\n",
    "    df = df.copy()\n",
    "    del df['ID']\n",
    "    rename_map = {\n",
    "        'Код_диагноза': 'diag_code',\n",
    "        'Диагноз': 'diag',\n",
    "        'Возраст': 'age',\n",
    "        'Пол': 'sex',\n",
    "        'Общее состояние': 'state',\n",
    "        'аллергия': 'allergies',\n",
    "        'Анамнез заболевания': 'anamnesis',\n",
    "        'Внешний осмотр': 'checkup',\n",
    "        'Revisit': 'revisit'\n",
    "    }\n",
    "    return df.rename(columns=rename_map)"
   ]
  },
  {
   "cell_type": "code",
   "execution_count": 4,
   "metadata": {},
   "outputs": [
    {
     "data": {
      "text/plain": [
       "283086"
      ]
     },
     "execution_count": 4,
     "metadata": {},
     "output_type": "execute_result"
    }
   ],
   "source": [
    "df = initial_pre(pd.read_csv(TRAIN_PATH))\n",
    "len(df)"
   ]
  },
  {
   "cell_type": "code",
   "execution_count": 5,
   "metadata": {},
   "outputs": [
    {
     "data": {
      "text/html": [
       "<div>\n",
       "<style scoped>\n",
       "    .dataframe tbody tr th:only-of-type {\n",
       "        vertical-align: middle;\n",
       "    }\n",
       "\n",
       "    .dataframe tbody tr th {\n",
       "        vertical-align: top;\n",
       "    }\n",
       "\n",
       "    .dataframe thead th {\n",
       "        text-align: right;\n",
       "    }\n",
       "</style>\n",
       "<table border=\"1\" class=\"dataframe\">\n",
       "  <thead>\n",
       "    <tr style=\"text-align: right;\">\n",
       "      <th></th>\n",
       "      <th>diag_code</th>\n",
       "      <th>diag</th>\n",
       "      <th>age</th>\n",
       "      <th>sex</th>\n",
       "      <th>state</th>\n",
       "      <th>allergies</th>\n",
       "      <th>anamnesis</th>\n",
       "      <th>checkup</th>\n",
       "      <th>revisit</th>\n",
       "    </tr>\n",
       "  </thead>\n",
       "  <tbody>\n",
       "    <tr>\n",
       "      <th>0</th>\n",
       "      <td>J06.0</td>\n",
       "      <td>Острый ларингофарингит</td>\n",
       "      <td>29</td>\n",
       "      <td>2</td>\n",
       "      <td>NaN</td>\n",
       "      <td>NaN</td>\n",
       "      <td>NaN</td>\n",
       "      <td>На жевательной поверхности 2.6- кариозная поло...</td>\n",
       "      <td>1</td>\n",
       "    </tr>\n",
       "    <tr>\n",
       "      <th>1</th>\n",
       "      <td>N76.1</td>\n",
       "      <td>Подострый и хронический вагинит</td>\n",
       "      <td>45</td>\n",
       "      <td>2</td>\n",
       "      <td>NaN</td>\n",
       "      <td>NaN</td>\n",
       "      <td>считает себя больной на протяжении многих лет....</td>\n",
       "      <td>NaN</td>\n",
       "      <td>1</td>\n",
       "    </tr>\n",
       "    <tr>\n",
       "      <th>2</th>\n",
       "      <td>L23.9</td>\n",
       "      <td>Аллергический контактный дерматит, причина не ...</td>\n",
       "      <td>63</td>\n",
       "      <td>2</td>\n",
       "      <td>NaN</td>\n",
       "      <td>NaN</td>\n",
       "      <td>Болен около 2-х дней, когда появились описанны...</td>\n",
       "      <td>NaN</td>\n",
       "      <td>1</td>\n",
       "    </tr>\n",
       "    <tr>\n",
       "      <th>3</th>\n",
       "      <td>N48.1</td>\n",
       "      <td>Баланопостит</td>\n",
       "      <td>43</td>\n",
       "      <td>2</td>\n",
       "      <td>NaN</td>\n",
       "      <td>не отягощен</td>\n",
       "      <td>NaN</td>\n",
       "      <td>NaN</td>\n",
       "      <td>1</td>\n",
       "    </tr>\n",
       "    <tr>\n",
       "      <th>4</th>\n",
       "      <td>Z00.0</td>\n",
       "      <td>Общий медицинский осмотр</td>\n",
       "      <td>29</td>\n",
       "      <td>1</td>\n",
       "      <td>NaN</td>\n",
       "      <td>NaN</td>\n",
       "      <td>провела полное обследование для оперативного л...</td>\n",
       "      <td>NaN</td>\n",
       "      <td>1</td>\n",
       "    </tr>\n",
       "  </tbody>\n",
       "</table>\n",
       "</div>"
      ],
      "text/plain": [
       "  diag_code                                               diag  age  sex  \\\n",
       "0     J06.0                             Острый ларингофарингит   29    2   \n",
       "1     N76.1                    Подострый и хронический вагинит   45    2   \n",
       "2     L23.9  Аллергический контактный дерматит, причина не ...   63    2   \n",
       "3     N48.1                                       Баланопостит   43    2   \n",
       "4     Z00.0                           Общий медицинский осмотр   29    1   \n",
       "\n",
       "  state    allergies                                          anamnesis  \\\n",
       "0   NaN          NaN                                                NaN   \n",
       "1   NaN          NaN  считает себя больной на протяжении многих лет....   \n",
       "2   NaN          NaN  Болен около 2-х дней, когда появились описанны...   \n",
       "3   NaN  не отягощен                                                NaN   \n",
       "4   NaN          NaN  провела полное обследование для оперативного л...   \n",
       "\n",
       "                                             checkup  revisit  \n",
       "0  На жевательной поверхности 2.6- кариозная поло...        1  \n",
       "1                                                NaN        1  \n",
       "2                                                NaN        1  \n",
       "3                                                NaN        1  \n",
       "4                                                NaN        1  "
      ]
     },
     "execution_count": 5,
     "metadata": {},
     "output_type": "execute_result"
    }
   ],
   "source": [
    "df.head()"
   ]
  },
  {
   "cell_type": "code",
   "execution_count": 6,
   "metadata": {},
   "outputs": [
    {
     "data": {
      "text/html": [
       "<div>\n",
       "<style scoped>\n",
       "    .dataframe tbody tr th:only-of-type {\n",
       "        vertical-align: middle;\n",
       "    }\n",
       "\n",
       "    .dataframe tbody tr th {\n",
       "        vertical-align: top;\n",
       "    }\n",
       "\n",
       "    .dataframe thead th {\n",
       "        text-align: right;\n",
       "    }\n",
       "</style>\n",
       "<table border=\"1\" class=\"dataframe\">\n",
       "  <thead>\n",
       "    <tr style=\"text-align: right;\">\n",
       "      <th></th>\n",
       "      <th>diag_code</th>\n",
       "      <th>diag</th>\n",
       "      <th>age</th>\n",
       "      <th>sex</th>\n",
       "      <th>state</th>\n",
       "      <th>allergies</th>\n",
       "      <th>anamnesis</th>\n",
       "      <th>checkup</th>\n",
       "      <th>revisit</th>\n",
       "    </tr>\n",
       "  </thead>\n",
       "  <tbody>\n",
       "    <tr>\n",
       "      <th>count</th>\n",
       "      <td>283086</td>\n",
       "      <td>283086</td>\n",
       "      <td>283086.000000</td>\n",
       "      <td>283086.000000</td>\n",
       "      <td>41696</td>\n",
       "      <td>40908</td>\n",
       "      <td>203656</td>\n",
       "      <td>13295</td>\n",
       "      <td>283086.000000</td>\n",
       "    </tr>\n",
       "    <tr>\n",
       "      <th>unique</th>\n",
       "      <td>3437</td>\n",
       "      <td>3394</td>\n",
       "      <td>NaN</td>\n",
       "      <td>NaN</td>\n",
       "      <td>2942</td>\n",
       "      <td>5141</td>\n",
       "      <td>152589</td>\n",
       "      <td>779</td>\n",
       "      <td>NaN</td>\n",
       "    </tr>\n",
       "    <tr>\n",
       "      <th>top</th>\n",
       "      <td>N77.1*</td>\n",
       "      <td>Вагинит, вульвит и вульвовагинит при инфекцион...</td>\n",
       "      <td>NaN</td>\n",
       "      <td>NaN</td>\n",
       "      <td>Общее самочувствие удовлетворительное. Кожные ...</td>\n",
       "      <td>не отягощен</td>\n",
       "      <td>консультация по проведенному обследованию и ко...</td>\n",
       "      <td>удовлетворительное.</td>\n",
       "      <td>NaN</td>\n",
       "    </tr>\n",
       "    <tr>\n",
       "      <th>freq</th>\n",
       "      <td>11214</td>\n",
       "      <td>11214</td>\n",
       "      <td>NaN</td>\n",
       "      <td>NaN</td>\n",
       "      <td>8960</td>\n",
       "      <td>17361</td>\n",
       "      <td>3025</td>\n",
       "      <td>6622</td>\n",
       "      <td>NaN</td>\n",
       "    </tr>\n",
       "    <tr>\n",
       "      <th>mean</th>\n",
       "      <td>NaN</td>\n",
       "      <td>NaN</td>\n",
       "      <td>41.696905</td>\n",
       "      <td>1.708347</td>\n",
       "      <td>NaN</td>\n",
       "      <td>NaN</td>\n",
       "      <td>NaN</td>\n",
       "      <td>NaN</td>\n",
       "      <td>0.828639</td>\n",
       "    </tr>\n",
       "    <tr>\n",
       "      <th>std</th>\n",
       "      <td>NaN</td>\n",
       "      <td>NaN</td>\n",
       "      <td>21.540704</td>\n",
       "      <td>0.454524</td>\n",
       "      <td>NaN</td>\n",
       "      <td>NaN</td>\n",
       "      <td>NaN</td>\n",
       "      <td>NaN</td>\n",
       "      <td>0.376825</td>\n",
       "    </tr>\n",
       "    <tr>\n",
       "      <th>min</th>\n",
       "      <td>NaN</td>\n",
       "      <td>NaN</td>\n",
       "      <td>1.000000</td>\n",
       "      <td>1.000000</td>\n",
       "      <td>NaN</td>\n",
       "      <td>NaN</td>\n",
       "      <td>NaN</td>\n",
       "      <td>NaN</td>\n",
       "      <td>0.000000</td>\n",
       "    </tr>\n",
       "    <tr>\n",
       "      <th>25%</th>\n",
       "      <td>NaN</td>\n",
       "      <td>NaN</td>\n",
       "      <td>31.000000</td>\n",
       "      <td>1.000000</td>\n",
       "      <td>NaN</td>\n",
       "      <td>NaN</td>\n",
       "      <td>NaN</td>\n",
       "      <td>NaN</td>\n",
       "      <td>1.000000</td>\n",
       "    </tr>\n",
       "    <tr>\n",
       "      <th>50%</th>\n",
       "      <td>NaN</td>\n",
       "      <td>NaN</td>\n",
       "      <td>38.000000</td>\n",
       "      <td>2.000000</td>\n",
       "      <td>NaN</td>\n",
       "      <td>NaN</td>\n",
       "      <td>NaN</td>\n",
       "      <td>NaN</td>\n",
       "      <td>1.000000</td>\n",
       "    </tr>\n",
       "    <tr>\n",
       "      <th>75%</th>\n",
       "      <td>NaN</td>\n",
       "      <td>NaN</td>\n",
       "      <td>51.000000</td>\n",
       "      <td>2.000000</td>\n",
       "      <td>NaN</td>\n",
       "      <td>NaN</td>\n",
       "      <td>NaN</td>\n",
       "      <td>NaN</td>\n",
       "      <td>1.000000</td>\n",
       "    </tr>\n",
       "    <tr>\n",
       "      <th>max</th>\n",
       "      <td>NaN</td>\n",
       "      <td>NaN</td>\n",
       "      <td>2017.000000</td>\n",
       "      <td>2.000000</td>\n",
       "      <td>NaN</td>\n",
       "      <td>NaN</td>\n",
       "      <td>NaN</td>\n",
       "      <td>NaN</td>\n",
       "      <td>1.000000</td>\n",
       "    </tr>\n",
       "  </tbody>\n",
       "</table>\n",
       "</div>"
      ],
      "text/plain": [
       "       diag_code                                               diag  \\\n",
       "count     283086                                             283086   \n",
       "unique      3437                                               3394   \n",
       "top       N77.1*  Вагинит, вульвит и вульвовагинит при инфекцион...   \n",
       "freq       11214                                              11214   \n",
       "mean         NaN                                                NaN   \n",
       "std          NaN                                                NaN   \n",
       "min          NaN                                                NaN   \n",
       "25%          NaN                                                NaN   \n",
       "50%          NaN                                                NaN   \n",
       "75%          NaN                                                NaN   \n",
       "max          NaN                                                NaN   \n",
       "\n",
       "                  age            sex  \\\n",
       "count   283086.000000  283086.000000   \n",
       "unique            NaN            NaN   \n",
       "top               NaN            NaN   \n",
       "freq              NaN            NaN   \n",
       "mean        41.696905       1.708347   \n",
       "std         21.540704       0.454524   \n",
       "min          1.000000       1.000000   \n",
       "25%         31.000000       1.000000   \n",
       "50%         38.000000       2.000000   \n",
       "75%         51.000000       2.000000   \n",
       "max       2017.000000       2.000000   \n",
       "\n",
       "                                                    state    allergies  \\\n",
       "count                                               41696        40908   \n",
       "unique                                               2942         5141   \n",
       "top     Общее самочувствие удовлетворительное. Кожные ...  не отягощен   \n",
       "freq                                                 8960        17361   \n",
       "mean                                                  NaN          NaN   \n",
       "std                                                   NaN          NaN   \n",
       "min                                                   NaN          NaN   \n",
       "25%                                                   NaN          NaN   \n",
       "50%                                                   NaN          NaN   \n",
       "75%                                                   NaN          NaN   \n",
       "max                                                   NaN          NaN   \n",
       "\n",
       "                                                anamnesis  \\\n",
       "count                                              203656   \n",
       "unique                                             152589   \n",
       "top     консультация по проведенному обследованию и ко...   \n",
       "freq                                                 3025   \n",
       "mean                                                  NaN   \n",
       "std                                                   NaN   \n",
       "min                                                   NaN   \n",
       "25%                                                   NaN   \n",
       "50%                                                   NaN   \n",
       "75%                                                   NaN   \n",
       "max                                                   NaN   \n",
       "\n",
       "                    checkup        revisit  \n",
       "count                 13295  283086.000000  \n",
       "unique                  779            NaN  \n",
       "top     удовлетворительное.            NaN  \n",
       "freq                   6622            NaN  \n",
       "mean                    NaN       0.828639  \n",
       "std                     NaN       0.376825  \n",
       "min                     NaN       0.000000  \n",
       "25%                     NaN       1.000000  \n",
       "50%                     NaN       1.000000  \n",
       "75%                     NaN       1.000000  \n",
       "max                     NaN       1.000000  "
      ]
     },
     "execution_count": 6,
     "metadata": {},
     "output_type": "execute_result"
    }
   ],
   "source": [
    "df.describe(include='all')"
   ]
  },
  {
   "cell_type": "code",
   "execution_count": 7,
   "metadata": {},
   "outputs": [
    {
     "data": {
      "text/plain": [
       "diag_code    object\n",
       "diag         object\n",
       "age           int64\n",
       "sex           int64\n",
       "state        object\n",
       "allergies    object\n",
       "anamnesis    object\n",
       "checkup      object\n",
       "revisit       int64\n",
       "dtype: object"
      ]
     },
     "execution_count": 7,
     "metadata": {},
     "output_type": "execute_result"
    }
   ],
   "source": [
    "df.dtypes"
   ]
  },
  {
   "cell_type": "code",
   "execution_count": 8,
   "metadata": {},
   "outputs": [
    {
     "data": {
      "image/png": "[encoded data removed]",
      "text/plain": [
       "<matplotlib.figure.Figure at 0x2b08e6da74e0>"
      ]
     },
     "metadata": {},
     "output_type": "display_data"
    }
   ],
   "source": [
    "age = df.age.copy()\n",
    "age[age > 120] = None\n",
    "age.plot('hist');"
   ]
  },
  {
   "cell_type": "markdown",
   "metadata": {},
   "source": [
    "## Test analysis"
   ]
  },
  {
   "cell_type": "markdown",
   "metadata": {},
   "source": [
    "### Look up"
   ]
  },
  {
   "cell_type": "code",
   "execution_count": 9,
   "metadata": {},
   "outputs": [
    {
     "data": {
      "text/html": [
       "<div>\n",
       "<style scoped>\n",
       "    .dataframe tbody tr th:only-of-type {\n",
       "        vertical-align: middle;\n",
       "    }\n",
       "\n",
       "    .dataframe tbody tr th {\n",
       "        vertical-align: top;\n",
       "    }\n",
       "\n",
       "    .dataframe thead th {\n",
       "        text-align: right;\n",
       "    }\n",
       "</style>\n",
       "<table border=\"1\" class=\"dataframe\">\n",
       "  <thead>\n",
       "    <tr style=\"text-align: right;\">\n",
       "      <th></th>\n",
       "      <th>diag_code</th>\n",
       "      <th>diag</th>\n",
       "      <th>age</th>\n",
       "      <th>sex</th>\n",
       "      <th>state</th>\n",
       "      <th>allergies</th>\n",
       "      <th>anamnesis</th>\n",
       "      <th>checkup</th>\n",
       "    </tr>\n",
       "  </thead>\n",
       "  <tbody>\n",
       "    <tr>\n",
       "      <th>0</th>\n",
       "      <td>Z39.2</td>\n",
       "      <td>Рутинное послеродовое наблюдение</td>\n",
       "      <td>41</td>\n",
       "      <td>2</td>\n",
       "      <td>Общее самочувствие удовлетворительное. Кожные ...</td>\n",
       "      <td>Аллергию на лекарства - отрицает.</td>\n",
       "      <td>NaN</td>\n",
       "      <td>NaN</td>\n",
       "    </tr>\n",
       "    <tr>\n",
       "      <th>1</th>\n",
       "      <td>M54.2</td>\n",
       "      <td>Цервикалгия</td>\n",
       "      <td>64</td>\n",
       "      <td>2</td>\n",
       "      <td>NaN</td>\n",
       "      <td>не отягощен</td>\n",
       "      <td>NaN</td>\n",
       "      <td>NaN</td>\n",
       "    </tr>\n",
       "    <tr>\n",
       "      <th>2</th>\n",
       "      <td>M41</td>\n",
       "      <td>Сколиоз</td>\n",
       "      <td>34</td>\n",
       "      <td>2</td>\n",
       "      <td>Удовлетворительное. Температура тела - 36,6. С...</td>\n",
       "      <td>NaN</td>\n",
       "      <td>NaN</td>\n",
       "      <td>NaN</td>\n",
       "    </tr>\n",
       "    <tr>\n",
       "      <th>3</th>\n",
       "      <td>J31.2</td>\n",
       "      <td>Хронический фарингит</td>\n",
       "      <td>58</td>\n",
       "      <td>2</td>\n",
       "      <td>NaN</td>\n",
       "      <td>NaN</td>\n",
       "      <td>NaN</td>\n",
       "      <td>Общее состояние удовлетворительное. Конфигурац...</td>\n",
       "    </tr>\n",
       "    <tr>\n",
       "      <th>4</th>\n",
       "      <td>M21.4</td>\n",
       "      <td>Плоская стопа [pes planus] (приобретенная)</td>\n",
       "      <td>34</td>\n",
       "      <td>2</td>\n",
       "      <td>NaN</td>\n",
       "      <td>NaN</td>\n",
       "      <td>Жалобы сегодня с утра</td>\n",
       "      <td>NaN</td>\n",
       "    </tr>\n",
       "  </tbody>\n",
       "</table>\n",
       "</div>"
      ],
      "text/plain": [
       "  diag_code                                        diag  age  sex  \\\n",
       "0     Z39.2            Рутинное послеродовое наблюдение   41    2   \n",
       "1     M54.2                                 Цервикалгия   64    2   \n",
       "2       M41                                     Сколиоз   34    2   \n",
       "3     J31.2                        Хронический фарингит   58    2   \n",
       "4     M21.4  Плоская стопа [pes planus] (приобретенная)   34    2   \n",
       "\n",
       "                                               state  \\\n",
       "0  Общее самочувствие удовлетворительное. Кожные ...   \n",
       "1                                                NaN   \n",
       "2  Удовлетворительное. Температура тела - 36,6. С...   \n",
       "3                                                NaN   \n",
       "4                                                NaN   \n",
       "\n",
       "                           allergies              anamnesis  \\\n",
       "0  Аллергию на лекарства - отрицает.                    NaN   \n",
       "1                        не отягощен                    NaN   \n",
       "2                                NaN                    NaN   \n",
       "3                                NaN                    NaN   \n",
       "4                                NaN  Жалобы сегодня с утра   \n",
       "\n",
       "                                             checkup  \n",
       "0                                                NaN  \n",
       "1                                                NaN  \n",
       "2                                                NaN  \n",
       "3  Общее состояние удовлетворительное. Конфигурац...  \n",
       "4                                                NaN  "
      ]
     },
     "execution_count": 9,
     "metadata": {},
     "output_type": "execute_result"
    }
   ],
   "source": [
    "tdf = initial_pre(pd.read_csv(TEST_PATH))\n",
    "tdf.head()"
   ]
  },
  {
   "cell_type": "code",
   "execution_count": 10,
   "metadata": {},
   "outputs": [
    {
     "data": {
      "text/plain": [
       "2    200523\n",
       "1     82563\n",
       "Name: sex, dtype: int64"
      ]
     },
     "execution_count": 10,
     "metadata": {},
     "output_type": "execute_result"
    }
   ],
   "source": [
    "df.sex.value_counts()"
   ]
  },
  {
   "cell_type": "code",
   "execution_count": 11,
   "metadata": {},
   "outputs": [
    {
     "data": {
      "text/plain": [
       "2    66391\n",
       "1    33609\n",
       "Name: sex, dtype: int64"
      ]
     },
     "execution_count": 11,
     "metadata": {},
     "output_type": "execute_result"
    }
   ],
   "source": [
    "tdf.sex.value_counts()"
   ]
  },
  {
   "cell_type": "markdown",
   "metadata": {},
   "source": [
    "### Not in `tdf`"
   ]
  },
  {
   "cell_type": "code",
   "execution_count": 12,
   "metadata": {},
   "outputs": [],
   "source": [
    "def filter_not_in_test(df, tdf, column):\n",
    "    df = df.copy()\n",
    "    in_tdf = set(tdf.loc[:, column])\n",
    "    return df[df.loc[:, column].isin(in_tdf)].copy()"
   ]
  },
  {
   "cell_type": "code",
   "execution_count": 13,
   "metadata": {},
   "outputs": [
    {
     "data": {
      "application/vnd.jupyter.widget-view+json": {
       "model_id": "d24c6992a605402080b91e852221eed4",
       "version_major": 2,
       "version_minor": 0
      },
      "text/html": [
       "<p>Failed to display Jupyter Widget of type <code>HBox</code>.</p>\n",
       "<p>\n",
       "  If you're reading this message in the Jupyter Notebook or JupyterLab Notebook, it may mean\n",
       "  that the widgets JavaScript is still loading. If this message persists, it\n",
       "  likely means that the widgets JavaScript library is either not installed or\n",
       "  not enabled. See the <a href=\"https://ipywidgets.readthedocs.io/en/stable/user_install.html\">Jupyter\n",
       "  Widgets Documentation</a> for setup instructions.\n",
       "</p>\n",
       "<p>\n",
       "  If you're reading this message in another frontend (for example, a static\n",
       "  rendering on GitHub or <a href=\"https://nbviewer.jupyter.org/\">NBViewer</a>),\n",
       "  it may mean that your frontend doesn't currently support widgets.\n",
       "</p>\n"
      ],
      "text/plain": [
       "HBox(children=(IntProgress(value=0, max=9), HTML(value='')))"
      ]
     },
     "metadata": {},
     "output_type": "display_data"
    },
    {
     "name": "stdout",
     "output_type": "stream",
     "text": [
      "after diag_code (280470, 9)\n",
      "after diag (280470, 9)\n",
      "after age (280456, 9)\n",
      "after sex (280456, 9)\n",
      "after state (278242, 9)\n",
      "after allergies (274857, 9)\n",
      "after checkup (274572, 9)\n",
      "\n"
     ]
    },
    {
     "data": {
      "text/plain": [
       "(274572, 9)"
      ]
     },
     "execution_count": 13,
     "metadata": {},
     "output_type": "execute_result"
    }
   ],
   "source": [
    "for column in tqdm_notebook(df.columns):\n",
    "    if column not in {'revisit', 'anamnesis'}:\n",
    "        df = filter_not_in_test(df, tdf, column)\n",
    "        print('after', column, df.shape)\n",
    "df.shape"
   ]
  },
  {
   "cell_type": "markdown",
   "metadata": {},
   "source": [
    "### Strings"
   ]
  },
  {
   "cell_type": "code",
   "execution_count": 14,
   "metadata": {},
   "outputs": [],
   "source": [
    "def group_column(df, tdf, column):\n",
    "    df, tdf = df.copy(), tdf.copy()\n",
    "    columnv = pd.concat([df[column], tdf[column]])\n",
    "    cvc = columnv.value_counts()\n",
    "    bins = []\n",
    "    for s, c in tqdm_notebook(cvc.iteritems()):\n",
    "        max_id, max_score = None, None\n",
    "        for id_, bin_ in enumerate(bins):\n",
    "            cur_score = fuzz.ratio(s, bin_[0])\n",
    "            if max_score is None or cur_score > max_score:\n",
    "                max_id = id_\n",
    "                max_score = cur_score\n",
    "        if max_id is not None and max_score > 50:\n",
    "            bins[max_id].append(s)\n",
    "        else:\n",
    "            bins.append([s])\n",
    "    remap_dict = {}\n",
    "    for bin_ in bins:\n",
    "        base = bin_[0]\n",
    "        for v in bin_:\n",
    "            remap_dict[v] = base\n",
    "    df[column] = df[column].apply(lambda x: remap_dict[x] if x in remap_dict else x)\n",
    "    tdf[column] = tdf[column].apply(lambda x: remap_dict[x] if x in remap_dict else x)\n",
    "    return df, tdf"
   ]
  },
  {
   "cell_type": "code",
   "execution_count": 15,
   "metadata": {},
   "outputs": [
    {
     "data": {
      "application/vnd.jupyter.widget-view+json": {
       "model_id": "767ed12254a04e269b1017c9d6948c31",
       "version_major": 2,
       "version_minor": 0
      },
      "text/html": [
       "<p>Failed to display Jupyter Widget of type <code>HBox</code>.</p>\n",
       "<p>\n",
       "  If you're reading this message in the Jupyter Notebook or JupyterLab Notebook, it may mean\n",
       "  that the widgets JavaScript is still loading. If this message persists, it\n",
       "  likely means that the widgets JavaScript library is either not installed or\n",
       "  not enabled. See the <a href=\"https://ipywidgets.readthedocs.io/en/stable/user_install.html\">Jupyter\n",
       "  Widgets Documentation</a> for setup instructions.\n",
       "</p>\n",
       "<p>\n",
       "  If you're reading this message in another frontend (for example, a static\n",
       "  rendering on GitHub or <a href=\"https://nbviewer.jupyter.org/\">NBViewer</a>),\n",
       "  it may mean that your frontend doesn't currently support widgets.\n",
       "</p>\n"
      ],
      "text/plain": [
       "HBox(children=(IntProgress(value=0, max=3), HTML(value='')))"
      ]
     },
     "metadata": {},
     "output_type": "display_data"
    },
    {
     "data": {
      "application/vnd.jupyter.widget-view+json": {
       "model_id": "e586af3257a6485eb84d9793de70adf4",
       "version_major": 2,
       "version_minor": 0
      },
      "text/html": [
       "<p>Failed to display Jupyter Widget of type <code>HBox</code>.</p>\n",
       "<p>\n",
       "  If you're reading this message in the Jupyter Notebook or JupyterLab Notebook, it may mean\n",
       "  that the widgets JavaScript is still loading. If this message persists, it\n",
       "  likely means that the widgets JavaScript library is either not installed or\n",
       "  not enabled. See the <a href=\"https://ipywidgets.readthedocs.io/en/stable/user_install.html\">Jupyter\n",
       "  Widgets Documentation</a> for setup instructions.\n",
       "</p>\n",
       "<p>\n",
       "  If you're reading this message in another frontend (for example, a static\n",
       "  rendering on GitHub or <a href=\"https://nbviewer.jupyter.org/\">NBViewer</a>),\n",
       "  it may mean that your frontend doesn't currently support widgets.\n",
       "</p>\n"
      ],
      "text/plain": [
       "HBox(children=(IntProgress(value=1, bar_style='info', max=1), HTML(value='')))"
      ]
     },
     "metadata": {},
     "output_type": "display_data"
    },
    {
     "data": {
      "application/vnd.jupyter.widget-view+json": {
       "model_id": "e2b0c699666c40719e74a064acb7c777",
       "version_major": 2,
       "version_minor": 0
      },
      "text/html": [
       "<p>Failed to display Jupyter Widget of type <code>HBox</code>.</p>\n",
       "<p>\n",
       "  If you're reading this message in the Jupyter Notebook or JupyterLab Notebook, it may mean\n",
       "  that the widgets JavaScript is still loading. If this message persists, it\n",
       "  likely means that the widgets JavaScript library is either not installed or\n",
       "  not enabled. See the <a href=\"https://ipywidgets.readthedocs.io/en/stable/user_install.html\">Jupyter\n",
       "  Widgets Documentation</a> for setup instructions.\n",
       "</p>\n",
       "<p>\n",
       "  If you're reading this message in another frontend (for example, a static\n",
       "  rendering on GitHub or <a href=\"https://nbviewer.jupyter.org/\">NBViewer</a>),\n",
       "  it may mean that your frontend doesn't currently support widgets.\n",
       "</p>\n"
      ],
      "text/plain": [
       "HBox(children=(IntProgress(value=1, bar_style='info', max=1), HTML(value='')))"
      ]
     },
     "metadata": {},
     "output_type": "display_data"
    },
    {
     "data": {
      "application/vnd.jupyter.widget-view+json": {
       "model_id": "81d0b3471006421991a79edadeaf0b13",
       "version_major": 2,
       "version_minor": 0
      },
      "text/html": [
       "<p>Failed to display Jupyter Widget of type <code>HBox</code>.</p>\n",
       "<p>\n",
       "  If you're reading this message in the Jupyter Notebook or JupyterLab Notebook, it may mean\n",
       "  that the widgets JavaScript is still loading. If this message persists, it\n",
       "  likely means that the widgets JavaScript library is either not installed or\n",
       "  not enabled. See the <a href=\"https://ipywidgets.readthedocs.io/en/stable/user_install.html\">Jupyter\n",
       "  Widgets Documentation</a> for setup instructions.\n",
       "</p>\n",
       "<p>\n",
       "  If you're reading this message in another frontend (for example, a static\n",
       "  rendering on GitHub or <a href=\"https://nbviewer.jupyter.org/\">NBViewer</a>),\n",
       "  it may mean that your frontend doesn't currently support widgets.\n",
       "</p>\n"
      ],
      "text/plain": [
       "HBox(children=(IntProgress(value=1, bar_style='info', max=1), HTML(value='')))"
      ]
     },
     "metadata": {},
     "output_type": "display_data"
    },
    {
     "name": "stdout",
     "output_type": "stream",
     "text": [
      "\n"
     ]
    },
    {
     "data": {
      "text/plain": [
       "((274572, 9), (100000, 8))"
      ]
     },
     "execution_count": 15,
     "metadata": {},
     "output_type": "execute_result"
    }
   ],
   "source": [
    "SIMILAR_TEXT_COLUMNS = ['state', 'allergies', 'checkup']\n",
    "for column in tqdm_notebook(SIMILAR_TEXT_COLUMNS):\n",
    "    df, tdf = group_column(df, tdf, column)\n",
    "df.shape, tdf.shape"
   ]
  },
  {
   "cell_type": "markdown",
   "metadata": {},
   "source": [
    "## Preprocess"
   ]
  },
  {
   "cell_type": "markdown",
   "metadata": {},
   "source": [
    "### Only `anamnesis`"
   ]
  },
  {
   "cell_type": "code",
   "execution_count": 16,
   "metadata": {},
   "outputs": [],
   "source": [
    "# def make_textclf_data(df, balance=False):\n",
    "#     X, y = df.anamnesis.fillna(''), df.revisit\n",
    "    \n",
    "#     if balance:\n",
    "#         n = y.value_counts().min()\n",
    "#         y0, y1 = y[y == 0].sample(n), y[y == 1].sample(n)\n",
    "#         X0, X1 = X[y0.index], X[y1.index]\n",
    "#         X, y = pd.concat([X0, X1], axis=0).sample(frac=1), pd.concat([y0, y1], axis=0).sample(frac=1)\n",
    "    \n",
    "#     return X, y"
   ]
  },
  {
   "cell_type": "markdown",
   "metadata": {},
   "source": [
    "### Features"
   ]
  },
  {
   "cell_type": "code",
   "execution_count": 17,
   "metadata": {},
   "outputs": [],
   "source": [
    "def parse_diag_code(diag_code, \n",
    "                    dc_pattern=re.compile('([A-Z])?([0-9][0-9])?(\\.([0-9]))?')):\n",
    "    m = dc_pattern.match(diag_code)\n",
    "    letter, code, subcode = m.group(1), m.group(2), m.group(4)\n",
    "    code = int(code) if code is not None else None\n",
    "    subcode = int(subcode) if subcode is not None else None\n",
    "    return letter, code, subcode\n",
    "\n",
    "\n",
    "# def get_age_group(age):\n",
    "#     if age > 120:\n",
    "#         return None\n",
    "# #     df.age.as_matrix()[:, np.newaxis].shape\n",
    "#     return 0"
   ]
  },
  {
   "cell_type": "code",
   "execution_count": 18,
   "metadata": {},
   "outputs": [],
   "source": [
    "class FFTransformer(BaseEstimator, TransformerMixin):\n",
    "    def __init__(self, sex_1d=None):\n",
    "        self.sex_1d = sex_1d\n",
    "    \n",
    "    def fit(self, df):\n",
    "        return self\n",
    "    \n",
    "    def transform(self, df):\n",
    "        df = df.copy()\n",
    "        \n",
    "        if self.sex_1d:\n",
    "            n = int((df.sex == 1).sum() / self.sex_1d)\n",
    "            df1 = df[df.sex == 1]\n",
    "            df2 = df[df.sex == 2].sample(n)\n",
    "            df = pd.concat([df1, df2], axis=0)\n",
    "    \n",
    "        features = []\n",
    "        # diag_code\n",
    "        features.append(pd.DataFrame(list(df.diag_code.apply(parse_diag_code)), \n",
    "                                     columns=['letter', 'code', 'subcode'],\n",
    "                                     dtype=object, index=df.index))\n",
    "#         def to_str(x):\n",
    "#             if x is None:\n",
    "#                 return ''\n",
    "#             else:\n",
    "#                 return str(x)\n",
    "#         features.append(pd.DataFrame([(to_str(_[0]) +to_str(_[1]), _[2]) for _ in list(df.diag_code.apply(parse_diag_code))], \n",
    "#                                      columns=['letter-code', 'subcode'],\n",
    "#                                      dtype=object, index=df.index))\n",
    "        \n",
    "        # +disease\n",
    "        features.append(pd.DataFrame(list(df.diag_code.apply(get_disease_class)),\n",
    "                                    columns=['disease'],\n",
    "                                    dtype=object, index=df.index))\n",
    "        \n",
    "        # diag\n",
    "        features.append(df[['diag']])\n",
    "\n",
    "        # age\n",
    "        df.age = df.age.astype(float)\n",
    "        df.loc[df.age > 120, 'age'] = np.nan\n",
    "        features.append(df[['age']])\n",
    "\n",
    "        # sex\n",
    "        features.append(df[['sex']])\n",
    "\n",
    "        # state, allergies, checkup, -anamnesis\n",
    "        features.append(df[['state', 'allergies', 'checkup']])\n",
    "\n",
    "        data = pd.concat(features, axis=1)\n",
    "        data = data.apply(lambda c: c.fillna('NaN') if (c.dtype == object) else c)\n",
    "        if 'revisit' in df:\n",
    "            data = (data, df.revisit)\n",
    "\n",
    "        return data"
   ]
  },
  {
   "cell_type": "code",
   "execution_count": 19,
   "metadata": {},
   "outputs": [
    {
     "data": {
      "text/html": [
       "<div>\n",
       "<style scoped>\n",
       "    .dataframe tbody tr th:only-of-type {\n",
       "        vertical-align: middle;\n",
       "    }\n",
       "\n",
       "    .dataframe tbody tr th {\n",
       "        vertical-align: top;\n",
       "    }\n",
       "\n",
       "    .dataframe thead th {\n",
       "        text-align: right;\n",
       "    }\n",
       "</style>\n",
       "<table border=\"1\" class=\"dataframe\">\n",
       "  <thead>\n",
       "    <tr style=\"text-align: right;\">\n",
       "      <th></th>\n",
       "      <th>letter</th>\n",
       "      <th>code</th>\n",
       "      <th>subcode</th>\n",
       "      <th>disease</th>\n",
       "      <th>diag</th>\n",
       "      <th>age</th>\n",
       "      <th>sex</th>\n",
       "      <th>state</th>\n",
       "      <th>allergies</th>\n",
       "      <th>checkup</th>\n",
       "    </tr>\n",
       "  </thead>\n",
       "  <tbody>\n",
       "    <tr>\n",
       "      <th>0</th>\n",
       "      <td>J</td>\n",
       "      <td>6</td>\n",
       "      <td>0</td>\n",
       "      <td>10</td>\n",
       "      <td>Острый ларингофарингит</td>\n",
       "      <td>29.0</td>\n",
       "      <td>2</td>\n",
       "      <td>NaN</td>\n",
       "      <td>NaN</td>\n",
       "      <td>На жевательной поверхности  глубокая кариозная...</td>\n",
       "    </tr>\n",
       "    <tr>\n",
       "      <th>1</th>\n",
       "      <td>N</td>\n",
       "      <td>76</td>\n",
       "      <td>1</td>\n",
       "      <td>14</td>\n",
       "      <td>Подострый и хронический вагинит</td>\n",
       "      <td>45.0</td>\n",
       "      <td>2</td>\n",
       "      <td>NaN</td>\n",
       "      <td>NaN</td>\n",
       "      <td>NaN</td>\n",
       "    </tr>\n",
       "    <tr>\n",
       "      <th>2</th>\n",
       "      <td>L</td>\n",
       "      <td>23</td>\n",
       "      <td>9</td>\n",
       "      <td>12</td>\n",
       "      <td>Аллергический контактный дерматит, причина не ...</td>\n",
       "      <td>63.0</td>\n",
       "      <td>2</td>\n",
       "      <td>NaN</td>\n",
       "      <td>NaN</td>\n",
       "      <td>NaN</td>\n",
       "    </tr>\n",
       "    <tr>\n",
       "      <th>3</th>\n",
       "      <td>N</td>\n",
       "      <td>48</td>\n",
       "      <td>1</td>\n",
       "      <td>14</td>\n",
       "      <td>Баланопостит</td>\n",
       "      <td>43.0</td>\n",
       "      <td>2</td>\n",
       "      <td>NaN</td>\n",
       "      <td>не отягощен</td>\n",
       "      <td>NaN</td>\n",
       "    </tr>\n",
       "    <tr>\n",
       "      <th>4</th>\n",
       "      <td>Z</td>\n",
       "      <td>0</td>\n",
       "      <td>0</td>\n",
       "      <td>21</td>\n",
       "      <td>Общий медицинский осмотр</td>\n",
       "      <td>29.0</td>\n",
       "      <td>1</td>\n",
       "      <td>NaN</td>\n",
       "      <td>NaN</td>\n",
       "      <td>NaN</td>\n",
       "    </tr>\n",
       "  </tbody>\n",
       "</table>\n",
       "</div>"
      ],
      "text/plain": [
       "  letter  code subcode  disease  \\\n",
       "0      J     6       0       10   \n",
       "1      N    76       1       14   \n",
       "2      L    23       9       12   \n",
       "3      N    48       1       14   \n",
       "4      Z     0       0       21   \n",
       "\n",
       "                                                diag   age  sex state  \\\n",
       "0                             Острый ларингофарингит  29.0    2   NaN   \n",
       "1                    Подострый и хронический вагинит  45.0    2   NaN   \n",
       "2  Аллергический контактный дерматит, причина не ...  63.0    2   NaN   \n",
       "3                                       Баланопостит  43.0    2   NaN   \n",
       "4                           Общий медицинский осмотр  29.0    1   NaN   \n",
       "\n",
       "     allergies                                            checkup  \n",
       "0          NaN  На жевательной поверхности  глубокая кариозная...  \n",
       "1          NaN                                                NaN  \n",
       "2          NaN                                                NaN  \n",
       "3  не отягощен                                                NaN  \n",
       "4          NaN                                                NaN  "
      ]
     },
     "execution_count": 19,
     "metadata": {},
     "output_type": "execute_result"
    }
   ],
   "source": [
    "ff = FFTransformer()\n",
    "X, y = ff.fit_transform(df)\n",
    "X.head()"
   ]
  },
  {
   "cell_type": "code",
   "execution_count": 20,
   "metadata": {},
   "outputs": [
    {
     "data": {
      "text/plain": [
       "letter        object\n",
       "code           int64\n",
       "subcode       object\n",
       "disease        int64\n",
       "diag          object\n",
       "age          float64\n",
       "sex            int64\n",
       "state         object\n",
       "allergies     object\n",
       "checkup       object\n",
       "dtype: object"
      ]
     },
     "execution_count": 20,
     "metadata": {},
     "output_type": "execute_result"
    }
   ],
   "source": [
    "X.dtypes"
   ]
  },
  {
   "cell_type": "code",
   "execution_count": 21,
   "metadata": {},
   "outputs": [
    {
     "data": {
      "text/plain": [
       "dtype('int64')"
      ]
     },
     "execution_count": 21,
     "metadata": {},
     "output_type": "execute_result"
    }
   ],
   "source": [
    "y.dtype"
   ]
  },
  {
   "cell_type": "markdown",
   "metadata": {},
   "source": [
    "## TT split"
   ]
  },
  {
   "cell_type": "code",
   "execution_count": 22,
   "metadata": {},
   "outputs": [
    {
     "data": {
      "text/plain": [
       "((247114, 10), (27458, 10), (100000, 10))"
      ]
     },
     "execution_count": 22,
     "metadata": {},
     "output_type": "execute_result"
    }
   ],
   "source": [
    "preprocess = FFTransformer()\n",
    "X, y = preprocess.fit_transform(df)\n",
    "cat_features = np.where(X.dtypes != np.float)[0]\n",
    "X_train, X_val, y_train, y_val = train_test_split(X, y, test_size=0.1)\n",
    "X_test = preprocess.transform(tdf)\n",
    "X_train.shape, X_val.shape, X_test.shape"
   ]
  },
  {
   "cell_type": "markdown",
   "metadata": {},
   "source": [
    "## Scipy"
   ]
  },
  {
   "cell_type": "code",
   "execution_count": 23,
   "metadata": {},
   "outputs": [],
   "source": [
    "# from sklearn.pipeline import Pipeline\n",
    "# from sklearn.linear_model import SGDClassifier\n",
    "# from sklearn.neural_network import MLPClassifier\n",
    "# from sklearn.feature_extraction.text import CountVectorizer, TfidfVectorizer"
   ]
  },
  {
   "cell_type": "code",
   "execution_count": 24,
   "metadata": {},
   "outputs": [],
   "source": [
    "# model = Pipeline([\n",
    "#     ('vec', TfidfVectorizer(ngram_range=(1, 3), max_features=1000)),\n",
    "#     ('clf', MLPClassifier(hidden_layer_sizes=(300, 300, 2))),\n",
    "#  ])"
   ]
  },
  {
   "cell_type": "code",
   "execution_count": 25,
   "metadata": {},
   "outputs": [],
   "source": [
    "# %time model.fit(X_train, y_train)"
   ]
  },
  {
   "cell_type": "code",
   "execution_count": 26,
   "metadata": {},
   "outputs": [],
   "source": [
    "# y_pred = model.predict(X_test)\n",
    "# (y_pred == y_test).sum() / len(y_test)"
   ]
  },
  {
   "cell_type": "code",
   "execution_count": 27,
   "metadata": {},
   "outputs": [],
   "source": [
    "# roc_auc_score(y_test, model.predict_proba(X_test)[:, 1])"
   ]
  },
  {
   "cell_type": "markdown",
   "metadata": {},
   "source": [
    "## Keras\n",
    "\n",
    "https://gist.github.com/madrugado/63c068b52a135c6fdbbb6fe17acbc0c8"
   ]
  },
  {
   "cell_type": "code",
   "execution_count": 28,
   "metadata": {},
   "outputs": [],
   "source": [
    "# from keras.preprocessing.text import Tokenizer"
   ]
  },
  {
   "cell_type": "code",
   "execution_count": 29,
   "metadata": {},
   "outputs": [],
   "source": [
    "# tokenizer = Tokenizer(num_words=1000)\n",
    "# tokenizer.fit_on_texts(X_train)"
   ]
  },
  {
   "cell_type": "code",
   "execution_count": 30,
   "metadata": {},
   "outputs": [],
   "source": [
    "# X_train = tokenizer.texts_to_matrix(X_train, mode='binary')\n",
    "# X_test = tokenizer.texts_to_matrix(X_test, mode='binary')\n",
    "# X_train.shape, X_test.shape"
   ]
  },
  {
   "cell_type": "markdown",
   "metadata": {},
   "source": [
    "## CatBoost\n",
    "\n",
    "https://tech.yandex.com/catboost/doc/dg/concepts/parameter-tuning-docpage/"
   ]
  },
  {
   "cell_type": "code",
   "execution_count": 31,
   "metadata": {},
   "outputs": [],
   "source": [
    "import catboost as cb"
   ]
  },
  {
   "cell_type": "code",
   "execution_count": 32,
   "metadata": {},
   "outputs": [],
   "source": [
    "def mj_split(X, y=None):\n",
    "    X = X.copy()\n",
    "    ids1 = X[X.sex == 1].index\n",
    "    data = (X.loc[ids1], X.drop(ids1, axis=0))\n",
    "    if y is not None:\n",
    "        data = (*data, y.loc[ids1], y.drop(ids1, axis=0))\n",
    "    return data"
   ]
  },
  {
   "cell_type": "code",
   "execution_count": 33,
   "metadata": {},
   "outputs": [],
   "source": [
    "# Xm_train, Xj_train, ym_train, yj_train = mj_split(X_train, y_train)\n",
    "# Xm_val, Xj_val, ym_val, yj_val = mj_split(X_val, y_val)\n",
    "# (X_train.shape, Xm_train.shape, Xj_train.shape), (X_val.shape, Xm_val.shape, Xj_val.shape)"
   ]
  },
  {
   "cell_type": "code",
   "execution_count": 34,
   "metadata": {},
   "outputs": [],
   "source": [
    "# modelm = cb.CatBoostClassifier(depth=6, eval_metric='AUC')\n",
    "# modelm.fit(Xm_train, ym_train, cat_features=cat_features, \n",
    "#           use_best_model=True, eval_set=(Xm_val, ym_val), \n",
    "#           plot=False);"
   ]
  },
  {
   "cell_type": "code",
   "execution_count": null,
   "metadata": {},
   "outputs": [],
   "source": [
    "# modelj = cb.CatBoostClassifier(depth=8, eval_metric='AUC')\n",
    "# modelj.fit(Xj_train, yj_train, cat_features=cat_features, \n",
    "#           use_best_model=True, eval_set=(Xj_val, yj_val), \n",
    "#           plot=False);"
   ]
  },
  {
   "cell_type": "code",
   "execution_count": null,
   "metadata": {},
   "outputs": [
    {
     "name": "stdout",
     "output_type": "stream",
     "text": [
      "0:\tlearn: 0.6706396\ttest: 0.6655030\tbest: 0.6655030 (0)\ttotal: 359ms\tremaining: 5m 58s\n",
      "1:\tlearn: 0.6710978\ttest: 0.6660163\tbest: 0.6660163 (1)\ttotal: 603ms\tremaining: 5m\n",
      "2:\tlearn: 0.6713180\ttest: 0.6670341\tbest: 0.6670341 (2)\ttotal: 883ms\tremaining: 4m 53s\n",
      "3:\tlearn: 0.6719439\ttest: 0.6680767\tbest: 0.6680767 (3)\ttotal: 1.1s\tremaining: 4m 34s\n",
      "4:\tlearn: 0.6722014\ttest: 0.6679246\tbest: 0.6680767 (3)\ttotal: 1.36s\tremaining: 4m 30s\n",
      "5:\tlearn: 0.6721581\ttest: 0.6680981\tbest: 0.6680981 (5)\ttotal: 1.65s\tremaining: 4m 33s\n",
      "6:\tlearn: 0.6721723\ttest: 0.6680665\tbest: 0.6680981 (5)\ttotal: 1.94s\tremaining: 4m 35s\n",
      "7:\tlearn: 0.6721522\ttest: 0.6677045\tbest: 0.6680981 (5)\ttotal: 2.24s\tremaining: 4m 37s\n",
      "8:\tlearn: 0.6731410\ttest: 0.6684060\tbest: 0.6684060 (8)\ttotal: 2.5s\tremaining: 4m 35s\n",
      "9:\tlearn: 0.6743888\ttest: 0.6704712\tbest: 0.6704712 (9)\ttotal: 2.76s\tremaining: 4m 33s\n"
     ]
    }
   ],
   "source": [
    "model = cb.CatBoostClassifier(depth=8, eval_metric='AUC', bagging_temperature=0.5)\n",
    "model.fit(X_train, y_train, cat_features=cat_features, \n",
    "          use_best_model=True, eval_set=(X_val, y_val), \n",
    "          plot=False);"
   ]
  },
  {
   "cell_type": "markdown",
   "metadata": {},
   "source": [
    "## Analysis"
   ]
  },
  {
   "cell_type": "code",
   "execution_count": null,
   "metadata": {},
   "outputs": [],
   "source": [
    "roc_auc_score(y_val, model.predict_proba(X_val)[:, 1])"
   ]
  },
  {
   "cell_type": "code",
   "execution_count": null,
   "metadata": {},
   "outputs": [],
   "source": [
    "model.get_params()"
   ]
  },
  {
   "cell_type": "code",
   "execution_count": null,
   "metadata": {},
   "outputs": [],
   "source": [
    "def draw_importance(columns, importances, top_k=20, save_path=None):\n",
    "    order = np.argsort(importances)[-top_k:]\n",
    "    \n",
    "    objects = columns[order]\n",
    "    y_pos = np.arange(len(objects))\n",
    "    performance = np.array(importances)[order]\n",
    "\n",
    "    plt.figure(figsize=(20, 10))\n",
    "    plt.barh(y_pos, performance, align='center', alpha=0.5)\n",
    "    plt.yticks(y_pos, objects)\n",
    "    plt.xlabel('Importance')\n",
    "    plt.title('Feature')\n",
    "\n",
    "    if save_path:\n",
    "        plt.savefig(save_path)\n",
    "    plt.show()"
   ]
  },
  {
   "cell_type": "code",
   "execution_count": null,
   "metadata": {},
   "outputs": [],
   "source": [
    "draw_importance(X_train.columns, model.feature_importances_, save_path=None)"
   ]
  },
  {
   "cell_type": "markdown",
   "metadata": {},
   "source": [
    "## Submission"
   ]
  },
  {
   "cell_type": "code",
   "execution_count": null,
   "metadata": {},
   "outputs": [],
   "source": [
    "# sdf = pd.DataFrame(tdf.index, columns=['ID'])\n",
    "# Xm_test, Xj_test = mj_split(X_test)\n",
    "# Xm_test.shape, Xj_test.shape"
   ]
  },
  {
   "cell_type": "code",
   "execution_count": null,
   "metadata": {},
   "outputs": [],
   "source": [
    "# proba = pd.DataFrame(np.hstack((modelm.predict_proba(Xm_test)[:, 1], modelj.predict_proba(Xj_test)[:, 1])),\n",
    "#                      index=np.hstack((np.array(list(Xm_test.index)), np.array(list(Xj_test.index)))),\n",
    "#                      columns=['proba'])\n",
    "# sdf = pd.concat([sdf, proba], axis=1)\n",
    "# sdf.head()"
   ]
  },
  {
   "cell_type": "code",
   "execution_count": null,
   "metadata": {},
   "outputs": [],
   "source": [
    "sdf = pd.DataFrame(tdf.index, columns=['ID'])\n",
    "sdf['proba'] = model.predict_proba(X_test)[:, 1]\n",
    "sdf.head()"
   ]
  },
  {
   "cell_type": "code",
   "execution_count": null,
   "metadata": {},
   "outputs": [],
   "source": [
    "sdf.to_csv(SUBMISSION_PATH, index=False)"
   ]
  }
 ],
 "metadata": {
  "kernelspec": {
   "display_name": "Python 3",
   "language": "python",
   "name": "python3"
  },
  "language_info": {
   "codemirror_mode": {
    "name": "ipython",
    "version": 3
   },
   "file_extension": ".py",
   "mimetype": "text/x-python",
   "name": "python",
   "nbconvert_exporter": "python",
   "pygments_lexer": "ipython3",
   "version": "3.6.4"
  }
 },
 "nbformat": 4,
 "nbformat_minor": 2
}
