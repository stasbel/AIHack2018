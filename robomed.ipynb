{
 "cells": [
  {
   "cell_type": "markdown",
   "metadata": {},
   "source": [
    "# Robomed"
   ]
  },
  {
   "cell_type": "code",
   "execution_count": 1,
   "metadata": {},
   "outputs": [
    {
     "name": "stderr",
     "output_type": "stream",
     "text": [
      "/home/s_belyaev/miniconda3/lib/python3.6/site-packages/h5py/__init__.py:36: FutureWarning: Conversion of the second argument of issubdtype from `float` to `np.floating` is deprecated. In future, it will be treated as `np.float64 == np.dtype(float).type`.\n",
      "  from ._conv import register_converters as _register_converters\n",
      "Using TensorFlow backend.\n"
     ]
    }
   ],
   "source": [
    "%matplotlib inline\n",
    "\n",
    "import re\n",
    "import numpy as np\n",
    "import pandas as pd\n",
    "import matplotlib.pyplot as plt\n",
    "\n",
    "from fuzzywuzzy import fuzz\n",
    "from tqdm import tqdm_notebook\n",
    "from sklearn.cluster import KMeans\n",
    "from utils import get_disease_class\n",
    "from sklearn.metrics import roc_auc_score\n",
    "from lstm import KTokenizer, get_score\n",
    "from sklearn.model_selection import train_test_split\n",
    "from sklearn.base import BaseEstimator, TransformerMixin\n",
    "from sklearn.feature_extraction.text import TfidfVectorizer"
   ]
  },
  {
   "cell_type": "markdown",
   "metadata": {},
   "source": [
    "## Args"
   ]
  },
  {
   "cell_type": "code",
   "execution_count": 2,
   "metadata": {},
   "outputs": [],
   "source": [
    "TRAIN_PATH = '~/.kaggle/competitions/ai-hack-2018-spb-robomed/train_data.csv'\n",
    "TEST_PATH = '~/.kaggle/competitions/ai-hack-2018-spb-robomed/test_data.csv'\n",
    "SUBMISSION_PATH = 'submission.csv'\n",
    "MODEL_SAVE_PATH = 'model.pkl'"
   ]
  },
  {
   "cell_type": "markdown",
   "metadata": {},
   "source": [
    "## Read"
   ]
  },
  {
   "cell_type": "code",
   "execution_count": 3,
   "metadata": {},
   "outputs": [],
   "source": [
    "def initial_pre(df):\n",
    "    df = df.copy()\n",
    "    del df['ID']\n",
    "    rename_map = {\n",
    "        'Код_диагноза': 'diag_code',\n",
    "        'Диагноз': 'diag',\n",
    "        'Возраст': 'age',\n",
    "        'Пол': 'sex',\n",
    "        'Общее состояние': 'state',\n",
    "        'аллергия': 'allergies',\n",
    "        'Анамнез заболевания': 'anamnesis',\n",
    "        'Внешний осмотр': 'checkup',\n",
    "        'Revisit': 'revisit'\n",
    "    }\n",
    "    return df.rename(columns=rename_map)"
   ]
  },
  {
   "cell_type": "code",
   "execution_count": 4,
   "metadata": {},
   "outputs": [
    {
     "data": {
      "text/plain": [
       "283086"
      ]
     },
     "execution_count": 4,
     "metadata": {},
     "output_type": "execute_result"
    }
   ],
   "source": [
    "df = initial_pre(pd.read_csv(TRAIN_PATH))\n",
    "len(df)"
   ]
  },
  {
   "cell_type": "code",
   "execution_count": 5,
   "metadata": {},
   "outputs": [
    {
     "data": {
      "text/html": [
       "<div>\n",
       "<style scoped>\n",
       "    .dataframe tbody tr th:only-of-type {\n",
       "        vertical-align: middle;\n",
       "    }\n",
       "\n",
       "    .dataframe tbody tr th {\n",
       "        vertical-align: top;\n",
       "    }\n",
       "\n",
       "    .dataframe thead th {\n",
       "        text-align: right;\n",
       "    }\n",
       "</style>\n",
       "<table border=\"1\" class=\"dataframe\">\n",
       "  <thead>\n",
       "    <tr style=\"text-align: right;\">\n",
       "      <th></th>\n",
       "      <th>diag_code</th>\n",
       "      <th>diag</th>\n",
       "      <th>age</th>\n",
       "      <th>sex</th>\n",
       "      <th>state</th>\n",
       "      <th>allergies</th>\n",
       "      <th>anamnesis</th>\n",
       "      <th>checkup</th>\n",
       "      <th>revisit</th>\n",
       "    </tr>\n",
       "  </thead>\n",
       "  <tbody>\n",
       "    <tr>\n",
       "      <th>0</th>\n",
       "      <td>J06.0</td>\n",
       "      <td>Острый ларингофарингит</td>\n",
       "      <td>29</td>\n",
       "      <td>2</td>\n",
       "      <td>NaN</td>\n",
       "      <td>NaN</td>\n",
       "      <td>NaN</td>\n",
       "      <td>На жевательной поверхности 2.6- кариозная поло...</td>\n",
       "      <td>1</td>\n",
       "    </tr>\n",
       "    <tr>\n",
       "      <th>1</th>\n",
       "      <td>N76.1</td>\n",
       "      <td>Подострый и хронический вагинит</td>\n",
       "      <td>45</td>\n",
       "      <td>2</td>\n",
       "      <td>NaN</td>\n",
       "      <td>NaN</td>\n",
       "      <td>считает себя больной на протяжении многих лет....</td>\n",
       "      <td>NaN</td>\n",
       "      <td>1</td>\n",
       "    </tr>\n",
       "    <tr>\n",
       "      <th>2</th>\n",
       "      <td>L23.9</td>\n",
       "      <td>Аллергический контактный дерматит, причина не ...</td>\n",
       "      <td>63</td>\n",
       "      <td>2</td>\n",
       "      <td>NaN</td>\n",
       "      <td>NaN</td>\n",
       "      <td>Болен около 2-х дней, когда появились описанны...</td>\n",
       "      <td>NaN</td>\n",
       "      <td>1</td>\n",
       "    </tr>\n",
       "    <tr>\n",
       "      <th>3</th>\n",
       "      <td>N48.1</td>\n",
       "      <td>Баланопостит</td>\n",
       "      <td>43</td>\n",
       "      <td>2</td>\n",
       "      <td>NaN</td>\n",
       "      <td>не отягощен</td>\n",
       "      <td>NaN</td>\n",
       "      <td>NaN</td>\n",
       "      <td>1</td>\n",
       "    </tr>\n",
       "    <tr>\n",
       "      <th>4</th>\n",
       "      <td>Z00.0</td>\n",
       "      <td>Общий медицинский осмотр</td>\n",
       "      <td>29</td>\n",
       "      <td>1</td>\n",
       "      <td>NaN</td>\n",
       "      <td>NaN</td>\n",
       "      <td>провела полное обследование для оперативного л...</td>\n",
       "      <td>NaN</td>\n",
       "      <td>1</td>\n",
       "    </tr>\n",
       "  </tbody>\n",
       "</table>\n",
       "</div>"
      ],
      "text/plain": [
       "  diag_code                                               diag  age  sex  \\\n",
       "0     J06.0                             Острый ларингофарингит   29    2   \n",
       "1     N76.1                    Подострый и хронический вагинит   45    2   \n",
       "2     L23.9  Аллергический контактный дерматит, причина не ...   63    2   \n",
       "3     N48.1                                       Баланопостит   43    2   \n",
       "4     Z00.0                           Общий медицинский осмотр   29    1   \n",
       "\n",
       "  state    allergies                                          anamnesis  \\\n",
       "0   NaN          NaN                                                NaN   \n",
       "1   NaN          NaN  считает себя больной на протяжении многих лет....   \n",
       "2   NaN          NaN  Болен около 2-х дней, когда появились описанны...   \n",
       "3   NaN  не отягощен                                                NaN   \n",
       "4   NaN          NaN  провела полное обследование для оперативного л...   \n",
       "\n",
       "                                             checkup  revisit  \n",
       "0  На жевательной поверхности 2.6- кариозная поло...        1  \n",
       "1                                                NaN        1  \n",
       "2                                                NaN        1  \n",
       "3                                                NaN        1  \n",
       "4                                                NaN        1  "
      ]
     },
     "execution_count": 5,
     "metadata": {},
     "output_type": "execute_result"
    }
   ],
   "source": [
    "df.head()"
   ]
  },
  {
   "cell_type": "code",
   "execution_count": 6,
   "metadata": {},
   "outputs": [
    {
     "data": {
      "text/html": [
       "<div>\n",
       "<style scoped>\n",
       "    .dataframe tbody tr th:only-of-type {\n",
       "        vertical-align: middle;\n",
       "    }\n",
       "\n",
       "    .dataframe tbody tr th {\n",
       "        vertical-align: top;\n",
       "    }\n",
       "\n",
       "    .dataframe thead th {\n",
       "        text-align: right;\n",
       "    }\n",
       "</style>\n",
       "<table border=\"1\" class=\"dataframe\">\n",
       "  <thead>\n",
       "    <tr style=\"text-align: right;\">\n",
       "      <th></th>\n",
       "      <th>diag_code</th>\n",
       "      <th>diag</th>\n",
       "      <th>age</th>\n",
       "      <th>sex</th>\n",
       "      <th>state</th>\n",
       "      <th>allergies</th>\n",
       "      <th>anamnesis</th>\n",
       "      <th>checkup</th>\n",
       "      <th>revisit</th>\n",
       "    </tr>\n",
       "  </thead>\n",
       "  <tbody>\n",
       "    <tr>\n",
       "      <th>count</th>\n",
       "      <td>283086</td>\n",
       "      <td>283086</td>\n",
       "      <td>283086.000000</td>\n",
       "      <td>283086.000000</td>\n",
       "      <td>41696</td>\n",
       "      <td>40908</td>\n",
       "      <td>203656</td>\n",
       "      <td>13295</td>\n",
       "      <td>283086.000000</td>\n",
       "    </tr>\n",
       "    <tr>\n",
       "      <th>unique</th>\n",
       "      <td>3437</td>\n",
       "      <td>3394</td>\n",
       "      <td>NaN</td>\n",
       "      <td>NaN</td>\n",
       "      <td>2942</td>\n",
       "      <td>5141</td>\n",
       "      <td>152589</td>\n",
       "      <td>779</td>\n",
       "      <td>NaN</td>\n",
       "    </tr>\n",
       "    <tr>\n",
       "      <th>top</th>\n",
       "      <td>N77.1*</td>\n",
       "      <td>Вагинит, вульвит и вульвовагинит при инфекцион...</td>\n",
       "      <td>NaN</td>\n",
       "      <td>NaN</td>\n",
       "      <td>Общее самочувствие удовлетворительное. Кожные ...</td>\n",
       "      <td>не отягощен</td>\n",
       "      <td>консультация по проведенному обследованию и ко...</td>\n",
       "      <td>удовлетворительное.</td>\n",
       "      <td>NaN</td>\n",
       "    </tr>\n",
       "    <tr>\n",
       "      <th>freq</th>\n",
       "      <td>11214</td>\n",
       "      <td>11214</td>\n",
       "      <td>NaN</td>\n",
       "      <td>NaN</td>\n",
       "      <td>8960</td>\n",
       "      <td>17361</td>\n",
       "      <td>3025</td>\n",
       "      <td>6622</td>\n",
       "      <td>NaN</td>\n",
       "    </tr>\n",
       "    <tr>\n",
       "      <th>mean</th>\n",
       "      <td>NaN</td>\n",
       "      <td>NaN</td>\n",
       "      <td>41.696905</td>\n",
       "      <td>1.708347</td>\n",
       "      <td>NaN</td>\n",
       "      <td>NaN</td>\n",
       "      <td>NaN</td>\n",
       "      <td>NaN</td>\n",
       "      <td>0.828639</td>\n",
       "    </tr>\n",
       "    <tr>\n",
       "      <th>std</th>\n",
       "      <td>NaN</td>\n",
       "      <td>NaN</td>\n",
       "      <td>21.540704</td>\n",
       "      <td>0.454524</td>\n",
       "      <td>NaN</td>\n",
       "      <td>NaN</td>\n",
       "      <td>NaN</td>\n",
       "      <td>NaN</td>\n",
       "      <td>0.376825</td>\n",
       "    </tr>\n",
       "    <tr>\n",
       "      <th>min</th>\n",
       "      <td>NaN</td>\n",
       "      <td>NaN</td>\n",
       "      <td>1.000000</td>\n",
       "      <td>1.000000</td>\n",
       "      <td>NaN</td>\n",
       "      <td>NaN</td>\n",
       "      <td>NaN</td>\n",
       "      <td>NaN</td>\n",
       "      <td>0.000000</td>\n",
       "    </tr>\n",
       "    <tr>\n",
       "      <th>25%</th>\n",
       "      <td>NaN</td>\n",
       "      <td>NaN</td>\n",
       "      <td>31.000000</td>\n",
       "      <td>1.000000</td>\n",
       "      <td>NaN</td>\n",
       "      <td>NaN</td>\n",
       "      <td>NaN</td>\n",
       "      <td>NaN</td>\n",
       "      <td>1.000000</td>\n",
       "    </tr>\n",
       "    <tr>\n",
       "      <th>50%</th>\n",
       "      <td>NaN</td>\n",
       "      <td>NaN</td>\n",
       "      <td>38.000000</td>\n",
       "      <td>2.000000</td>\n",
       "      <td>NaN</td>\n",
       "      <td>NaN</td>\n",
       "      <td>NaN</td>\n",
       "      <td>NaN</td>\n",
       "      <td>1.000000</td>\n",
       "    </tr>\n",
       "    <tr>\n",
       "      <th>75%</th>\n",
       "      <td>NaN</td>\n",
       "      <td>NaN</td>\n",
       "      <td>51.000000</td>\n",
       "      <td>2.000000</td>\n",
       "      <td>NaN</td>\n",
       "      <td>NaN</td>\n",
       "      <td>NaN</td>\n",
       "      <td>NaN</td>\n",
       "      <td>1.000000</td>\n",
       "    </tr>\n",
       "    <tr>\n",
       "      <th>max</th>\n",
       "      <td>NaN</td>\n",
       "      <td>NaN</td>\n",
       "      <td>2017.000000</td>\n",
       "      <td>2.000000</td>\n",
       "      <td>NaN</td>\n",
       "      <td>NaN</td>\n",
       "      <td>NaN</td>\n",
       "      <td>NaN</td>\n",
       "      <td>1.000000</td>\n",
       "    </tr>\n",
       "  </tbody>\n",
       "</table>\n",
       "</div>"
      ],
      "text/plain": [
       "       diag_code                                               diag  \\\n",
       "count     283086                                             283086   \n",
       "unique      3437                                               3394   \n",
       "top       N77.1*  Вагинит, вульвит и вульвовагинит при инфекцион...   \n",
       "freq       11214                                              11214   \n",
       "mean         NaN                                                NaN   \n",
       "std          NaN                                                NaN   \n",
       "min          NaN                                                NaN   \n",
       "25%          NaN                                                NaN   \n",
       "50%          NaN                                                NaN   \n",
       "75%          NaN                                                NaN   \n",
       "max          NaN                                                NaN   \n",
       "\n",
       "                  age            sex  \\\n",
       "count   283086.000000  283086.000000   \n",
       "unique            NaN            NaN   \n",
       "top               NaN            NaN   \n",
       "freq              NaN            NaN   \n",
       "mean        41.696905       1.708347   \n",
       "std         21.540704       0.454524   \n",
       "min          1.000000       1.000000   \n",
       "25%         31.000000       1.000000   \n",
       "50%         38.000000       2.000000   \n",
       "75%         51.000000       2.000000   \n",
       "max       2017.000000       2.000000   \n",
       "\n",
       "                                                    state    allergies  \\\n",
       "count                                               41696        40908   \n",
       "unique                                               2942         5141   \n",
       "top     Общее самочувствие удовлетворительное. Кожные ...  не отягощен   \n",
       "freq                                                 8960        17361   \n",
       "mean                                                  NaN          NaN   \n",
       "std                                                   NaN          NaN   \n",
       "min                                                   NaN          NaN   \n",
       "25%                                                   NaN          NaN   \n",
       "50%                                                   NaN          NaN   \n",
       "75%                                                   NaN          NaN   \n",
       "max                                                   NaN          NaN   \n",
       "\n",
       "                                                anamnesis  \\\n",
       "count                                              203656   \n",
       "unique                                             152589   \n",
       "top     консультация по проведенному обследованию и ко...   \n",
       "freq                                                 3025   \n",
       "mean                                                  NaN   \n",
       "std                                                   NaN   \n",
       "min                                                   NaN   \n",
       "25%                                                   NaN   \n",
       "50%                                                   NaN   \n",
       "75%                                                   NaN   \n",
       "max                                                   NaN   \n",
       "\n",
       "                    checkup        revisit  \n",
       "count                 13295  283086.000000  \n",
       "unique                  779            NaN  \n",
       "top     удовлетворительное.            NaN  \n",
       "freq                   6622            NaN  \n",
       "mean                    NaN       0.828639  \n",
       "std                     NaN       0.376825  \n",
       "min                     NaN       0.000000  \n",
       "25%                     NaN       1.000000  \n",
       "50%                     NaN       1.000000  \n",
       "75%                     NaN       1.000000  \n",
       "max                     NaN       1.000000  "
      ]
     },
     "execution_count": 6,
     "metadata": {},
     "output_type": "execute_result"
    }
   ],
   "source": [
    "df.describe(include='all')"
   ]
  },
  {
   "cell_type": "code",
   "execution_count": 7,
   "metadata": {},
   "outputs": [
    {
     "data": {
      "text/plain": [
       "diag_code    object\n",
       "diag         object\n",
       "age           int64\n",
       "sex           int64\n",
       "state        object\n",
       "allergies    object\n",
       "anamnesis    object\n",
       "checkup      object\n",
       "revisit       int64\n",
       "dtype: object"
      ]
     },
     "execution_count": 7,
     "metadata": {},
     "output_type": "execute_result"
    }
   ],
   "source": [
    "df.dtypes"
   ]
  },
  {
   "cell_type": "code",
   "execution_count": 8,
   "metadata": {},
   "outputs": [
    {
     "data": {
      "image/png": "[encoded data removed]",
      "text/plain": [
       "<matplotlib.figure.Figure at 0x2b13ff215208>"
      ]
     },
     "metadata": {},
     "output_type": "display_data"
    }
   ],
   "source": [
    "age = df.age.copy()\n",
    "age[age > 120] = None\n",
    "age.plot('hist');"
   ]
  },
  {
   "cell_type": "markdown",
   "metadata": {},
   "source": [
    "## Test analysis"
   ]
  },
  {
   "cell_type": "markdown",
   "metadata": {},
   "source": [
    "### Look up"
   ]
  },
  {
   "cell_type": "code",
   "execution_count": 9,
   "metadata": {},
   "outputs": [
    {
     "data": {
      "text/html": [
       "<div>\n",
       "<style scoped>\n",
       "    .dataframe tbody tr th:only-of-type {\n",
       "        vertical-align: middle;\n",
       "    }\n",
       "\n",
       "    .dataframe tbody tr th {\n",
       "        vertical-align: top;\n",
       "    }\n",
       "\n",
       "    .dataframe thead th {\n",
       "        text-align: right;\n",
       "    }\n",
       "</style>\n",
       "<table border=\"1\" class=\"dataframe\">\n",
       "  <thead>\n",
       "    <tr style=\"text-align: right;\">\n",
       "      <th></th>\n",
       "      <th>diag_code</th>\n",
       "      <th>diag</th>\n",
       "      <th>age</th>\n",
       "      <th>sex</th>\n",
       "      <th>state</th>\n",
       "      <th>allergies</th>\n",
       "      <th>anamnesis</th>\n",
       "      <th>checkup</th>\n",
       "    </tr>\n",
       "  </thead>\n",
       "  <tbody>\n",
       "    <tr>\n",
       "      <th>0</th>\n",
       "      <td>Z39.2</td>\n",
       "      <td>Рутинное послеродовое наблюдение</td>\n",
       "      <td>41</td>\n",
       "      <td>2</td>\n",
       "      <td>Общее самочувствие удовлетворительное. Кожные ...</td>\n",
       "      <td>Аллергию на лекарства - отрицает.</td>\n",
       "      <td>NaN</td>\n",
       "      <td>NaN</td>\n",
       "    </tr>\n",
       "    <tr>\n",
       "      <th>1</th>\n",
       "      <td>M54.2</td>\n",
       "      <td>Цервикалгия</td>\n",
       "      <td>64</td>\n",
       "      <td>2</td>\n",
       "      <td>NaN</td>\n",
       "      <td>не отягощен</td>\n",
       "      <td>NaN</td>\n",
       "      <td>NaN</td>\n",
       "    </tr>\n",
       "    <tr>\n",
       "      <th>2</th>\n",
       "      <td>M41</td>\n",
       "      <td>Сколиоз</td>\n",
       "      <td>34</td>\n",
       "      <td>2</td>\n",
       "      <td>Удовлетворительное. Температура тела - 36,6. С...</td>\n",
       "      <td>NaN</td>\n",
       "      <td>NaN</td>\n",
       "      <td>NaN</td>\n",
       "    </tr>\n",
       "    <tr>\n",
       "      <th>3</th>\n",
       "      <td>J31.2</td>\n",
       "      <td>Хронический фарингит</td>\n",
       "      <td>58</td>\n",
       "      <td>2</td>\n",
       "      <td>NaN</td>\n",
       "      <td>NaN</td>\n",
       "      <td>NaN</td>\n",
       "      <td>Общее состояние удовлетворительное. Конфигурац...</td>\n",
       "    </tr>\n",
       "    <tr>\n",
       "      <th>4</th>\n",
       "      <td>M21.4</td>\n",
       "      <td>Плоская стопа [pes planus] (приобретенная)</td>\n",
       "      <td>34</td>\n",
       "      <td>2</td>\n",
       "      <td>NaN</td>\n",
       "      <td>NaN</td>\n",
       "      <td>Жалобы сегодня с утра</td>\n",
       "      <td>NaN</td>\n",
       "    </tr>\n",
       "  </tbody>\n",
       "</table>\n",
       "</div>"
      ],
      "text/plain": [
       "  diag_code                                        diag  age  sex  \\\n",
       "0     Z39.2            Рутинное послеродовое наблюдение   41    2   \n",
       "1     M54.2                                 Цервикалгия   64    2   \n",
       "2       M41                                     Сколиоз   34    2   \n",
       "3     J31.2                        Хронический фарингит   58    2   \n",
       "4     M21.4  Плоская стопа [pes planus] (приобретенная)   34    2   \n",
       "\n",
       "                                               state  \\\n",
       "0  Общее самочувствие удовлетворительное. Кожные ...   \n",
       "1                                                NaN   \n",
       "2  Удовлетворительное. Температура тела - 36,6. С...   \n",
       "3                                                NaN   \n",
       "4                                                NaN   \n",
       "\n",
       "                           allergies              anamnesis  \\\n",
       "0  Аллергию на лекарства - отрицает.                    NaN   \n",
       "1                        не отягощен                    NaN   \n",
       "2                                NaN                    NaN   \n",
       "3                                NaN                    NaN   \n",
       "4                                NaN  Жалобы сегодня с утра   \n",
       "\n",
       "                                             checkup  \n",
       "0                                                NaN  \n",
       "1                                                NaN  \n",
       "2                                                NaN  \n",
       "3  Общее состояние удовлетворительное. Конфигурац...  \n",
       "4                                                NaN  "
      ]
     },
     "execution_count": 9,
     "metadata": {},
     "output_type": "execute_result"
    }
   ],
   "source": [
    "tdf = initial_pre(pd.read_csv(TEST_PATH))\n",
    "tdf.head()"
   ]
  },
  {
   "cell_type": "code",
   "execution_count": 10,
   "metadata": {},
   "outputs": [
    {
     "data": {
      "text/plain": [
       "2    200523\n",
       "1     82563\n",
       "Name: sex, dtype: int64"
      ]
     },
     "execution_count": 10,
     "metadata": {},
     "output_type": "execute_result"
    }
   ],
   "source": [
    "df.sex.value_counts()"
   ]
  },
  {
   "cell_type": "code",
   "execution_count": 11,
   "metadata": {},
   "outputs": [
    {
     "data": {
      "text/plain": [
       "2    66391\n",
       "1    33609\n",
       "Name: sex, dtype: int64"
      ]
     },
     "execution_count": 11,
     "metadata": {},
     "output_type": "execute_result"
    }
   ],
   "source": [
    "tdf.sex.value_counts()"
   ]
  },
  {
   "cell_type": "markdown",
   "metadata": {},
   "source": [
    "### Not in `tdf`"
   ]
  },
  {
   "cell_type": "code",
   "execution_count": 12,
   "metadata": {},
   "outputs": [],
   "source": [
    "def filter_not_in_test(df, tdf, column):\n",
    "    df = df.copy()\n",
    "    in_tdf = set(tdf.loc[:, column])\n",
    "    return df[df.loc[:, column].isin(in_tdf)].copy()"
   ]
  },
  {
   "cell_type": "code",
   "execution_count": 13,
   "metadata": {},
   "outputs": [
    {
     "data": {
      "application/vnd.jupyter.widget-view+json": {
       "model_id": "e9a5fd94a59d4cebad63ed8db9015cc7",
       "version_major": 2,
       "version_minor": 0
      },
      "text/html": [
       "<p>Failed to display Jupyter Widget of type <code>HBox</code>.</p>\n",
       "<p>\n",
       "  If you're reading this message in the Jupyter Notebook or JupyterLab Notebook, it may mean\n",
       "  that the widgets JavaScript is still loading. If this message persists, it\n",
       "  likely means that the widgets JavaScript library is either not installed or\n",
       "  not enabled. See the <a href=\"https://ipywidgets.readthedocs.io/en/stable/user_install.html\">Jupyter\n",
       "  Widgets Documentation</a> for setup instructions.\n",
       "</p>\n",
       "<p>\n",
       "  If you're reading this message in another frontend (for example, a static\n",
       "  rendering on GitHub or <a href=\"https://nbviewer.jupyter.org/\">NBViewer</a>),\n",
       "  it may mean that your frontend doesn't currently support widgets.\n",
       "</p>\n"
      ],
      "text/plain": [
       "HBox(children=(IntProgress(value=0, max=9), HTML(value='')))"
      ]
     },
     "metadata": {},
     "output_type": "display_data"
    },
    {
     "name": "stdout",
     "output_type": "stream",
     "text": [
      "after diag_code (280470, 9)\n",
      "after diag (280470, 9)\n",
      "after age (280456, 9)\n",
      "after sex (280456, 9)\n",
      "after state (278242, 9)\n",
      "after allergies (274857, 9)\n",
      "after checkup (274572, 9)\n",
      "\n"
     ]
    },
    {
     "data": {
      "text/plain": [
       "(274572, 9)"
      ]
     },
     "execution_count": 13,
     "metadata": {},
     "output_type": "execute_result"
    }
   ],
   "source": [
    "for column in tqdm_notebook(df.columns):\n",
    "    if column not in {'revisit', 'anamnesis'}:\n",
    "        df = filter_not_in_test(df, tdf, column)\n",
    "        print('after', column, df.shape)\n",
    "df.shape"
   ]
  },
  {
   "cell_type": "markdown",
   "metadata": {},
   "source": [
    "### Strings"
   ]
  },
  {
   "cell_type": "code",
   "execution_count": 14,
   "metadata": {},
   "outputs": [],
   "source": [
    "def group_column(df, tdf, column):\n",
    "    df, tdf = df.copy(), tdf.copy()\n",
    "    columnv = pd.concat([df[column], tdf[column]])\n",
    "    cvc = columnv.value_counts()\n",
    "    bins = []\n",
    "    for s, c in tqdm_notebook(cvc.iteritems()):\n",
    "        max_id, max_score = None, None\n",
    "        for id_, bin_ in enumerate(bins):\n",
    "            cur_score = fuzz.ratio(s, bin_[0])\n",
    "            if max_score is None or cur_score > max_score:\n",
    "                max_id = id_\n",
    "                max_score = cur_score\n",
    "        if max_id is not None and max_score > 50:\n",
    "            bins[max_id].append(s)\n",
    "        else:\n",
    "            bins.append([s])\n",
    "    remap_dict = {}\n",
    "    for bin_ in bins:\n",
    "        base = bin_[0]\n",
    "        for v in bin_:\n",
    "            remap_dict[v] = base\n",
    "    df[column] = df[column].apply(lambda x: remap_dict[x] if x in remap_dict else x)\n",
    "    tdf[column] = tdf[column].apply(lambda x: remap_dict[x] if x in remap_dict else x)\n",
    "    return df, tdf"
   ]
  },
  {
   "cell_type": "code",
   "execution_count": 15,
   "metadata": {},
   "outputs": [
    {
     "data": {
      "application/vnd.jupyter.widget-view+json": {
       "model_id": "a6214aca6543466286d825956084e339",
       "version_major": 2,
       "version_minor": 0
      },
      "text/html": [
       "<p>Failed to display Jupyter Widget of type <code>HBox</code>.</p>\n",
       "<p>\n",
       "  If you're reading this message in the Jupyter Notebook or JupyterLab Notebook, it may mean\n",
       "  that the widgets JavaScript is still loading. If this message persists, it\n",
       "  likely means that the widgets JavaScript library is either not installed or\n",
       "  not enabled. See the <a href=\"https://ipywidgets.readthedocs.io/en/stable/user_install.html\">Jupyter\n",
       "  Widgets Documentation</a> for setup instructions.\n",
       "</p>\n",
       "<p>\n",
       "  If you're reading this message in another frontend (for example, a static\n",
       "  rendering on GitHub or <a href=\"https://nbviewer.jupyter.org/\">NBViewer</a>),\n",
       "  it may mean that your frontend doesn't currently support widgets.\n",
       "</p>\n"
      ],
      "text/plain": [
       "HBox(children=(IntProgress(value=0, max=3), HTML(value='')))"
      ]
     },
     "metadata": {},
     "output_type": "display_data"
    },
    {
     "data": {
      "application/vnd.jupyter.widget-view+json": {
       "model_id": "9aa537e72ba24498a7768beb9bcc58f5",
       "version_major": 2,
       "version_minor": 0
      },
      "text/html": [
       "<p>Failed to display Jupyter Widget of type <code>HBox</code>.</p>\n",
       "<p>\n",
       "  If you're reading this message in the Jupyter Notebook or JupyterLab Notebook, it may mean\n",
       "  that the widgets JavaScript is still loading. If this message persists, it\n",
       "  likely means that the widgets JavaScript library is either not installed or\n",
       "  not enabled. See the <a href=\"https://ipywidgets.readthedocs.io/en/stable/user_install.html\">Jupyter\n",
       "  Widgets Documentation</a> for setup instructions.\n",
       "</p>\n",
       "<p>\n",
       "  If you're reading this message in another frontend (for example, a static\n",
       "  rendering on GitHub or <a href=\"https://nbviewer.jupyter.org/\">NBViewer</a>),\n",
       "  it may mean that your frontend doesn't currently support widgets.\n",
       "</p>\n"
      ],
      "text/plain": [
       "HBox(children=(IntProgress(value=1, bar_style='info', max=1), HTML(value='')))"
      ]
     },
     "metadata": {},
     "output_type": "display_data"
    },
    {
     "data": {
      "application/vnd.jupyter.widget-view+json": {
       "model_id": "e395841370204dfa9f44420740a6d644",
       "version_major": 2,
       "version_minor": 0
      },
      "text/html": [
       "<p>Failed to display Jupyter Widget of type <code>HBox</code>.</p>\n",
       "<p>\n",
       "  If you're reading this message in the Jupyter Notebook or JupyterLab Notebook, it may mean\n",
       "  that the widgets JavaScript is still loading. If this message persists, it\n",
       "  likely means that the widgets JavaScript library is either not installed or\n",
       "  not enabled. See the <a href=\"https://ipywidgets.readthedocs.io/en/stable/user_install.html\">Jupyter\n",
       "  Widgets Documentation</a> for setup instructions.\n",
       "</p>\n",
       "<p>\n",
       "  If you're reading this message in another frontend (for example, a static\n",
       "  rendering on GitHub or <a href=\"https://nbviewer.jupyter.org/\">NBViewer</a>),\n",
       "  it may mean that your frontend doesn't currently support widgets.\n",
       "</p>\n"
      ],
      "text/plain": [
       "HBox(children=(IntProgress(value=1, bar_style='info', max=1), HTML(value='')))"
      ]
     },
     "metadata": {},
     "output_type": "display_data"
    },
    {
     "data": {
      "application/vnd.jupyter.widget-view+json": {
       "model_id": "e06b801ffb364ae28c8572e48a541a56",
       "version_major": 2,
       "version_minor": 0
      },
      "text/html": [
       "<p>Failed to display Jupyter Widget of type <code>HBox</code>.</p>\n",
       "<p>\n",
       "  If you're reading this message in the Jupyter Notebook or JupyterLab Notebook, it may mean\n",
       "  that the widgets JavaScript is still loading. If this message persists, it\n",
       "  likely means that the widgets JavaScript library is either not installed or\n",
       "  not enabled. See the <a href=\"https://ipywidgets.readthedocs.io/en/stable/user_install.html\">Jupyter\n",
       "  Widgets Documentation</a> for setup instructions.\n",
       "</p>\n",
       "<p>\n",
       "  If you're reading this message in another frontend (for example, a static\n",
       "  rendering on GitHub or <a href=\"https://nbviewer.jupyter.org/\">NBViewer</a>),\n",
       "  it may mean that your frontend doesn't currently support widgets.\n",
       "</p>\n"
      ],
      "text/plain": [
       "HBox(children=(IntProgress(value=1, bar_style='info', max=1), HTML(value='')))"
      ]
     },
     "metadata": {},
     "output_type": "display_data"
    },
    {
     "name": "stdout",
     "output_type": "stream",
     "text": [
      "\n"
     ]
    },
    {
     "data": {
      "text/plain": [
       "((274572, 9), (100000, 8))"
      ]
     },
     "execution_count": 15,
     "metadata": {},
     "output_type": "execute_result"
    }
   ],
   "source": [
    "SIMILAR_TEXT_COLUMNS = ['state', 'allergies', 'checkup']\n",
    "for column in tqdm_notebook(SIMILAR_TEXT_COLUMNS):\n",
    "    df, tdf = group_column(df, tdf, column)\n",
    "df.shape, tdf.shape"
   ]
  },
  {
   "cell_type": "markdown",
   "metadata": {},
   "source": [
    "## Preprocess"
   ]
  },
  {
   "cell_type": "markdown",
   "metadata": {},
   "source": [
    "### Only `anamnesis`"
   ]
  },
  {
   "cell_type": "code",
   "execution_count": 16,
   "metadata": {},
   "outputs": [],
   "source": [
    "# def make_textclf_data(df, balance=False):\n",
    "#     X, y = df.anamnesis.fillna(''), df.revisit\n",
    "    \n",
    "#     if balance:\n",
    "#         n = y.value_counts().min()\n",
    "#         y0, y1 = y[y == 0].sample(n), y[y == 1].sample(n)\n",
    "#         X0, X1 = X[y0.index], X[y1.index]\n",
    "#         X, y = pd.concat([X0, X1], axis=0).sample(frac=1), pd.concat([y0, y1], axis=0).sample(frac=1)\n",
    "    \n",
    "#     return X, y"
   ]
  },
  {
   "cell_type": "markdown",
   "metadata": {},
   "source": [
    "### Features"
   ]
  },
  {
   "cell_type": "code",
   "execution_count": 17,
   "metadata": {},
   "outputs": [],
   "source": [
    "def parse_diag_code(diag_code, \n",
    "                    dc_pattern=re.compile('([A-Z])?([0-9][0-9])?(\\.([0-9]))?')):\n",
    "    m = dc_pattern.match(diag_code)\n",
    "    letter, code, subcode = m.group(1), m.group(2), m.group(4)\n",
    "    code = int(code) if code is not None else None\n",
    "    subcode = int(subcode) if subcode is not None else None\n",
    "    return letter, code, subcode"
   ]
  },
  {
   "cell_type": "code",
   "execution_count": 18,
   "metadata": {},
   "outputs": [],
   "source": [
    "class FFTransformer(BaseEstimator, TransformerMixin):\n",
    "    def __init__(self, sex_1d=None):\n",
    "        self.sex_1d = sex_1d\n",
    "        \n",
    "        self._tok = None\n",
    "    \n",
    "    def fit(self, df):\n",
    "        return self\n",
    "    \n",
    "    def transform(self, df):\n",
    "        df = df.copy()\n",
    "        \n",
    "        if self.sex_1d:\n",
    "            n = int((df.sex == 1).sum() / self.sex_1d)\n",
    "            df1 = df[df.sex == 1]\n",
    "            df2 = df[df.sex == 2].sample(n)\n",
    "            df = pd.concat([df1, df2], axis=0)\n",
    "    \n",
    "        features = []\n",
    "        # diag_code\n",
    "        features.append(pd.DataFrame(list(df.diag_code.apply(parse_diag_code)), \n",
    "                                     columns=['letter', 'code', 'subcode'],\n",
    "                                     dtype=object, index=df.index))\n",
    "        \n",
    "        # +disease\n",
    "        features.append(pd.DataFrame(list(df.diag_code.apply(get_disease_class)),\n",
    "                                    columns=['disease'],\n",
    "                                    dtype=object, index=df.index))\n",
    "        \n",
    "        # diag\n",
    "        features.append(df[['diag']])\n",
    "\n",
    "        # age\n",
    "        df.age = df.age.astype(float)\n",
    "        df.loc[df.age > 120, 'age'] = np.nan\n",
    "        features.append(df[['age']])\n",
    "\n",
    "        # sex\n",
    "        features.append(df[['sex']])\n",
    "\n",
    "        # state, allergies, checkup\n",
    "        features.append(df[['state', 'allergies', 'checkup']])\n",
    "        \n",
    "        # anamnesis\n",
    "        if self._tok is None:\n",
    "            self._tok = KTokenizer().fit(df.anamnesis)\n",
    "        features.append(pd.DataFrame(get_score(self._tok.transform(df.anamnesis)).astype(np.float64),\n",
    "                                     columns=['lstm_score'],\n",
    "                                     index=df.index))\n",
    "\n",
    "        data = pd.concat(features, axis=1)\n",
    "        data = data.apply(lambda c: c.fillna('NaN') if (c.dtype == object) else c)\n",
    "        if 'revisit' in df:\n",
    "            data = (data, df.revisit)\n",
    "\n",
    "        return data"
   ]
  },
  {
   "cell_type": "code",
   "execution_count": 19,
   "metadata": {},
   "outputs": [
    {
     "data": {
      "text/html": [
       "<div>\n",
       "<style scoped>\n",
       "    .dataframe tbody tr th:only-of-type {\n",
       "        vertical-align: middle;\n",
       "    }\n",
       "\n",
       "    .dataframe tbody tr th {\n",
       "        vertical-align: top;\n",
       "    }\n",
       "\n",
       "    .dataframe thead th {\n",
       "        text-align: right;\n",
       "    }\n",
       "</style>\n",
       "<table border=\"1\" class=\"dataframe\">\n",
       "  <thead>\n",
       "    <tr style=\"text-align: right;\">\n",
       "      <th></th>\n",
       "      <th>letter</th>\n",
       "      <th>code</th>\n",
       "      <th>subcode</th>\n",
       "      <th>disease</th>\n",
       "      <th>diag</th>\n",
       "      <th>age</th>\n",
       "      <th>sex</th>\n",
       "      <th>state</th>\n",
       "      <th>allergies</th>\n",
       "      <th>checkup</th>\n",
       "      <th>lstm_score</th>\n",
       "    </tr>\n",
       "  </thead>\n",
       "  <tbody>\n",
       "    <tr>\n",
       "      <th>0</th>\n",
       "      <td>J</td>\n",
       "      <td>6</td>\n",
       "      <td>0</td>\n",
       "      <td>10</td>\n",
       "      <td>Острый ларингофарингит</td>\n",
       "      <td>29.0</td>\n",
       "      <td>2</td>\n",
       "      <td>NaN</td>\n",
       "      <td>NaN</td>\n",
       "      <td>На жевательной поверхности  глубокая кариозная...</td>\n",
       "      <td>0.920493</td>\n",
       "    </tr>\n",
       "    <tr>\n",
       "      <th>1</th>\n",
       "      <td>N</td>\n",
       "      <td>76</td>\n",
       "      <td>1</td>\n",
       "      <td>14</td>\n",
       "      <td>Подострый и хронический вагинит</td>\n",
       "      <td>45.0</td>\n",
       "      <td>2</td>\n",
       "      <td>NaN</td>\n",
       "      <td>NaN</td>\n",
       "      <td>NaN</td>\n",
       "      <td>0.803220</td>\n",
       "    </tr>\n",
       "    <tr>\n",
       "      <th>2</th>\n",
       "      <td>L</td>\n",
       "      <td>23</td>\n",
       "      <td>9</td>\n",
       "      <td>12</td>\n",
       "      <td>Аллергический контактный дерматит, причина не ...</td>\n",
       "      <td>63.0</td>\n",
       "      <td>2</td>\n",
       "      <td>NaN</td>\n",
       "      <td>NaN</td>\n",
       "      <td>NaN</td>\n",
       "      <td>0.786751</td>\n",
       "    </tr>\n",
       "    <tr>\n",
       "      <th>3</th>\n",
       "      <td>N</td>\n",
       "      <td>48</td>\n",
       "      <td>1</td>\n",
       "      <td>14</td>\n",
       "      <td>Баланопостит</td>\n",
       "      <td>43.0</td>\n",
       "      <td>2</td>\n",
       "      <td>NaN</td>\n",
       "      <td>не отягощен</td>\n",
       "      <td>NaN</td>\n",
       "      <td>0.920493</td>\n",
       "    </tr>\n",
       "    <tr>\n",
       "      <th>4</th>\n",
       "      <td>Z</td>\n",
       "      <td>0</td>\n",
       "      <td>0</td>\n",
       "      <td>21</td>\n",
       "      <td>Общий медицинский осмотр</td>\n",
       "      <td>29.0</td>\n",
       "      <td>1</td>\n",
       "      <td>NaN</td>\n",
       "      <td>NaN</td>\n",
       "      <td>NaN</td>\n",
       "      <td>0.796461</td>\n",
       "    </tr>\n",
       "  </tbody>\n",
       "</table>\n",
       "</div>"
      ],
      "text/plain": [
       "  letter  code subcode  disease  \\\n",
       "0      J     6       0       10   \n",
       "1      N    76       1       14   \n",
       "2      L    23       9       12   \n",
       "3      N    48       1       14   \n",
       "4      Z     0       0       21   \n",
       "\n",
       "                                                diag   age  sex state  \\\n",
       "0                             Острый ларингофарингит  29.0    2   NaN   \n",
       "1                    Подострый и хронический вагинит  45.0    2   NaN   \n",
       "2  Аллергический контактный дерматит, причина не ...  63.0    2   NaN   \n",
       "3                                       Баланопостит  43.0    2   NaN   \n",
       "4                           Общий медицинский осмотр  29.0    1   NaN   \n",
       "\n",
       "     allergies                                            checkup  lstm_score  \n",
       "0          NaN  На жевательной поверхности  глубокая кариозная...    0.920493  \n",
       "1          NaN                                                NaN    0.803220  \n",
       "2          NaN                                                NaN    0.786751  \n",
       "3  не отягощен                                                NaN    0.920493  \n",
       "4          NaN                                                NaN    0.796461  "
      ]
     },
     "execution_count": 19,
     "metadata": {},
     "output_type": "execute_result"
    }
   ],
   "source": [
    "ff = FFTransformer()\n",
    "X, y = ff.fit_transform(df)\n",
    "X.head()"
   ]
  },
  {
   "cell_type": "code",
   "execution_count": 20,
   "metadata": {},
   "outputs": [
    {
     "data": {
      "text/plain": [
       "letter         object\n",
       "code            int64\n",
       "subcode        object\n",
       "disease         int64\n",
       "diag           object\n",
       "age           float64\n",
       "sex             int64\n",
       "state          object\n",
       "allergies      object\n",
       "checkup        object\n",
       "lstm_score    float64\n",
       "dtype: object"
      ]
     },
     "execution_count": 20,
     "metadata": {},
     "output_type": "execute_result"
    }
   ],
   "source": [
    "X.dtypes"
   ]
  },
  {
   "cell_type": "code",
   "execution_count": 21,
   "metadata": {},
   "outputs": [
    {
     "data": {
      "text/plain": [
       "dtype('int64')"
      ]
     },
     "execution_count": 21,
     "metadata": {},
     "output_type": "execute_result"
    }
   ],
   "source": [
    "y.dtype"
   ]
  },
  {
   "cell_type": "markdown",
   "metadata": {},
   "source": [
    "## TT split"
   ]
  },
  {
   "cell_type": "code",
   "execution_count": 22,
   "metadata": {},
   "outputs": [
    {
     "data": {
      "text/plain": [
       "((247114, 11), (27458, 11), (100000, 11))"
      ]
     },
     "execution_count": 22,
     "metadata": {},
     "output_type": "execute_result"
    }
   ],
   "source": [
    "preprocess = FFTransformer()\n",
    "X, y = preprocess.fit_transform(df)\n",
    "cat_features = np.where(X.dtypes != np.float)[0]\n",
    "X_train, X_val, y_train, y_val = train_test_split(X, y, test_size=0.1)\n",
    "X_test = preprocess.transform(tdf)\n",
    "X_train.shape, X_val.shape, X_test.shape"
   ]
  },
  {
   "cell_type": "markdown",
   "metadata": {},
   "source": [
    "## CatBoost\n",
    "\n",
    "https://tech.yandex.com/catboost/doc/dg/concepts/parameter-tuning-docpage/"
   ]
  },
  {
   "cell_type": "code",
   "execution_count": 23,
   "metadata": {},
   "outputs": [],
   "source": [
    "import catboost as cb"
   ]
  },
  {
   "cell_type": "code",
   "execution_count": null,
   "metadata": {},
   "outputs": [
    {
     "name": "stdout",
     "output_type": "stream",
     "text": [
      "0:\tlearn: 0.6904809\ttest: 0.6952748\tbest: 0.6952748 (0)\ttotal: 347ms\tremaining: 5m 46s\n",
      "1:\tlearn: 0.6910003\ttest: 0.6957900\tbest: 0.6957900 (1)\ttotal: 641ms\tremaining: 5m 19s\n",
      "2:\tlearn: 0.6910720\ttest: 0.6956943\tbest: 0.6957900 (1)\ttotal: 910ms\tremaining: 5m 2s\n",
      "3:\tlearn: 0.6926009\ttest: 0.6969248\tbest: 0.6969248 (3)\ttotal: 1.16s\tremaining: 4m 49s\n",
      "4:\tlearn: 0.6944057\ttest: 0.6986782\tbest: 0.6986782 (4)\ttotal: 1.44s\tremaining: 4m 47s\n",
      "5:\tlearn: 0.6951321\ttest: 0.6999046\tbest: 0.6999046 (5)\ttotal: 1.74s\tremaining: 4m 48s\n",
      "6:\tlearn: 0.6954540\ttest: 0.7002483\tbest: 0.7002483 (6)\ttotal: 2.05s\tremaining: 4m 50s\n",
      "7:\tlearn: 0.6957601\ttest: 0.7008741\tbest: 0.7008741 (7)\ttotal: 2.28s\tremaining: 4m 42s\n",
      "8:\tlearn: 0.6964083\ttest: 0.7012709\tbest: 0.7012709 (8)\ttotal: 2.59s\tremaining: 4m 44s\n",
      "9:\tlearn: 0.6971304\ttest: 0.7018071\tbest: 0.7018071 (9)\ttotal: 2.88s\tremaining: 4m 45s\n",
      "10:\tlearn: 0.6974946\ttest: 0.7019037\tbest: 0.7019037 (10)\ttotal: 3.18s\tremaining: 4m 45s\n",
      "11:\tlearn: 0.6977231\ttest: 0.7019073\tbest: 0.7019073 (11)\ttotal: 3.45s\tremaining: 4m 44s\n",
      "12:\tlearn: 0.6978530\ttest: 0.7020344\tbest: 0.7020344 (12)\ttotal: 3.74s\tremaining: 4m 43s\n",
      "13:\tlearn: 0.6978379\ttest: 0.7020957\tbest: 0.7020957 (13)\ttotal: 4.04s\tremaining: 4m 44s\n",
      "14:\tlearn: 0.6981633\ttest: 0.7021374\tbest: 0.7021374 (14)\ttotal: 4.31s\tremaining: 4m 42s\n",
      "15:\tlearn: 0.6981530\ttest: 0.7023682\tbest: 0.7023682 (15)\ttotal: 4.61s\tremaining: 4m 43s\n",
      "16:\tlearn: 0.6989153\ttest: 0.7031679\tbest: 0.7031679 (16)\ttotal: 4.92s\tremaining: 4m 44s\n",
      "17:\tlearn: 0.6999735\ttest: 0.7039373\tbest: 0.7039373 (17)\ttotal: 5.21s\tremaining: 4m 44s\n",
      "18:\tlearn: 0.7008466\ttest: 0.7051424\tbest: 0.7051424 (18)\ttotal: 5.49s\tremaining: 4m 43s\n",
      "19:\tlearn: 0.7015182\ttest: 0.7059034\tbest: 0.7059034 (19)\ttotal: 5.75s\tremaining: 4m 42s\n",
      "20:\tlearn: 0.7022165\ttest: 0.7067410\tbest: 0.7067410 (20)\ttotal: 6.06s\tremaining: 4m 42s\n",
      "21:\tlearn: 0.7025103\ttest: 0.7070018\tbest: 0.7070018 (21)\ttotal: 6.31s\tremaining: 4m 40s\n",
      "22:\tlearn: 0.7027595\ttest: 0.7073902\tbest: 0.7073902 (22)\ttotal: 6.6s\tremaining: 4m 40s\n",
      "23:\tlearn: 0.7031707\ttest: 0.7076197\tbest: 0.7076197 (23)\ttotal: 6.9s\tremaining: 4m 40s\n",
      "24:\tlearn: 0.7033634\ttest: 0.7077977\tbest: 0.7077977 (24)\ttotal: 7.17s\tremaining: 4m 39s\n",
      "25:\tlearn: 0.7035924\ttest: 0.7079299\tbest: 0.7079299 (25)\ttotal: 7.44s\tremaining: 4m 38s\n",
      "26:\tlearn: 0.7037398\ttest: 0.7082147\tbest: 0.7082147 (26)\ttotal: 7.74s\tremaining: 4m 38s\n",
      "27:\tlearn: 0.7038590\ttest: 0.7082793\tbest: 0.7082793 (27)\ttotal: 8s\tremaining: 4m 37s\n",
      "28:\tlearn: 0.7041390\ttest: 0.7083345\tbest: 0.7083345 (28)\ttotal: 8.28s\tremaining: 4m 37s\n",
      "29:\tlearn: 0.7041529\ttest: 0.7082850\tbest: 0.7083345 (28)\ttotal: 8.56s\tremaining: 4m 36s\n",
      "30:\tlearn: 0.7043492\ttest: 0.7083368\tbest: 0.7083368 (30)\ttotal: 8.88s\tremaining: 4m 37s\n",
      "31:\tlearn: 0.7044300\ttest: 0.7084451\tbest: 0.7084451 (31)\ttotal: 9.14s\tremaining: 4m 36s\n",
      "32:\tlearn: 0.7045838\ttest: 0.7084006\tbest: 0.7084451 (31)\ttotal: 9.43s\tremaining: 4m 36s\n",
      "33:\tlearn: 0.7046534\ttest: 0.7084423\tbest: 0.7084451 (31)\ttotal: 9.74s\tremaining: 4m 36s\n",
      "34:\tlearn: 0.7047309\ttest: 0.7085478\tbest: 0.7085478 (34)\ttotal: 10s\tremaining: 4m 36s\n",
      "35:\tlearn: 0.7048780\ttest: 0.7086296\tbest: 0.7086296 (35)\ttotal: 10.4s\tremaining: 4m 37s\n",
      "36:\tlearn: 0.7051196\ttest: 0.7087951\tbest: 0.7087951 (36)\ttotal: 10.6s\tremaining: 4m 36s\n",
      "37:\tlearn: 0.7052397\ttest: 0.7088011\tbest: 0.7088011 (37)\ttotal: 11s\tremaining: 4m 37s\n",
      "38:\tlearn: 0.7054334\ttest: 0.7089202\tbest: 0.7089202 (38)\ttotal: 11.3s\tremaining: 4m 37s\n",
      "39:\tlearn: 0.7056186\ttest: 0.7091328\tbest: 0.7091328 (39)\ttotal: 11.5s\tremaining: 4m 37s\n",
      "40:\tlearn: 0.7058390\ttest: 0.7095417\tbest: 0.7095417 (40)\ttotal: 11.9s\tremaining: 4m 37s\n",
      "41:\tlearn: 0.7060811\ttest: 0.7098340\tbest: 0.7098340 (41)\ttotal: 12.2s\tremaining: 4m 37s\n",
      "42:\tlearn: 0.7063101\ttest: 0.7100471\tbest: 0.7100471 (42)\ttotal: 12.5s\tremaining: 4m 37s\n",
      "43:\tlearn: 0.7065091\ttest: 0.7103005\tbest: 0.7103005 (43)\ttotal: 12.8s\tremaining: 4m 37s\n",
      "44:\tlearn: 0.7067061\ttest: 0.7104642\tbest: 0.7104642 (44)\ttotal: 13.1s\tremaining: 4m 37s\n",
      "45:\tlearn: 0.7069370\ttest: 0.7107856\tbest: 0.7107856 (45)\ttotal: 13.4s\tremaining: 4m 37s\n",
      "46:\tlearn: 0.7072715\ttest: 0.7111614\tbest: 0.7111614 (46)\ttotal: 13.7s\tremaining: 4m 37s\n",
      "47:\tlearn: 0.7075418\ttest: 0.7114876\tbest: 0.7114876 (47)\ttotal: 14s\tremaining: 4m 38s\n",
      "48:\tlearn: 0.7077619\ttest: 0.7116724\tbest: 0.7116724 (48)\ttotal: 14.3s\tremaining: 4m 37s\n",
      "49:\tlearn: 0.7083413\ttest: 0.7123081\tbest: 0.7123081 (49)\ttotal: 14.6s\tremaining: 4m 38s\n",
      "50:\tlearn: 0.7088795\ttest: 0.7129213\tbest: 0.7129213 (50)\ttotal: 14.9s\tremaining: 4m 37s\n",
      "51:\tlearn: 0.7092533\ttest: 0.7133005\tbest: 0.7133005 (51)\ttotal: 15.2s\tremaining: 4m 36s\n",
      "52:\tlearn: 0.7096960\ttest: 0.7138007\tbest: 0.7138007 (52)\ttotal: 15.5s\tremaining: 4m 37s\n",
      "53:\tlearn: 0.7101543\ttest: 0.7142418\tbest: 0.7142418 (53)\ttotal: 15.8s\tremaining: 4m 36s\n",
      "54:\tlearn: 0.7104085\ttest: 0.7145282\tbest: 0.7145282 (54)\ttotal: 16.1s\tremaining: 4m 36s\n",
      "55:\tlearn: 0.7107325\ttest: 0.7148051\tbest: 0.7148051 (55)\ttotal: 16.4s\tremaining: 4m 36s\n",
      "56:\tlearn: 0.7110703\ttest: 0.7151080\tbest: 0.7151080 (56)\ttotal: 16.7s\tremaining: 4m 36s\n",
      "57:\tlearn: 0.7112338\ttest: 0.7152311\tbest: 0.7152311 (57)\ttotal: 17s\tremaining: 4m 36s\n",
      "58:\tlearn: 0.7114767\ttest: 0.7154585\tbest: 0.7154585 (58)\ttotal: 17.3s\tremaining: 4m 36s\n",
      "59:\tlearn: 0.7116699\ttest: 0.7156604\tbest: 0.7156604 (59)\ttotal: 17.6s\tremaining: 4m 35s\n",
      "60:\tlearn: 0.7118657\ttest: 0.7157376\tbest: 0.7157376 (60)\ttotal: 17.9s\tremaining: 4m 35s\n",
      "61:\tlearn: 0.7120194\ttest: 0.7158917\tbest: 0.7158917 (61)\ttotal: 18.2s\tremaining: 4m 35s\n",
      "62:\tlearn: 0.7122287\ttest: 0.7160925\tbest: 0.7160925 (62)\ttotal: 18.5s\tremaining: 4m 35s\n",
      "63:\tlearn: 0.7124385\ttest: 0.7162083\tbest: 0.7162083 (63)\ttotal: 18.8s\tremaining: 4m 35s\n",
      "64:\tlearn: 0.7127731\ttest: 0.7165800\tbest: 0.7165800 (64)\ttotal: 19.2s\tremaining: 4m 35s\n",
      "65:\tlearn: 0.7131649\ttest: 0.7169699\tbest: 0.7169699 (65)\ttotal: 19.5s\tremaining: 4m 35s\n",
      "66:\tlearn: 0.7136011\ttest: 0.7174156\tbest: 0.7174156 (66)\ttotal: 19.7s\tremaining: 4m 34s\n",
      "67:\tlearn: 0.7139491\ttest: 0.7178215\tbest: 0.7178215 (67)\ttotal: 20s\tremaining: 4m 34s\n",
      "68:\tlearn: 0.7142634\ttest: 0.7181266\tbest: 0.7181266 (68)\ttotal: 20.3s\tremaining: 4m 33s\n",
      "69:\tlearn: 0.7145740\ttest: 0.7184534\tbest: 0.7184534 (69)\ttotal: 20.6s\tremaining: 4m 33s\n",
      "70:\tlearn: 0.7147652\ttest: 0.7186652\tbest: 0.7186652 (70)\ttotal: 20.9s\tremaining: 4m 32s\n",
      "71:\tlearn: 0.7150173\ttest: 0.7189503\tbest: 0.7189503 (71)\ttotal: 21.1s\tremaining: 4m 32s\n",
      "72:\tlearn: 0.7152461\ttest: 0.7191843\tbest: 0.7191843 (72)\ttotal: 21.4s\tremaining: 4m 31s\n",
      "73:\tlearn: 0.7154481\ttest: 0.7194202\tbest: 0.7194202 (73)\ttotal: 21.7s\tremaining: 4m 31s\n",
      "74:\tlearn: 0.7156621\ttest: 0.7195774\tbest: 0.7195774 (74)\ttotal: 22s\tremaining: 4m 31s\n",
      "75:\tlearn: 0.7158354\ttest: 0.7197581\tbest: 0.7197581 (75)\ttotal: 22.3s\tremaining: 4m 30s\n",
      "76:\tlearn: 0.7160155\ttest: 0.7199014\tbest: 0.7199014 (76)\ttotal: 22.6s\tremaining: 4m 30s\n",
      "77:\tlearn: 0.7162226\ttest: 0.7200302\tbest: 0.7200302 (77)\ttotal: 22.9s\tremaining: 4m 30s\n",
      "78:\tlearn: 0.7164275\ttest: 0.7201778\tbest: 0.7201778 (78)\ttotal: 23.2s\tremaining: 4m 30s\n",
      "79:\tlearn: 0.7165913\ttest: 0.7203520\tbest: 0.7203520 (79)\ttotal: 23.5s\tremaining: 4m 30s\n",
      "80:\tlearn: 0.7167724\ttest: 0.7205419\tbest: 0.7205419 (80)\ttotal: 23.9s\tremaining: 4m 30s\n",
      "81:\tlearn: 0.7169160\ttest: 0.7207695\tbest: 0.7207695 (81)\ttotal: 24.2s\tremaining: 4m 30s\n",
      "82:\tlearn: 0.7170271\ttest: 0.7209201\tbest: 0.7209201 (82)\ttotal: 24.5s\tremaining: 4m 30s\n",
      "83:\tlearn: 0.7171513\ttest: 0.7210003\tbest: 0.7210003 (83)\ttotal: 24.8s\tremaining: 4m 30s\n",
      "84:\tlearn: 0.7173030\ttest: 0.7211151\tbest: 0.7211151 (84)\ttotal: 25.1s\tremaining: 4m 29s\n",
      "85:\tlearn: 0.7174461\ttest: 0.7212144\tbest: 0.7212144 (85)\ttotal: 25.4s\tremaining: 4m 29s\n",
      "86:\tlearn: 0.7175150\ttest: 0.7213030\tbest: 0.7213030 (86)\ttotal: 25.7s\tremaining: 4m 29s\n",
      "87:\tlearn: 0.7176241\ttest: 0.7213930\tbest: 0.7213930 (87)\ttotal: 26s\tremaining: 4m 29s\n",
      "88:\tlearn: 0.7177489\ttest: 0.7215227\tbest: 0.7215227 (88)\ttotal: 26.3s\tremaining: 4m 28s\n",
      "89:\tlearn: 0.7178658\ttest: 0.7216437\tbest: 0.7216437 (89)\ttotal: 26.5s\tremaining: 4m 28s\n",
      "90:\tlearn: 0.7179647\ttest: 0.7217107\tbest: 0.7217107 (90)\ttotal: 26.9s\tremaining: 4m 28s\n",
      "91:\tlearn: 0.7180730\ttest: 0.7218028\tbest: 0.7218028 (91)\ttotal: 27.2s\tremaining: 4m 28s\n",
      "92:\tlearn: 0.7181483\ttest: 0.7218557\tbest: 0.7218557 (92)\ttotal: 27.5s\tremaining: 4m 28s\n"
     ]
    },
    {
     "name": "stdout",
     "output_type": "stream",
     "text": [
      "93:\tlearn: 0.7182366\ttest: 0.7218639\tbest: 0.7218639 (93)\ttotal: 27.8s\tremaining: 4m 28s\n",
      "94:\tlearn: 0.7182934\ttest: 0.7219492\tbest: 0.7219492 (94)\ttotal: 28.1s\tremaining: 4m 27s\n",
      "95:\tlearn: 0.7183884\ttest: 0.7219829\tbest: 0.7219829 (95)\ttotal: 28.4s\tremaining: 4m 27s\n",
      "96:\tlearn: 0.7184519\ttest: 0.7220162\tbest: 0.7220162 (96)\ttotal: 28.7s\tremaining: 4m 27s\n",
      "97:\tlearn: 0.7185509\ttest: 0.7221402\tbest: 0.7221402 (97)\ttotal: 29s\tremaining: 4m 27s\n",
      "98:\tlearn: 0.7186163\ttest: 0.7221468\tbest: 0.7221468 (98)\ttotal: 29.3s\tremaining: 4m 26s\n",
      "99:\tlearn: 0.7186958\ttest: 0.7222133\tbest: 0.7222133 (99)\ttotal: 29.6s\tremaining: 4m 26s\n",
      "100:\tlearn: 0.7187830\ttest: 0.7222944\tbest: 0.7222944 (100)\ttotal: 29.9s\tremaining: 4m 26s\n",
      "101:\tlearn: 0.7188610\ttest: 0.7223424\tbest: 0.7223424 (101)\ttotal: 30.2s\tremaining: 4m 25s\n",
      "102:\tlearn: 0.7189634\ttest: 0.7224208\tbest: 0.7224208 (102)\ttotal: 30.5s\tremaining: 4m 25s\n",
      "103:\tlearn: 0.7190135\ttest: 0.7224124\tbest: 0.7224208 (102)\ttotal: 30.8s\tremaining: 4m 25s\n",
      "104:\tlearn: 0.7191022\ttest: 0.7224954\tbest: 0.7224954 (104)\ttotal: 31.2s\tremaining: 4m 25s\n",
      "105:\tlearn: 0.7191961\ttest: 0.7225317\tbest: 0.7225317 (105)\ttotal: 31.5s\tremaining: 4m 25s\n",
      "106:\tlearn: 0.7192413\ttest: 0.7225484\tbest: 0.7225484 (106)\ttotal: 31.8s\tremaining: 4m 25s\n",
      "107:\tlearn: 0.7193158\ttest: 0.7226106\tbest: 0.7226106 (107)\ttotal: 32.1s\tremaining: 4m 25s\n",
      "108:\tlearn: 0.7194227\ttest: 0.7226910\tbest: 0.7226910 (108)\ttotal: 32.4s\tremaining: 4m 24s\n",
      "109:\tlearn: 0.7195145\ttest: 0.7227452\tbest: 0.7227452 (109)\ttotal: 32.7s\tremaining: 4m 24s\n",
      "110:\tlearn: 0.7196477\ttest: 0.7228594\tbest: 0.7228594 (110)\ttotal: 33s\tremaining: 4m 24s\n",
      "111:\tlearn: 0.7197050\ttest: 0.7229273\tbest: 0.7229273 (111)\ttotal: 33.3s\tremaining: 4m 24s\n",
      "112:\tlearn: 0.7197784\ttest: 0.7229999\tbest: 0.7229999 (112)\ttotal: 33.6s\tremaining: 4m 23s\n",
      "113:\tlearn: 0.7198377\ttest: 0.7230487\tbest: 0.7230487 (113)\ttotal: 33.9s\tremaining: 4m 23s\n",
      "114:\tlearn: 0.7198808\ttest: 0.7230824\tbest: 0.7230824 (114)\ttotal: 34.2s\tremaining: 4m 23s\n",
      "115:\tlearn: 0.7199527\ttest: 0.7231343\tbest: 0.7231343 (115)\ttotal: 34.5s\tremaining: 4m 22s\n",
      "116:\tlearn: 0.7200313\ttest: 0.7232360\tbest: 0.7232360 (116)\ttotal: 34.8s\tremaining: 4m 22s\n",
      "117:\tlearn: 0.7201178\ttest: 0.7233870\tbest: 0.7233870 (117)\ttotal: 35.1s\tremaining: 4m 22s\n",
      "118:\tlearn: 0.7201392\ttest: 0.7234182\tbest: 0.7234182 (118)\ttotal: 35.4s\tremaining: 4m 22s\n",
      "119:\tlearn: 0.7201863\ttest: 0.7234561\tbest: 0.7234561 (119)\ttotal: 35.7s\tremaining: 4m 21s\n",
      "120:\tlearn: 0.7202801\ttest: 0.7235619\tbest: 0.7235619 (120)\ttotal: 36s\tremaining: 4m 21s\n",
      "121:\tlearn: 0.7203951\ttest: 0.7236285\tbest: 0.7236285 (121)\ttotal: 36.3s\tremaining: 4m 21s\n",
      "122:\tlearn: 0.7204577\ttest: 0.7236882\tbest: 0.7236882 (122)\ttotal: 36.6s\tremaining: 4m 21s\n",
      "123:\tlearn: 0.7205220\ttest: 0.7237520\tbest: 0.7237520 (123)\ttotal: 36.9s\tremaining: 4m 20s\n",
      "124:\tlearn: 0.7206057\ttest: 0.7237989\tbest: 0.7237989 (124)\ttotal: 37.2s\tremaining: 4m 20s\n",
      "125:\tlearn: 0.7206654\ttest: 0.7238648\tbest: 0.7238648 (125)\ttotal: 37.5s\tremaining: 4m 20s\n",
      "126:\tlearn: 0.7207152\ttest: 0.7239317\tbest: 0.7239317 (126)\ttotal: 37.8s\tremaining: 4m 19s\n",
      "127:\tlearn: 0.7207747\ttest: 0.7239854\tbest: 0.7239854 (127)\ttotal: 38.2s\tremaining: 4m 19s\n",
      "128:\tlearn: 0.7208356\ttest: 0.7240227\tbest: 0.7240227 (128)\ttotal: 38.5s\tremaining: 4m 19s\n",
      "129:\tlearn: 0.7208641\ttest: 0.7240311\tbest: 0.7240311 (129)\ttotal: 38.8s\tremaining: 4m 19s\n",
      "130:\tlearn: 0.7208825\ttest: 0.7240474\tbest: 0.7240474 (130)\ttotal: 39.1s\tremaining: 4m 19s\n",
      "131:\tlearn: 0.7209560\ttest: 0.7240774\tbest: 0.7240774 (131)\ttotal: 39.4s\tremaining: 4m 19s\n",
      "132:\tlearn: 0.7210247\ttest: 0.7241072\tbest: 0.7241072 (132)\ttotal: 39.8s\tremaining: 4m 19s\n",
      "133:\tlearn: 0.7210530\ttest: 0.7241311\tbest: 0.7241311 (133)\ttotal: 40s\tremaining: 4m 18s\n",
      "134:\tlearn: 0.7211103\ttest: 0.7241977\tbest: 0.7241977 (134)\ttotal: 40.3s\tremaining: 4m 18s\n",
      "135:\tlearn: 0.7211648\ttest: 0.7242408\tbest: 0.7242408 (135)\ttotal: 40.7s\tremaining: 4m 18s\n",
      "136:\tlearn: 0.7211956\ttest: 0.7242549\tbest: 0.7242549 (136)\ttotal: 41s\tremaining: 4m 18s\n",
      "137:\tlearn: 0.7212486\ttest: 0.7242789\tbest: 0.7242789 (137)\ttotal: 41.3s\tremaining: 4m 18s\n",
      "138:\tlearn: 0.7213107\ttest: 0.7243105\tbest: 0.7243105 (138)\ttotal: 41.6s\tremaining: 4m 17s\n",
      "139:\tlearn: 0.7213374\ttest: 0.7243190\tbest: 0.7243190 (139)\ttotal: 42s\tremaining: 4m 17s\n",
      "140:\tlearn: 0.7213518\ttest: 0.7243314\tbest: 0.7243314 (140)\ttotal: 42.3s\tremaining: 4m 17s\n",
      "141:\tlearn: 0.7213914\ttest: 0.7243698\tbest: 0.7243698 (141)\ttotal: 42.6s\tremaining: 4m 17s\n",
      "142:\tlearn: 0.7214870\ttest: 0.7243986\tbest: 0.7243986 (142)\ttotal: 42.9s\tremaining: 4m 17s\n",
      "143:\tlearn: 0.7215287\ttest: 0.7244184\tbest: 0.7244184 (143)\ttotal: 43.2s\tremaining: 4m 17s\n",
      "144:\tlearn: 0.7216492\ttest: 0.7244877\tbest: 0.7244877 (144)\ttotal: 43.6s\tremaining: 4m 16s\n",
      "145:\tlearn: 0.7216840\ttest: 0.7244952\tbest: 0.7244952 (145)\ttotal: 43.9s\tremaining: 4m 16s\n",
      "146:\tlearn: 0.7217127\ttest: 0.7245011\tbest: 0.7245011 (146)\ttotal: 44.3s\tremaining: 4m 16s\n",
      "147:\tlearn: 0.7217386\ttest: 0.7245356\tbest: 0.7245356 (147)\ttotal: 44.6s\tremaining: 4m 16s\n",
      "148:\tlearn: 0.7217570\ttest: 0.7245330\tbest: 0.7245356 (147)\ttotal: 45s\tremaining: 4m 16s\n",
      "149:\tlearn: 0.7218277\ttest: 0.7245216\tbest: 0.7245356 (147)\ttotal: 45.3s\tremaining: 4m 16s\n",
      "150:\tlearn: 0.7218857\ttest: 0.7245631\tbest: 0.7245631 (150)\ttotal: 45.7s\tremaining: 4m 16s\n",
      "151:\tlearn: 0.7219341\ttest: 0.7245685\tbest: 0.7245685 (151)\ttotal: 46s\tremaining: 4m 16s\n",
      "152:\tlearn: 0.7219840\ttest: 0.7246046\tbest: 0.7246046 (152)\ttotal: 46.4s\tremaining: 4m 16s\n",
      "153:\tlearn: 0.7220002\ttest: 0.7246307\tbest: 0.7246307 (153)\ttotal: 46.7s\tremaining: 4m 16s\n",
      "154:\tlearn: 0.7220741\ttest: 0.7246979\tbest: 0.7246979 (154)\ttotal: 47s\tremaining: 4m 16s\n",
      "155:\tlearn: 0.7221142\ttest: 0.7247097\tbest: 0.7247097 (155)\ttotal: 47.3s\tremaining: 4m 15s\n",
      "156:\tlearn: 0.7221459\ttest: 0.7246970\tbest: 0.7247097 (155)\ttotal: 47.6s\tremaining: 4m 15s\n",
      "157:\tlearn: 0.7222434\ttest: 0.7247474\tbest: 0.7247474 (157)\ttotal: 47.9s\tremaining: 4m 15s\n",
      "158:\tlearn: 0.7223116\ttest: 0.7247742\tbest: 0.7247742 (158)\ttotal: 48.3s\tremaining: 4m 15s\n",
      "159:\tlearn: 0.7223287\ttest: 0.7247689\tbest: 0.7247742 (158)\ttotal: 48.7s\tremaining: 4m 15s\n",
      "160:\tlearn: 0.7223951\ttest: 0.7248127\tbest: 0.7248127 (160)\ttotal: 49s\tremaining: 4m 15s\n",
      "161:\tlearn: 0.7224298\ttest: 0.7248310\tbest: 0.7248310 (161)\ttotal: 49.4s\tremaining: 4m 15s\n",
      "162:\tlearn: 0.7224894\ttest: 0.7248365\tbest: 0.7248365 (162)\ttotal: 49.7s\tremaining: 4m 15s\n",
      "163:\tlearn: 0.7225200\ttest: 0.7248544\tbest: 0.7248544 (163)\ttotal: 50.1s\tremaining: 4m 15s\n",
      "164:\tlearn: 0.7225939\ttest: 0.7248792\tbest: 0.7248792 (164)\ttotal: 50.4s\tremaining: 4m 15s\n",
      "165:\tlearn: 0.7226461\ttest: 0.7249261\tbest: 0.7249261 (165)\ttotal: 50.8s\tremaining: 4m 15s\n",
      "166:\tlearn: 0.7226780\ttest: 0.7249591\tbest: 0.7249591 (166)\ttotal: 51.1s\tremaining: 4m 14s\n",
      "167:\tlearn: 0.7227267\ttest: 0.7249899\tbest: 0.7249899 (167)\ttotal: 51.5s\tremaining: 4m 14s\n",
      "168:\tlearn: 0.7227808\ttest: 0.7250230\tbest: 0.7250230 (168)\ttotal: 51.8s\tremaining: 4m 14s\n",
      "169:\tlearn: 0.7228198\ttest: 0.7250605\tbest: 0.7250605 (169)\ttotal: 52.1s\tremaining: 4m 14s\n",
      "170:\tlearn: 0.7228424\ttest: 0.7250771\tbest: 0.7250771 (170)\ttotal: 52.5s\tremaining: 4m 14s\n",
      "171:\tlearn: 0.7229018\ttest: 0.7251132\tbest: 0.7251132 (171)\ttotal: 52.8s\tremaining: 4m 14s\n",
      "172:\tlearn: 0.7229518\ttest: 0.7251276\tbest: 0.7251276 (172)\ttotal: 53.1s\tremaining: 4m 13s\n",
      "173:\tlearn: 0.7229977\ttest: 0.7251449\tbest: 0.7251449 (173)\ttotal: 53.3s\tremaining: 4m 13s\n",
      "174:\tlearn: 0.7230326\ttest: 0.7251522\tbest: 0.7251522 (174)\ttotal: 53.7s\tremaining: 4m 13s\n",
      "175:\tlearn: 0.7230435\ttest: 0.7251497\tbest: 0.7251522 (174)\ttotal: 54.1s\tremaining: 4m 13s\n",
      "176:\tlearn: 0.7230868\ttest: 0.7251655\tbest: 0.7251655 (176)\ttotal: 54.4s\tremaining: 4m 12s\n",
      "177:\tlearn: 0.7231138\ttest: 0.7251670\tbest: 0.7251670 (177)\ttotal: 54.8s\tremaining: 4m 12s\n",
      "178:\tlearn: 0.7231736\ttest: 0.7251871\tbest: 0.7251871 (178)\ttotal: 55.1s\tremaining: 4m 12s\n",
      "179:\tlearn: 0.7232007\ttest: 0.7252019\tbest: 0.7252019 (179)\ttotal: 55.5s\tremaining: 4m 12s\n",
      "180:\tlearn: 0.7232654\ttest: 0.7252081\tbest: 0.7252081 (180)\ttotal: 55.9s\tremaining: 4m 12s\n",
      "181:\tlearn: 0.7233044\ttest: 0.7252298\tbest: 0.7252298 (181)\ttotal: 56.2s\tremaining: 4m 12s\n",
      "182:\tlearn: 0.7233496\ttest: 0.7252404\tbest: 0.7252404 (182)\ttotal: 56.6s\tremaining: 4m 12s\n",
      "183:\tlearn: 0.7233776\ttest: 0.7252664\tbest: 0.7252664 (183)\ttotal: 56.9s\tremaining: 4m 12s\n"
     ]
    },
    {
     "name": "stdout",
     "output_type": "stream",
     "text": [
      "184:\tlearn: 0.7234291\ttest: 0.7252471\tbest: 0.7252664 (183)\ttotal: 57.3s\tremaining: 4m 12s\n",
      "185:\tlearn: 0.7234511\ttest: 0.7252395\tbest: 0.7252664 (183)\ttotal: 57.6s\tremaining: 4m 12s\n",
      "186:\tlearn: 0.7234753\ttest: 0.7252451\tbest: 0.7252664 (183)\ttotal: 58s\tremaining: 4m 12s\n",
      "187:\tlearn: 0.7235176\ttest: 0.7252644\tbest: 0.7252664 (183)\ttotal: 58.3s\tremaining: 4m 11s\n",
      "188:\tlearn: 0.7235443\ttest: 0.7252696\tbest: 0.7252696 (188)\ttotal: 58.6s\tremaining: 4m 11s\n",
      "189:\tlearn: 0.7236204\ttest: 0.7253096\tbest: 0.7253096 (189)\ttotal: 59s\tremaining: 4m 11s\n",
      "190:\tlearn: 0.7236561\ttest: 0.7253174\tbest: 0.7253174 (190)\ttotal: 59.3s\tremaining: 4m 11s\n",
      "191:\tlearn: 0.7236891\ttest: 0.7253105\tbest: 0.7253174 (190)\ttotal: 59.7s\tremaining: 4m 11s\n",
      "192:\tlearn: 0.7237125\ttest: 0.7253364\tbest: 0.7253364 (192)\ttotal: 1m\tremaining: 4m 11s\n",
      "193:\tlearn: 0.7237403\ttest: 0.7253416\tbest: 0.7253416 (193)\ttotal: 1m\tremaining: 4m 10s\n",
      "194:\tlearn: 0.7237474\ttest: 0.7253369\tbest: 0.7253416 (193)\ttotal: 1m\tremaining: 4m 10s\n",
      "195:\tlearn: 0.7237735\ttest: 0.7253414\tbest: 0.7253416 (193)\ttotal: 1m 1s\tremaining: 4m 10s\n",
      "196:\tlearn: 0.7238080\ttest: 0.7253620\tbest: 0.7253620 (196)\ttotal: 1m 1s\tremaining: 4m 10s\n",
      "197:\tlearn: 0.7238611\ttest: 0.7253853\tbest: 0.7253853 (197)\ttotal: 1m 1s\tremaining: 4m 10s\n",
      "198:\tlearn: 0.7238786\ttest: 0.7253898\tbest: 0.7253898 (198)\ttotal: 1m 2s\tremaining: 4m 10s\n",
      "199:\tlearn: 0.7239237\ttest: 0.7254001\tbest: 0.7254001 (199)\ttotal: 1m 2s\tremaining: 4m 9s\n",
      "200:\tlearn: 0.7239984\ttest: 0.7254548\tbest: 0.7254548 (200)\ttotal: 1m 2s\tremaining: 4m 9s\n",
      "201:\tlearn: 0.7240422\ttest: 0.7254680\tbest: 0.7254680 (201)\ttotal: 1m 3s\tremaining: 4m 9s\n",
      "202:\tlearn: 0.7240747\ttest: 0.7254769\tbest: 0.7254769 (202)\ttotal: 1m 3s\tremaining: 4m 9s\n",
      "203:\tlearn: 0.7241021\ttest: 0.7254895\tbest: 0.7254895 (203)\ttotal: 1m 3s\tremaining: 4m 9s\n",
      "204:\tlearn: 0.7241505\ttest: 0.7254796\tbest: 0.7254895 (203)\ttotal: 1m 4s\tremaining: 4m 8s\n",
      "205:\tlearn: 0.7241808\ttest: 0.7254965\tbest: 0.7254965 (205)\ttotal: 1m 4s\tremaining: 4m 8s\n",
      "206:\tlearn: 0.7242182\ttest: 0.7255049\tbest: 0.7255049 (206)\ttotal: 1m 4s\tremaining: 4m 8s\n",
      "207:\tlearn: 0.7242443\ttest: 0.7255090\tbest: 0.7255090 (207)\ttotal: 1m 5s\tremaining: 4m 8s\n",
      "208:\tlearn: 0.7243019\ttest: 0.7255176\tbest: 0.7255176 (208)\ttotal: 1m 5s\tremaining: 4m 8s\n",
      "209:\tlearn: 0.7243324\ttest: 0.7255204\tbest: 0.7255204 (209)\ttotal: 1m 5s\tremaining: 4m 7s\n",
      "210:\tlearn: 0.7243687\ttest: 0.7255539\tbest: 0.7255539 (210)\ttotal: 1m 6s\tremaining: 4m 7s\n",
      "211:\tlearn: 0.7244431\ttest: 0.7255592\tbest: 0.7255592 (211)\ttotal: 1m 6s\tremaining: 4m 7s\n",
      "212:\tlearn: 0.7245064\ttest: 0.7255813\tbest: 0.7255813 (212)\ttotal: 1m 6s\tremaining: 4m 7s\n",
      "213:\tlearn: 0.7245458\ttest: 0.7255956\tbest: 0.7255956 (213)\ttotal: 1m 7s\tremaining: 4m 6s\n",
      "214:\tlearn: 0.7245904\ttest: 0.7255851\tbest: 0.7255956 (213)\ttotal: 1m 7s\tremaining: 4m 6s\n",
      "215:\tlearn: 0.7246152\ttest: 0.7255945\tbest: 0.7255956 (213)\ttotal: 1m 7s\tremaining: 4m 6s\n",
      "216:\tlearn: 0.7246638\ttest: 0.7256143\tbest: 0.7256143 (216)\ttotal: 1m 8s\tremaining: 4m 6s\n",
      "217:\tlearn: 0.7246878\ttest: 0.7256267\tbest: 0.7256267 (217)\ttotal: 1m 8s\tremaining: 4m 5s\n",
      "218:\tlearn: 0.7247371\ttest: 0.7256466\tbest: 0.7256466 (218)\ttotal: 1m 8s\tremaining: 4m 5s\n",
      "219:\tlearn: 0.7247511\ttest: 0.7256429\tbest: 0.7256466 (218)\ttotal: 1m 9s\tremaining: 4m 5s\n",
      "220:\tlearn: 0.7248025\ttest: 0.7256493\tbest: 0.7256493 (220)\ttotal: 1m 9s\tremaining: 4m 5s\n",
      "221:\tlearn: 0.7248697\ttest: 0.7256669\tbest: 0.7256669 (221)\ttotal: 1m 9s\tremaining: 4m 4s\n",
      "222:\tlearn: 0.7249157\ttest: 0.7256809\tbest: 0.7256809 (222)\ttotal: 1m 10s\tremaining: 4m 4s\n",
      "223:\tlearn: 0.7249614\ttest: 0.7256967\tbest: 0.7256967 (223)\ttotal: 1m 10s\tremaining: 4m 4s\n",
      "224:\tlearn: 0.7250273\ttest: 0.7257425\tbest: 0.7257425 (224)\ttotal: 1m 10s\tremaining: 4m 4s\n",
      "225:\tlearn: 0.7250554\ttest: 0.7257369\tbest: 0.7257425 (224)\ttotal: 1m 11s\tremaining: 4m 4s\n",
      "226:\tlearn: 0.7250735\ttest: 0.7257367\tbest: 0.7257425 (224)\ttotal: 1m 11s\tremaining: 4m 3s\n",
      "227:\tlearn: 0.7251020\ttest: 0.7257527\tbest: 0.7257527 (227)\ttotal: 1m 11s\tremaining: 4m 3s\n"
     ]
    }
   ],
   "source": [
    "model = cb.CatBoostClassifier(depth=8, eval_metric='AUC')\n",
    "model.fit(X_train, y_train, cat_features=cat_features, \n",
    "          use_best_model=True, eval_set=(X_val, y_val), \n",
    "          plot=False);"
   ]
  },
  {
   "cell_type": "markdown",
   "metadata": {},
   "source": [
    "## Analysis"
   ]
  },
  {
   "cell_type": "code",
   "execution_count": null,
   "metadata": {},
   "outputs": [],
   "source": [
    "roc_auc_score(y_val, model.predict_proba(X_val)[:, 1])"
   ]
  },
  {
   "cell_type": "code",
   "execution_count": null,
   "metadata": {},
   "outputs": [],
   "source": [
    "model.get_params()"
   ]
  },
  {
   "cell_type": "code",
   "execution_count": null,
   "metadata": {},
   "outputs": [],
   "source": [
    "def draw_importance(columns, importances, top_k=20, save_path=None):\n",
    "    order = np.argsort(importances)[-top_k:]\n",
    "    \n",
    "    objects = columns[order]\n",
    "    y_pos = np.arange(len(objects))\n",
    "    performance = np.array(importances)[order]\n",
    "\n",
    "    plt.figure(figsize=(20, 10))\n",
    "    plt.barh(y_pos, performance, align='center', alpha=0.5)\n",
    "    plt.yticks(y_pos, objects)\n",
    "    plt.xlabel('Importance')\n",
    "    plt.title('Feature')\n",
    "\n",
    "    if save_path:\n",
    "        plt.savefig(save_path)\n",
    "    plt.show()"
   ]
  },
  {
   "cell_type": "code",
   "execution_count": null,
   "metadata": {},
   "outputs": [],
   "source": [
    "draw_importance(X_train.columns, model.feature_importances_, save_path=None)"
   ]
  },
  {
   "cell_type": "markdown",
   "metadata": {},
   "source": [
    "## Submission"
   ]
  },
  {
   "cell_type": "code",
   "execution_count": null,
   "metadata": {},
   "outputs": [],
   "source": [
    "sdf = pd.DataFrame(tdf.index, columns=['ID'])\n",
    "sdf['proba'] = model.predict_proba(X_test)[:, 1]\n",
    "sdf.head()"
   ]
  },
  {
   "cell_type": "code",
   "execution_count": null,
   "metadata": {},
   "outputs": [],
   "source": [
    "sdf.to_csv(SUBMISSION_PATH, index=False)"
   ]
  }
 ],
 "metadata": {
  "kernelspec": {
   "display_name": "Python 3",
   "language": "python",
   "name": "python3"
  },
  "language_info": {
   "codemirror_mode": {
    "name": "ipython",
    "version": 3
   },
   "file_extension": ".py",
   "mimetype": "text/x-python",
   "name": "python",
   "nbconvert_exporter": "python",
   "pygments_lexer": "ipython3",
   "version": "3.6.4"
  }
 },
 "nbformat": 4,
 "nbformat_minor": 2
}
