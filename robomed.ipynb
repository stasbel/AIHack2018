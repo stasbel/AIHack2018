{
 "cells": [
  {
   "cell_type": "markdown",
   "metadata": {},
   "source": [
    "# Robomed"
   ]
  },
  {
   "cell_type": "code",
   "execution_count": 1,
   "metadata": {},
   "outputs": [
    {
     "name": "stderr",
     "output_type": "stream",
     "text": [
      "/home/s_belyaev/miniconda3/lib/python3.6/site-packages/h5py/__init__.py:36: FutureWarning: Conversion of the second argument of issubdtype from `float` to `np.floating` is deprecated. In future, it will be treated as `np.float64 == np.dtype(float).type`.\n",
      "  from ._conv import register_converters as _register_converters\n",
      "Using TensorFlow backend.\n"
     ]
    }
   ],
   "source": [
    "%matplotlib inline\n",
    "\n",
    "import re\n",
    "import numpy as np\n",
    "import pandas as pd\n",
    "import matplotlib.pyplot as plt\n",
    "\n",
    "from fuzzywuzzy import fuzz\n",
    "from tqdm import tqdm_notebook\n",
    "from sklearn.cluster import KMeans\n",
    "from utils import get_disease_class\n",
    "from sklearn.metrics import roc_auc_score\n",
    "from lstm import KTokenizer, get_score\n",
    "from sklearn.model_selection import train_test_split\n",
    "from sklearn.base import BaseEstimator, TransformerMixin\n",
    "from sklearn.feature_extraction.text import TfidfVectorizer"
   ]
  },
  {
   "cell_type": "markdown",
   "metadata": {},
   "source": [
    "## Args"
   ]
  },
  {
   "cell_type": "code",
   "execution_count": 2,
   "metadata": {},
   "outputs": [],
   "source": [
    "TRAIN_PATH = '~/.kaggle/competitions/ai-hack-2018-spb-robomed/train_data.csv'\n",
    "TEST_PATH = '~/.kaggle/competitions/ai-hack-2018-spb-robomed/test_data.csv'\n",
    "SUBMISSION_PATH = 'submission.csv'\n",
    "MODEL_SAVE_PATH = 'model.pkl'"
   ]
  },
  {
   "cell_type": "markdown",
   "metadata": {},
   "source": [
    "## Read"
   ]
  },
  {
   "cell_type": "code",
   "execution_count": 3,
   "metadata": {},
   "outputs": [],
   "source": [
    "def initial_pre(df):\n",
    "    df = df.copy()\n",
    "    del df['ID']\n",
    "    rename_map = {\n",
    "        'Код_диагноза': 'diag_code',\n",
    "        'Диагноз': 'diag',\n",
    "        'Возраст': 'age',\n",
    "        'Пол': 'sex',\n",
    "        'Общее состояние': 'state',\n",
    "        'аллергия': 'allergies',\n",
    "        'Анамнез заболевания': 'anamnesis',\n",
    "        'Внешний осмотр': 'checkup',\n",
    "        'Revisit': 'revisit'\n",
    "    }\n",
    "    return df.rename(columns=rename_map)"
   ]
  },
  {
   "cell_type": "code",
   "execution_count": 4,
   "metadata": {},
   "outputs": [
    {
     "data": {
      "text/plain": [
       "283086"
      ]
     },
     "execution_count": 4,
     "metadata": {},
     "output_type": "execute_result"
    }
   ],
   "source": [
    "df = initial_pre(pd.read_csv(TRAIN_PATH))\n",
    "len(df)"
   ]
  },
  {
   "cell_type": "code",
   "execution_count": 5,
   "metadata": {},
   "outputs": [
    {
     "data": {
      "text/html": [
       "<div>\n",
       "<style scoped>\n",
       "    .dataframe tbody tr th:only-of-type {\n",
       "        vertical-align: middle;\n",
       "    }\n",
       "\n",
       "    .dataframe tbody tr th {\n",
       "        vertical-align: top;\n",
       "    }\n",
       "\n",
       "    .dataframe thead th {\n",
       "        text-align: right;\n",
       "    }\n",
       "</style>\n",
       "<table border=\"1\" class=\"dataframe\">\n",
       "  <thead>\n",
       "    <tr style=\"text-align: right;\">\n",
       "      <th></th>\n",
       "      <th>diag_code</th>\n",
       "      <th>diag</th>\n",
       "      <th>age</th>\n",
       "      <th>sex</th>\n",
       "      <th>state</th>\n",
       "      <th>allergies</th>\n",
       "      <th>anamnesis</th>\n",
       "      <th>checkup</th>\n",
       "      <th>revisit</th>\n",
       "    </tr>\n",
       "  </thead>\n",
       "  <tbody>\n",
       "    <tr>\n",
       "      <th>0</th>\n",
       "      <td>J06.0</td>\n",
       "      <td>Острый ларингофарингит</td>\n",
       "      <td>29</td>\n",
       "      <td>2</td>\n",
       "      <td>NaN</td>\n",
       "      <td>NaN</td>\n",
       "      <td>NaN</td>\n",
       "      <td>На жевательной поверхности 2.6- кариозная поло...</td>\n",
       "      <td>1</td>\n",
       "    </tr>\n",
       "    <tr>\n",
       "      <th>1</th>\n",
       "      <td>N76.1</td>\n",
       "      <td>Подострый и хронический вагинит</td>\n",
       "      <td>45</td>\n",
       "      <td>2</td>\n",
       "      <td>NaN</td>\n",
       "      <td>NaN</td>\n",
       "      <td>считает себя больной на протяжении многих лет....</td>\n",
       "      <td>NaN</td>\n",
       "      <td>1</td>\n",
       "    </tr>\n",
       "    <tr>\n",
       "      <th>2</th>\n",
       "      <td>L23.9</td>\n",
       "      <td>Аллергический контактный дерматит, причина не ...</td>\n",
       "      <td>63</td>\n",
       "      <td>2</td>\n",
       "      <td>NaN</td>\n",
       "      <td>NaN</td>\n",
       "      <td>Болен около 2-х дней, когда появились описанны...</td>\n",
       "      <td>NaN</td>\n",
       "      <td>1</td>\n",
       "    </tr>\n",
       "    <tr>\n",
       "      <th>3</th>\n",
       "      <td>N48.1</td>\n",
       "      <td>Баланопостит</td>\n",
       "      <td>43</td>\n",
       "      <td>2</td>\n",
       "      <td>NaN</td>\n",
       "      <td>не отягощен</td>\n",
       "      <td>NaN</td>\n",
       "      <td>NaN</td>\n",
       "      <td>1</td>\n",
       "    </tr>\n",
       "    <tr>\n",
       "      <th>4</th>\n",
       "      <td>Z00.0</td>\n",
       "      <td>Общий медицинский осмотр</td>\n",
       "      <td>29</td>\n",
       "      <td>1</td>\n",
       "      <td>NaN</td>\n",
       "      <td>NaN</td>\n",
       "      <td>провела полное обследование для оперативного л...</td>\n",
       "      <td>NaN</td>\n",
       "      <td>1</td>\n",
       "    </tr>\n",
       "  </tbody>\n",
       "</table>\n",
       "</div>"
      ],
      "text/plain": [
       "  diag_code                                               diag  age  sex  \\\n",
       "0     J06.0                             Острый ларингофарингит   29    2   \n",
       "1     N76.1                    Подострый и хронический вагинит   45    2   \n",
       "2     L23.9  Аллергический контактный дерматит, причина не ...   63    2   \n",
       "3     N48.1                                       Баланопостит   43    2   \n",
       "4     Z00.0                           Общий медицинский осмотр   29    1   \n",
       "\n",
       "  state    allergies                                          anamnesis  \\\n",
       "0   NaN          NaN                                                NaN   \n",
       "1   NaN          NaN  считает себя больной на протяжении многих лет....   \n",
       "2   NaN          NaN  Болен около 2-х дней, когда появились описанны...   \n",
       "3   NaN  не отягощен                                                NaN   \n",
       "4   NaN          NaN  провела полное обследование для оперативного л...   \n",
       "\n",
       "                                             checkup  revisit  \n",
       "0  На жевательной поверхности 2.6- кариозная поло...        1  \n",
       "1                                                NaN        1  \n",
       "2                                                NaN        1  \n",
       "3                                                NaN        1  \n",
       "4                                                NaN        1  "
      ]
     },
     "execution_count": 5,
     "metadata": {},
     "output_type": "execute_result"
    }
   ],
   "source": [
    "df.head()"
   ]
  },
  {
   "cell_type": "code",
   "execution_count": 6,
   "metadata": {},
   "outputs": [
    {
     "data": {
      "text/html": [
       "<div>\n",
       "<style scoped>\n",
       "    .dataframe tbody tr th:only-of-type {\n",
       "        vertical-align: middle;\n",
       "    }\n",
       "\n",
       "    .dataframe tbody tr th {\n",
       "        vertical-align: top;\n",
       "    }\n",
       "\n",
       "    .dataframe thead th {\n",
       "        text-align: right;\n",
       "    }\n",
       "</style>\n",
       "<table border=\"1\" class=\"dataframe\">\n",
       "  <thead>\n",
       "    <tr style=\"text-align: right;\">\n",
       "      <th></th>\n",
       "      <th>diag_code</th>\n",
       "      <th>diag</th>\n",
       "      <th>age</th>\n",
       "      <th>sex</th>\n",
       "      <th>state</th>\n",
       "      <th>allergies</th>\n",
       "      <th>anamnesis</th>\n",
       "      <th>checkup</th>\n",
       "      <th>revisit</th>\n",
       "    </tr>\n",
       "  </thead>\n",
       "  <tbody>\n",
       "    <tr>\n",
       "      <th>count</th>\n",
       "      <td>283086</td>\n",
       "      <td>283086</td>\n",
       "      <td>283086.000000</td>\n",
       "      <td>283086.000000</td>\n",
       "      <td>41696</td>\n",
       "      <td>40908</td>\n",
       "      <td>203656</td>\n",
       "      <td>13295</td>\n",
       "      <td>283086.000000</td>\n",
       "    </tr>\n",
       "    <tr>\n",
       "      <th>unique</th>\n",
       "      <td>3437</td>\n",
       "      <td>3394</td>\n",
       "      <td>NaN</td>\n",
       "      <td>NaN</td>\n",
       "      <td>2942</td>\n",
       "      <td>5141</td>\n",
       "      <td>152589</td>\n",
       "      <td>779</td>\n",
       "      <td>NaN</td>\n",
       "    </tr>\n",
       "    <tr>\n",
       "      <th>top</th>\n",
       "      <td>N77.1*</td>\n",
       "      <td>Вагинит, вульвит и вульвовагинит при инфекцион...</td>\n",
       "      <td>NaN</td>\n",
       "      <td>NaN</td>\n",
       "      <td>Общее самочувствие удовлетворительное. Кожные ...</td>\n",
       "      <td>не отягощен</td>\n",
       "      <td>консультация по проведенному обследованию и ко...</td>\n",
       "      <td>удовлетворительное.</td>\n",
       "      <td>NaN</td>\n",
       "    </tr>\n",
       "    <tr>\n",
       "      <th>freq</th>\n",
       "      <td>11214</td>\n",
       "      <td>11214</td>\n",
       "      <td>NaN</td>\n",
       "      <td>NaN</td>\n",
       "      <td>8960</td>\n",
       "      <td>17361</td>\n",
       "      <td>3025</td>\n",
       "      <td>6622</td>\n",
       "      <td>NaN</td>\n",
       "    </tr>\n",
       "    <tr>\n",
       "      <th>mean</th>\n",
       "      <td>NaN</td>\n",
       "      <td>NaN</td>\n",
       "      <td>41.696905</td>\n",
       "      <td>1.708347</td>\n",
       "      <td>NaN</td>\n",
       "      <td>NaN</td>\n",
       "      <td>NaN</td>\n",
       "      <td>NaN</td>\n",
       "      <td>0.828639</td>\n",
       "    </tr>\n",
       "    <tr>\n",
       "      <th>std</th>\n",
       "      <td>NaN</td>\n",
       "      <td>NaN</td>\n",
       "      <td>21.540704</td>\n",
       "      <td>0.454524</td>\n",
       "      <td>NaN</td>\n",
       "      <td>NaN</td>\n",
       "      <td>NaN</td>\n",
       "      <td>NaN</td>\n",
       "      <td>0.376825</td>\n",
       "    </tr>\n",
       "    <tr>\n",
       "      <th>min</th>\n",
       "      <td>NaN</td>\n",
       "      <td>NaN</td>\n",
       "      <td>1.000000</td>\n",
       "      <td>1.000000</td>\n",
       "      <td>NaN</td>\n",
       "      <td>NaN</td>\n",
       "      <td>NaN</td>\n",
       "      <td>NaN</td>\n",
       "      <td>0.000000</td>\n",
       "    </tr>\n",
       "    <tr>\n",
       "      <th>25%</th>\n",
       "      <td>NaN</td>\n",
       "      <td>NaN</td>\n",
       "      <td>31.000000</td>\n",
       "      <td>1.000000</td>\n",
       "      <td>NaN</td>\n",
       "      <td>NaN</td>\n",
       "      <td>NaN</td>\n",
       "      <td>NaN</td>\n",
       "      <td>1.000000</td>\n",
       "    </tr>\n",
       "    <tr>\n",
       "      <th>50%</th>\n",
       "      <td>NaN</td>\n",
       "      <td>NaN</td>\n",
       "      <td>38.000000</td>\n",
       "      <td>2.000000</td>\n",
       "      <td>NaN</td>\n",
       "      <td>NaN</td>\n",
       "      <td>NaN</td>\n",
       "      <td>NaN</td>\n",
       "      <td>1.000000</td>\n",
       "    </tr>\n",
       "    <tr>\n",
       "      <th>75%</th>\n",
       "      <td>NaN</td>\n",
       "      <td>NaN</td>\n",
       "      <td>51.000000</td>\n",
       "      <td>2.000000</td>\n",
       "      <td>NaN</td>\n",
       "      <td>NaN</td>\n",
       "      <td>NaN</td>\n",
       "      <td>NaN</td>\n",
       "      <td>1.000000</td>\n",
       "    </tr>\n",
       "    <tr>\n",
       "      <th>max</th>\n",
       "      <td>NaN</td>\n",
       "      <td>NaN</td>\n",
       "      <td>2017.000000</td>\n",
       "      <td>2.000000</td>\n",
       "      <td>NaN</td>\n",
       "      <td>NaN</td>\n",
       "      <td>NaN</td>\n",
       "      <td>NaN</td>\n",
       "      <td>1.000000</td>\n",
       "    </tr>\n",
       "  </tbody>\n",
       "</table>\n",
       "</div>"
      ],
      "text/plain": [
       "       diag_code                                               diag  \\\n",
       "count     283086                                             283086   \n",
       "unique      3437                                               3394   \n",
       "top       N77.1*  Вагинит, вульвит и вульвовагинит при инфекцион...   \n",
       "freq       11214                                              11214   \n",
       "mean         NaN                                                NaN   \n",
       "std          NaN                                                NaN   \n",
       "min          NaN                                                NaN   \n",
       "25%          NaN                                                NaN   \n",
       "50%          NaN                                                NaN   \n",
       "75%          NaN                                                NaN   \n",
       "max          NaN                                                NaN   \n",
       "\n",
       "                  age            sex  \\\n",
       "count   283086.000000  283086.000000   \n",
       "unique            NaN            NaN   \n",
       "top               NaN            NaN   \n",
       "freq              NaN            NaN   \n",
       "mean        41.696905       1.708347   \n",
       "std         21.540704       0.454524   \n",
       "min          1.000000       1.000000   \n",
       "25%         31.000000       1.000000   \n",
       "50%         38.000000       2.000000   \n",
       "75%         51.000000       2.000000   \n",
       "max       2017.000000       2.000000   \n",
       "\n",
       "                                                    state    allergies  \\\n",
       "count                                               41696        40908   \n",
       "unique                                               2942         5141   \n",
       "top     Общее самочувствие удовлетворительное. Кожные ...  не отягощен   \n",
       "freq                                                 8960        17361   \n",
       "mean                                                  NaN          NaN   \n",
       "std                                                   NaN          NaN   \n",
       "min                                                   NaN          NaN   \n",
       "25%                                                   NaN          NaN   \n",
       "50%                                                   NaN          NaN   \n",
       "75%                                                   NaN          NaN   \n",
       "max                                                   NaN          NaN   \n",
       "\n",
       "                                                anamnesis  \\\n",
       "count                                              203656   \n",
       "unique                                             152589   \n",
       "top     консультация по проведенному обследованию и ко...   \n",
       "freq                                                 3025   \n",
       "mean                                                  NaN   \n",
       "std                                                   NaN   \n",
       "min                                                   NaN   \n",
       "25%                                                   NaN   \n",
       "50%                                                   NaN   \n",
       "75%                                                   NaN   \n",
       "max                                                   NaN   \n",
       "\n",
       "                    checkup        revisit  \n",
       "count                 13295  283086.000000  \n",
       "unique                  779            NaN  \n",
       "top     удовлетворительное.            NaN  \n",
       "freq                   6622            NaN  \n",
       "mean                    NaN       0.828639  \n",
       "std                     NaN       0.376825  \n",
       "min                     NaN       0.000000  \n",
       "25%                     NaN       1.000000  \n",
       "50%                     NaN       1.000000  \n",
       "75%                     NaN       1.000000  \n",
       "max                     NaN       1.000000  "
      ]
     },
     "execution_count": 6,
     "metadata": {},
     "output_type": "execute_result"
    }
   ],
   "source": [
    "df.describe(include='all')"
   ]
  },
  {
   "cell_type": "code",
   "execution_count": 7,
   "metadata": {},
   "outputs": [
    {
     "data": {
      "text/plain": [
       "diag_code    object\n",
       "diag         object\n",
       "age           int64\n",
       "sex           int64\n",
       "state        object\n",
       "allergies    object\n",
       "anamnesis    object\n",
       "checkup      object\n",
       "revisit       int64\n",
       "dtype: object"
      ]
     },
     "execution_count": 7,
     "metadata": {},
     "output_type": "execute_result"
    }
   ],
   "source": [
    "df.dtypes"
   ]
  },
  {
   "cell_type": "code",
   "execution_count": 8,
   "metadata": {},
   "outputs": [
    {
     "data": {
      "image/png": "[encoded data removed]",
      "text/plain": [
       "<matplotlib.figure.Figure at 0x2b21bdc4a2b0>"
      ]
     },
     "metadata": {},
     "output_type": "display_data"
    }
   ],
   "source": [
    "age = df.age.copy()\n",
    "age[age > 120] = None\n",
    "age.plot('hist');"
   ]
  },
  {
   "cell_type": "markdown",
   "metadata": {},
   "source": [
    "## Test analysis"
   ]
  },
  {
   "cell_type": "markdown",
   "metadata": {},
   "source": [
    "### Look up"
   ]
  },
  {
   "cell_type": "code",
   "execution_count": 9,
   "metadata": {},
   "outputs": [
    {
     "data": {
      "text/html": [
       "<div>\n",
       "<style scoped>\n",
       "    .dataframe tbody tr th:only-of-type {\n",
       "        vertical-align: middle;\n",
       "    }\n",
       "\n",
       "    .dataframe tbody tr th {\n",
       "        vertical-align: top;\n",
       "    }\n",
       "\n",
       "    .dataframe thead th {\n",
       "        text-align: right;\n",
       "    }\n",
       "</style>\n",
       "<table border=\"1\" class=\"dataframe\">\n",
       "  <thead>\n",
       "    <tr style=\"text-align: right;\">\n",
       "      <th></th>\n",
       "      <th>diag_code</th>\n",
       "      <th>diag</th>\n",
       "      <th>age</th>\n",
       "      <th>sex</th>\n",
       "      <th>state</th>\n",
       "      <th>allergies</th>\n",
       "      <th>anamnesis</th>\n",
       "      <th>checkup</th>\n",
       "    </tr>\n",
       "  </thead>\n",
       "  <tbody>\n",
       "    <tr>\n",
       "      <th>0</th>\n",
       "      <td>Z39.2</td>\n",
       "      <td>Рутинное послеродовое наблюдение</td>\n",
       "      <td>41</td>\n",
       "      <td>2</td>\n",
       "      <td>Общее самочувствие удовлетворительное. Кожные ...</td>\n",
       "      <td>Аллергию на лекарства - отрицает.</td>\n",
       "      <td>NaN</td>\n",
       "      <td>NaN</td>\n",
       "    </tr>\n",
       "    <tr>\n",
       "      <th>1</th>\n",
       "      <td>M54.2</td>\n",
       "      <td>Цервикалгия</td>\n",
       "      <td>64</td>\n",
       "      <td>2</td>\n",
       "      <td>NaN</td>\n",
       "      <td>не отягощен</td>\n",
       "      <td>NaN</td>\n",
       "      <td>NaN</td>\n",
       "    </tr>\n",
       "    <tr>\n",
       "      <th>2</th>\n",
       "      <td>M41</td>\n",
       "      <td>Сколиоз</td>\n",
       "      <td>34</td>\n",
       "      <td>2</td>\n",
       "      <td>Удовлетворительное. Температура тела - 36,6. С...</td>\n",
       "      <td>NaN</td>\n",
       "      <td>NaN</td>\n",
       "      <td>NaN</td>\n",
       "    </tr>\n",
       "    <tr>\n",
       "      <th>3</th>\n",
       "      <td>J31.2</td>\n",
       "      <td>Хронический фарингит</td>\n",
       "      <td>58</td>\n",
       "      <td>2</td>\n",
       "      <td>NaN</td>\n",
       "      <td>NaN</td>\n",
       "      <td>NaN</td>\n",
       "      <td>Общее состояние удовлетворительное. Конфигурац...</td>\n",
       "    </tr>\n",
       "    <tr>\n",
       "      <th>4</th>\n",
       "      <td>M21.4</td>\n",
       "      <td>Плоская стопа [pes planus] (приобретенная)</td>\n",
       "      <td>34</td>\n",
       "      <td>2</td>\n",
       "      <td>NaN</td>\n",
       "      <td>NaN</td>\n",
       "      <td>Жалобы сегодня с утра</td>\n",
       "      <td>NaN</td>\n",
       "    </tr>\n",
       "  </tbody>\n",
       "</table>\n",
       "</div>"
      ],
      "text/plain": [
       "  diag_code                                        diag  age  sex  \\\n",
       "0     Z39.2            Рутинное послеродовое наблюдение   41    2   \n",
       "1     M54.2                                 Цервикалгия   64    2   \n",
       "2       M41                                     Сколиоз   34    2   \n",
       "3     J31.2                        Хронический фарингит   58    2   \n",
       "4     M21.4  Плоская стопа [pes planus] (приобретенная)   34    2   \n",
       "\n",
       "                                               state  \\\n",
       "0  Общее самочувствие удовлетворительное. Кожные ...   \n",
       "1                                                NaN   \n",
       "2  Удовлетворительное. Температура тела - 36,6. С...   \n",
       "3                                                NaN   \n",
       "4                                                NaN   \n",
       "\n",
       "                           allergies              anamnesis  \\\n",
       "0  Аллергию на лекарства - отрицает.                    NaN   \n",
       "1                        не отягощен                    NaN   \n",
       "2                                NaN                    NaN   \n",
       "3                                NaN                    NaN   \n",
       "4                                NaN  Жалобы сегодня с утра   \n",
       "\n",
       "                                             checkup  \n",
       "0                                                NaN  \n",
       "1                                                NaN  \n",
       "2                                                NaN  \n",
       "3  Общее состояние удовлетворительное. Конфигурац...  \n",
       "4                                                NaN  "
      ]
     },
     "execution_count": 9,
     "metadata": {},
     "output_type": "execute_result"
    }
   ],
   "source": [
    "tdf = initial_pre(pd.read_csv(TEST_PATH))\n",
    "tdf.head()"
   ]
  },
  {
   "cell_type": "code",
   "execution_count": 10,
   "metadata": {},
   "outputs": [
    {
     "data": {
      "text/plain": [
       "2    200523\n",
       "1     82563\n",
       "Name: sex, dtype: int64"
      ]
     },
     "execution_count": 10,
     "metadata": {},
     "output_type": "execute_result"
    }
   ],
   "source": [
    "df.sex.value_counts()"
   ]
  },
  {
   "cell_type": "code",
   "execution_count": 11,
   "metadata": {},
   "outputs": [
    {
     "data": {
      "text/plain": [
       "2    66391\n",
       "1    33609\n",
       "Name: sex, dtype: int64"
      ]
     },
     "execution_count": 11,
     "metadata": {},
     "output_type": "execute_result"
    }
   ],
   "source": [
    "tdf.sex.value_counts()"
   ]
  },
  {
   "cell_type": "markdown",
   "metadata": {},
   "source": [
    "### Not in `tdf`"
   ]
  },
  {
   "cell_type": "code",
   "execution_count": 12,
   "metadata": {},
   "outputs": [],
   "source": [
    "def filter_not_in_test(df, tdf, column):\n",
    "    df = df.copy()\n",
    "    in_tdf = set(tdf.loc[:, column])\n",
    "    return df[df.loc[:, column].isin(in_tdf)].copy()"
   ]
  },
  {
   "cell_type": "code",
   "execution_count": 13,
   "metadata": {},
   "outputs": [
    {
     "data": {
      "application/vnd.jupyter.widget-view+json": {
       "model_id": "6cb4773743114f119d9908159795b766",
       "version_major": 2,
       "version_minor": 0
      },
      "text/html": [
       "<p>Failed to display Jupyter Widget of type <code>HBox</code>.</p>\n",
       "<p>\n",
       "  If you're reading this message in the Jupyter Notebook or JupyterLab Notebook, it may mean\n",
       "  that the widgets JavaScript is still loading. If this message persists, it\n",
       "  likely means that the widgets JavaScript library is either not installed or\n",
       "  not enabled. See the <a href=\"https://ipywidgets.readthedocs.io/en/stable/user_install.html\">Jupyter\n",
       "  Widgets Documentation</a> for setup instructions.\n",
       "</p>\n",
       "<p>\n",
       "  If you're reading this message in another frontend (for example, a static\n",
       "  rendering on GitHub or <a href=\"https://nbviewer.jupyter.org/\">NBViewer</a>),\n",
       "  it may mean that your frontend doesn't currently support widgets.\n",
       "</p>\n"
      ],
      "text/plain": [
       "HBox(children=(IntProgress(value=0, max=9), HTML(value='')))"
      ]
     },
     "metadata": {},
     "output_type": "display_data"
    },
    {
     "name": "stdout",
     "output_type": "stream",
     "text": [
      "after diag_code (280470, 9)\n",
      "after diag (280470, 9)\n",
      "after age (280456, 9)\n",
      "after sex (280456, 9)\n",
      "after state (278242, 9)\n",
      "after allergies (274857, 9)\n",
      "after checkup (274572, 9)\n",
      "\n"
     ]
    },
    {
     "data": {
      "text/plain": [
       "(274572, 9)"
      ]
     },
     "execution_count": 13,
     "metadata": {},
     "output_type": "execute_result"
    }
   ],
   "source": [
    "for column in tqdm_notebook(df.columns):\n",
    "    if column not in {'revisit', 'anamnesis'}:\n",
    "        df = filter_not_in_test(df, tdf, column)\n",
    "        print('after', column, df.shape)\n",
    "df.shape"
   ]
  },
  {
   "cell_type": "markdown",
   "metadata": {},
   "source": [
    "### Strings fuzzy matching"
   ]
  },
  {
   "cell_type": "code",
   "execution_count": 14,
   "metadata": {},
   "outputs": [],
   "source": [
    "def group_column(df, tdf, column):\n",
    "    df, tdf = df.copy(), tdf.copy()\n",
    "    columnv = pd.concat([df[column], tdf[column]])\n",
    "    cvc = columnv.value_counts()\n",
    "    bins = []\n",
    "    for s, c in tqdm_notebook(cvc.iteritems()):\n",
    "        max_id, max_score = None, None\n",
    "        for id_, bin_ in enumerate(bins):\n",
    "            cur_score = fuzz.ratio(s, bin_[0])\n",
    "            if max_score is None or cur_score > max_score:\n",
    "                max_id = id_\n",
    "                max_score = cur_score\n",
    "        if max_id is not None and max_score > 50:\n",
    "            bins[max_id].append(s)\n",
    "        else:\n",
    "            bins.append([s])\n",
    "    remap_dict = {}\n",
    "    for bin_ in bins:\n",
    "        base = bin_[0]\n",
    "        for v in bin_:\n",
    "            remap_dict[v] = base\n",
    "    df[column] = df[column].apply(lambda x: remap_dict[x] if x in remap_dict else x)\n",
    "    tdf[column] = tdf[column].apply(lambda x: remap_dict[x] if x in remap_dict else x)\n",
    "    return df, tdf"
   ]
  },
  {
   "cell_type": "code",
   "execution_count": 15,
   "metadata": {},
   "outputs": [],
   "source": [
    "# SIMILAR_TEXT_COLUMNS = ['state', 'allergies', 'checkup']\n",
    "# for column in tqdm_notebook(SIMILAR_TEXT_COLUMNS):\n",
    "#     df, tdf = group_column(df, tdf, column)\n",
    "# df.shape, tdf.shape"
   ]
  },
  {
   "cell_type": "markdown",
   "metadata": {},
   "source": [
    "## Preprocess"
   ]
  },
  {
   "cell_type": "markdown",
   "metadata": {},
   "source": [
    "### Only `anamnesis`"
   ]
  },
  {
   "cell_type": "code",
   "execution_count": 16,
   "metadata": {},
   "outputs": [],
   "source": [
    "# def make_textclf_data(df, balance=False):\n",
    "#     X, y = df.anamnesis.fillna(''), df.revisit\n",
    "    \n",
    "#     if balance:\n",
    "#         n = y.value_counts().min()\n",
    "#         y0, y1 = y[y == 0].sample(n), y[y == 1].sample(n)\n",
    "#         X0, X1 = X[y0.index], X[y1.index]\n",
    "#         X, y = pd.concat([X0, X1], axis=0).sample(frac=1), pd.concat([y0, y1], axis=0).sample(frac=1)\n",
    "    \n",
    "#     return X, y"
   ]
  },
  {
   "cell_type": "markdown",
   "metadata": {},
   "source": [
    "### Features"
   ]
  },
  {
   "cell_type": "code",
   "execution_count": 17,
   "metadata": {},
   "outputs": [],
   "source": [
    "def parse_diag_code(diag_code, \n",
    "                    dc_pattern=re.compile('([A-Z])?([0-9][0-9])?(\\.([0-9]))?')):\n",
    "    m = dc_pattern.match(diag_code)\n",
    "    letter, code, subcode = m.group(1), m.group(2), m.group(4)\n",
    "    code = int(code) if code is not None else None\n",
    "    subcode = int(subcode) if subcode is not None else None\n",
    "    return letter, code, subcode"
   ]
  },
  {
   "cell_type": "code",
   "execution_count": 18,
   "metadata": {},
   "outputs": [],
   "source": [
    "class FFTransformer(BaseEstimator, TransformerMixin):\n",
    "    def __init__(self, sex_1d=None):\n",
    "        self.sex_1d = sex_1d\n",
    "        \n",
    "        self._tok = None\n",
    "    \n",
    "    def fit(self, df):\n",
    "        return self\n",
    "    \n",
    "    def transform(self, df):\n",
    "        df = df.copy()\n",
    "        \n",
    "        if self.sex_1d:\n",
    "            n = int((df.sex == 1).sum() / self.sex_1d)\n",
    "            df1 = df[df.sex == 1]\n",
    "            df2 = df[df.sex == 2].sample(n)\n",
    "            df = pd.concat([df1, df2], axis=0)\n",
    "    \n",
    "        features = []\n",
    "        \n",
    "#         # diag_code\n",
    "#         features.append(pd.DataFrame(list(df.diag_code.apply(parse_diag_code)), \n",
    "#                                      columns=['letter', 'code', 'subcode'],\n",
    "#                                      dtype=object, index=df.index))\n",
    "        # diag_code\n",
    "        def to_str(x):\n",
    "            if x is None:\n",
    "                return ''\n",
    "            else:\n",
    "                return str(x)\n",
    "        \n",
    "        def pparse(x):\n",
    "            l, c, s = x\n",
    "            c = to_str(l) + to_str(c)\n",
    "            if not c:\n",
    "                c = None\n",
    "            return (l, c)\n",
    "        \n",
    "        parts = list(df.diag_code \\\n",
    "                     .apply(parse_diag_code) \\\n",
    "                     .apply(pparse))\n",
    "        features.append(pd.DataFrame(parts, \n",
    "                                     columns=['letter', 'code', 'subcode'][:2],\n",
    "                                     dtype=object, index=df.index))\n",
    "        \n",
    "#         # +disease\n",
    "#         features.append(pd.DataFrame(list(df.diag_code.apply(get_disease_class)),\n",
    "#                                     columns=['disease'],\n",
    "#                                     dtype=object, index=df.index))\n",
    "        \n",
    "        # diag\n",
    "        features.append(df[['diag']])\n",
    "\n",
    "        # age\n",
    "        df.age = df.age.astype(float)\n",
    "        df.loc[df.age > 120, 'age'] = np.nan\n",
    "        features.append(df[['age']])\n",
    "\n",
    "        # sex\n",
    "        features.append(df[['sex']])\n",
    "\n",
    "        # state\n",
    "        def state_map(s):\n",
    "            if 'удовлетворительн' in str(s).lower():\n",
    "                return True\n",
    "            else:\n",
    "                return False\n",
    "            \n",
    "        features.append(pd.DataFrame(df.state.apply(state_map).astype(int),\n",
    "                                     columns=['state'],\n",
    "                                     index=df.index, dtype=int))\n",
    "        \n",
    "        # allergies, checkup\n",
    "        features.append(df[['allergies', 'checkup']])\n",
    "        \n",
    "#         # anamnesis\n",
    "#         if self._tok is None:\n",
    "#             self._tok = KTokenizer().fit(df.anamnesis)\n",
    "#         features.append(pd.DataFrame(get_score(self._tok.transform(df.anamnesis)).astype(np.float64),\n",
    "#                                      columns=['lstm_score'],\n",
    "#                                      index=df.index))\n",
    "\n",
    "        data = pd.concat(features, axis=1)\n",
    "        data = data.apply(lambda c: c.fillna('NaN') if (c.dtype == object) else c)\n",
    "        if 'revisit' in df:\n",
    "            data = (data, df.revisit)\n",
    "\n",
    "        return data"
   ]
  },
  {
   "cell_type": "code",
   "execution_count": 19,
   "metadata": {},
   "outputs": [
    {
     "data": {
      "text/html": [
       "<div>\n",
       "<style scoped>\n",
       "    .dataframe tbody tr th:only-of-type {\n",
       "        vertical-align: middle;\n",
       "    }\n",
       "\n",
       "    .dataframe tbody tr th {\n",
       "        vertical-align: top;\n",
       "    }\n",
       "\n",
       "    .dataframe thead th {\n",
       "        text-align: right;\n",
       "    }\n",
       "</style>\n",
       "<table border=\"1\" class=\"dataframe\">\n",
       "  <thead>\n",
       "    <tr style=\"text-align: right;\">\n",
       "      <th></th>\n",
       "      <th>letter</th>\n",
       "      <th>code</th>\n",
       "      <th>diag</th>\n",
       "      <th>age</th>\n",
       "      <th>sex</th>\n",
       "      <th>state</th>\n",
       "      <th>allergies</th>\n",
       "      <th>checkup</th>\n",
       "    </tr>\n",
       "  </thead>\n",
       "  <tbody>\n",
       "    <tr>\n",
       "      <th>0</th>\n",
       "      <td>J</td>\n",
       "      <td>J6</td>\n",
       "      <td>Острый ларингофарингит</td>\n",
       "      <td>29.0</td>\n",
       "      <td>2</td>\n",
       "      <td>0</td>\n",
       "      <td>NaN</td>\n",
       "      <td>На жевательной поверхности 2.6- кариозная поло...</td>\n",
       "    </tr>\n",
       "    <tr>\n",
       "      <th>1</th>\n",
       "      <td>N</td>\n",
       "      <td>N76</td>\n",
       "      <td>Подострый и хронический вагинит</td>\n",
       "      <td>45.0</td>\n",
       "      <td>2</td>\n",
       "      <td>0</td>\n",
       "      <td>NaN</td>\n",
       "      <td>NaN</td>\n",
       "    </tr>\n",
       "    <tr>\n",
       "      <th>2</th>\n",
       "      <td>L</td>\n",
       "      <td>L23</td>\n",
       "      <td>Аллергический контактный дерматит, причина не ...</td>\n",
       "      <td>63.0</td>\n",
       "      <td>2</td>\n",
       "      <td>0</td>\n",
       "      <td>NaN</td>\n",
       "      <td>NaN</td>\n",
       "    </tr>\n",
       "    <tr>\n",
       "      <th>3</th>\n",
       "      <td>N</td>\n",
       "      <td>N48</td>\n",
       "      <td>Баланопостит</td>\n",
       "      <td>43.0</td>\n",
       "      <td>2</td>\n",
       "      <td>0</td>\n",
       "      <td>не отягощен</td>\n",
       "      <td>NaN</td>\n",
       "    </tr>\n",
       "    <tr>\n",
       "      <th>4</th>\n",
       "      <td>Z</td>\n",
       "      <td>Z0</td>\n",
       "      <td>Общий медицинский осмотр</td>\n",
       "      <td>29.0</td>\n",
       "      <td>1</td>\n",
       "      <td>0</td>\n",
       "      <td>NaN</td>\n",
       "      <td>NaN</td>\n",
       "    </tr>\n",
       "  </tbody>\n",
       "</table>\n",
       "</div>"
      ],
      "text/plain": [
       "  letter code                                               diag   age  sex  \\\n",
       "0      J   J6                             Острый ларингофарингит  29.0    2   \n",
       "1      N  N76                    Подострый и хронический вагинит  45.0    2   \n",
       "2      L  L23  Аллергический контактный дерматит, причина не ...  63.0    2   \n",
       "3      N  N48                                       Баланопостит  43.0    2   \n",
       "4      Z   Z0                           Общий медицинский осмотр  29.0    1   \n",
       "\n",
       "   state    allergies                                            checkup  \n",
       "0      0          NaN  На жевательной поверхности 2.6- кариозная поло...  \n",
       "1      0          NaN                                                NaN  \n",
       "2      0          NaN                                                NaN  \n",
       "3      0  не отягощен                                                NaN  \n",
       "4      0          NaN                                                NaN  "
      ]
     },
     "execution_count": 19,
     "metadata": {},
     "output_type": "execute_result"
    }
   ],
   "source": [
    "ff = FFTransformer()\n",
    "X, y = ff.fit_transform(df)\n",
    "X.head()"
   ]
  },
  {
   "cell_type": "code",
   "execution_count": 20,
   "metadata": {},
   "outputs": [
    {
     "data": {
      "text/plain": [
       "letter        object\n",
       "code          object\n",
       "diag          object\n",
       "age          float64\n",
       "sex            int64\n",
       "state          int64\n",
       "allergies     object\n",
       "checkup       object\n",
       "dtype: object"
      ]
     },
     "execution_count": 20,
     "metadata": {},
     "output_type": "execute_result"
    }
   ],
   "source": [
    "X.dtypes"
   ]
  },
  {
   "cell_type": "code",
   "execution_count": 21,
   "metadata": {},
   "outputs": [
    {
     "data": {
      "text/plain": [
       "dtype('int64')"
      ]
     },
     "execution_count": 21,
     "metadata": {},
     "output_type": "execute_result"
    }
   ],
   "source": [
    "y.dtype"
   ]
  },
  {
   "cell_type": "markdown",
   "metadata": {},
   "source": [
    "## TT split"
   ]
  },
  {
   "cell_type": "code",
   "execution_count": 36,
   "metadata": {},
   "outputs": [
    {
     "data": {
      "text/plain": [
       "((266334, 8), (8238, 8), (100000, 8))"
      ]
     },
     "execution_count": 36,
     "metadata": {},
     "output_type": "execute_result"
    }
   ],
   "source": [
    "preprocess = FFTransformer()\n",
    "X, y = preprocess.fit_transform(df)\n",
    "cat_features = np.where(X.dtypes != np.float)[0]\n",
    "X_train, X_val, y_train, y_val = train_test_split(X, y, test_size=0.03)\n",
    "X_test = preprocess.transform(tdf)\n",
    "X_train.shape, X_val.shape, X_test.shape"
   ]
  },
  {
   "cell_type": "markdown",
   "metadata": {},
   "source": [
    "## CatBoost\n",
    "\n",
    "https://tech.yandex.com/catboost/doc/dg/concepts/parameter-tuning-docpage/"
   ]
  },
  {
   "cell_type": "code",
   "execution_count": 37,
   "metadata": {},
   "outputs": [],
   "source": [
    "import catboost as cb"
   ]
  },
  {
   "cell_type": "code",
   "execution_count": 38,
   "metadata": {},
   "outputs": [],
   "source": [
    "# N_MODELS = 10"
   ]
  },
  {
   "cell_type": "code",
   "execution_count": 39,
   "metadata": {},
   "outputs": [],
   "source": [
    "# models = [cb.CatBoostClassifier(depth=8, eval_metric='AUC', iterations=300) \n",
    "#           for _ in range(N_MODELS)]"
   ]
  },
  {
   "cell_type": "code",
   "execution_count": 40,
   "metadata": {},
   "outputs": [],
   "source": [
    "# def get_stack_score(X):\n",
    "#     return np.vstack((model.predict_proba(X)[:, 1] for model in models)).mean(axis=0)"
   ]
  },
  {
   "cell_type": "code",
   "execution_count": null,
   "metadata": {},
   "outputs": [],
   "source": [
    "# for model in models:\n",
    "#     model.fit(X_train, y_train, cat_features=cat_features, \n",
    "#           use_best_model=True, eval_set=(X_val, y_val), \n",
    "#           plot=False);"
   ]
  },
  {
   "cell_type": "code",
   "execution_count": null,
   "metadata": {},
   "outputs": [
    {
     "name": "stdout",
     "output_type": "stream",
     "text": [
      "0:\tlearn: 0.6596068\ttest: 0.6574113\tbest: 0.6574113 (0)\ttotal: 271ms\tremaining: 4m 30s\n",
      "1:\tlearn: 0.6601614\ttest: 0.6576924\tbest: 0.6576924 (1)\ttotal: 540ms\tremaining: 4m 29s\n",
      "2:\tlearn: 0.6607899\ttest: 0.6604547\tbest: 0.6604547 (2)\ttotal: 809ms\tremaining: 4m 28s\n",
      "3:\tlearn: 0.6615850\ttest: 0.6613910\tbest: 0.6613910 (3)\ttotal: 1.07s\tremaining: 4m 26s\n",
      "4:\tlearn: 0.6615036\ttest: 0.6618486\tbest: 0.6618486 (4)\ttotal: 1.36s\tremaining: 4m 31s\n",
      "5:\tlearn: 0.6616047\ttest: 0.6623101\tbest: 0.6623101 (5)\ttotal: 1.64s\tremaining: 4m 31s\n",
      "6:\tlearn: 0.6616962\ttest: 0.6622022\tbest: 0.6623101 (5)\ttotal: 1.89s\tremaining: 4m 27s\n",
      "7:\tlearn: 0.6617236\ttest: 0.6619310\tbest: 0.6623101 (5)\ttotal: 2.16s\tremaining: 4m 27s\n",
      "8:\tlearn: 0.6619118\ttest: 0.6615400\tbest: 0.6623101 (5)\ttotal: 2.45s\tremaining: 4m 29s\n",
      "9:\tlearn: 0.6624929\ttest: 0.6624902\tbest: 0.6624902 (9)\ttotal: 2.72s\tremaining: 4m 29s\n",
      "10:\tlearn: 0.6625552\ttest: 0.6627949\tbest: 0.6627949 (10)\ttotal: 2.99s\tremaining: 4m 28s\n",
      "11:\tlearn: 0.6633251\ttest: 0.6632787\tbest: 0.6632787 (11)\ttotal: 3.26s\tremaining: 4m 28s\n",
      "12:\tlearn: 0.6632590\ttest: 0.6629265\tbest: 0.6632787 (11)\ttotal: 3.54s\tremaining: 4m 29s\n",
      "13:\tlearn: 0.6633164\ttest: 0.6627257\tbest: 0.6632787 (11)\ttotal: 3.83s\tremaining: 4m 29s\n",
      "14:\tlearn: 0.6633035\ttest: 0.6626318\tbest: 0.6632787 (11)\ttotal: 4.11s\tremaining: 4m 29s\n",
      "15:\tlearn: 0.6632773\ttest: 0.6625168\tbest: 0.6632787 (11)\ttotal: 4.38s\tremaining: 4m 29s\n",
      "16:\tlearn: 0.6633791\ttest: 0.6627004\tbest: 0.6632787 (11)\ttotal: 4.66s\tremaining: 4m 29s\n",
      "17:\tlearn: 0.6634201\ttest: 0.6628658\tbest: 0.6632787 (11)\ttotal: 4.94s\tremaining: 4m 29s\n",
      "18:\tlearn: 0.6634403\ttest: 0.6624493\tbest: 0.6632787 (11)\ttotal: 5.22s\tremaining: 4m 29s\n",
      "19:\tlearn: 0.6634528\ttest: 0.6625126\tbest: 0.6632787 (11)\ttotal: 5.49s\tremaining: 4m 28s\n",
      "20:\tlearn: 0.6634787\ttest: 0.6624368\tbest: 0.6632787 (11)\ttotal: 5.74s\tremaining: 4m 27s\n",
      "21:\tlearn: 0.6634820\ttest: 0.6626403\tbest: 0.6632787 (11)\ttotal: 6s\tremaining: 4m 26s\n",
      "22:\tlearn: 0.6635976\ttest: 0.6629750\tbest: 0.6632787 (11)\ttotal: 6.29s\tremaining: 4m 27s\n",
      "23:\tlearn: 0.6634728\ttest: 0.6626022\tbest: 0.6632787 (11)\ttotal: 6.58s\tremaining: 4m 27s\n",
      "24:\tlearn: 0.6635060\ttest: 0.6626037\tbest: 0.6632787 (11)\ttotal: 6.83s\tremaining: 4m 26s\n",
      "25:\tlearn: 0.6635425\ttest: 0.6626142\tbest: 0.6632787 (11)\ttotal: 7.11s\tremaining: 4m 26s\n",
      "26:\tlearn: 0.6635713\ttest: 0.6623871\tbest: 0.6632787 (11)\ttotal: 7.37s\tremaining: 4m 25s\n",
      "27:\tlearn: 0.6636474\ttest: 0.6620403\tbest: 0.6632787 (11)\ttotal: 7.66s\tremaining: 4m 25s\n",
      "28:\tlearn: 0.6636573\ttest: 0.6624346\tbest: 0.6632787 (11)\ttotal: 7.91s\tremaining: 4m 24s\n",
      "29:\tlearn: 0.6637264\ttest: 0.6625972\tbest: 0.6632787 (11)\ttotal: 8.17s\tremaining: 4m 24s\n",
      "30:\tlearn: 0.6655262\ttest: 0.6644857\tbest: 0.6644857 (30)\ttotal: 8.46s\tremaining: 4m 24s\n",
      "31:\tlearn: 0.6688013\ttest: 0.6673282\tbest: 0.6673282 (31)\ttotal: 8.68s\tremaining: 4m 22s\n",
      "32:\tlearn: 0.6706222\ttest: 0.6691706\tbest: 0.6691706 (32)\ttotal: 8.92s\tremaining: 4m 21s\n",
      "33:\tlearn: 0.6720828\ttest: 0.6703907\tbest: 0.6703907 (33)\ttotal: 9.15s\tremaining: 4m 20s\n",
      "34:\tlearn: 0.6730726\ttest: 0.6710308\tbest: 0.6710308 (34)\ttotal: 9.38s\tremaining: 4m 18s\n",
      "35:\tlearn: 0.6742194\ttest: 0.6723154\tbest: 0.6723154 (35)\ttotal: 9.64s\tremaining: 4m 18s\n",
      "36:\tlearn: 0.6749815\ttest: 0.6730944\tbest: 0.6730944 (36)\ttotal: 9.94s\tremaining: 4m 18s\n",
      "37:\tlearn: 0.6757705\ttest: 0.6738921\tbest: 0.6738921 (37)\ttotal: 10.2s\tremaining: 4m 17s\n",
      "38:\tlearn: 0.6763126\ttest: 0.6745029\tbest: 0.6745029 (38)\ttotal: 10.4s\tremaining: 4m 15s\n",
      "39:\tlearn: 0.6780119\ttest: 0.6760317\tbest: 0.6760317 (39)\ttotal: 10.6s\tremaining: 4m 15s\n",
      "40:\tlearn: 0.6822042\ttest: 0.6796419\tbest: 0.6796419 (40)\ttotal: 10.9s\tremaining: 4m 15s\n",
      "41:\tlearn: 0.6854172\ttest: 0.6823672\tbest: 0.6823672 (41)\ttotal: 11.2s\tremaining: 4m 15s\n"
     ]
    }
   ],
   "source": [
    "model = cb.CatBoostClassifier(depth=8, eval_metric='AUC')\n",
    "model.fit(X_train, y_train, cat_features=cat_features, \n",
    "          use_best_model=True, eval_set=(X_val, y_val), \n",
    "          plot=False);"
   ]
  },
  {
   "cell_type": "markdown",
   "metadata": {},
   "source": [
    "## Analysis"
   ]
  },
  {
   "cell_type": "code",
   "execution_count": null,
   "metadata": {},
   "outputs": [],
   "source": [
    "roc_auc_score(y_val, model.predict_proba(X_val)[:, 1])"
   ]
  },
  {
   "cell_type": "code",
   "execution_count": null,
   "metadata": {},
   "outputs": [],
   "source": [
    "model.get_params()"
   ]
  },
  {
   "cell_type": "code",
   "execution_count": null,
   "metadata": {},
   "outputs": [],
   "source": [
    "def draw_importance(columns, importances, top_k=20, save_path=None):\n",
    "    order = np.argsort(importances)[-top_k:]\n",
    "    \n",
    "    objects = columns[order]\n",
    "    y_pos = np.arange(len(objects))\n",
    "    performance = np.array(importances)[order]\n",
    "\n",
    "    plt.figure(figsize=(20, 10))\n",
    "    plt.barh(y_pos, performance, align='center', alpha=0.5)\n",
    "    plt.yticks(y_pos, objects)\n",
    "    plt.xlabel('Importance')\n",
    "    plt.title('Feature')\n",
    "\n",
    "    if save_path:\n",
    "        plt.savefig(save_path)\n",
    "    plt.show()"
   ]
  },
  {
   "cell_type": "code",
   "execution_count": null,
   "metadata": {},
   "outputs": [],
   "source": [
    "draw_importance(X_train.columns, model.feature_importances_, save_path=None)"
   ]
  },
  {
   "cell_type": "markdown",
   "metadata": {},
   "source": [
    "## Submission"
   ]
  },
  {
   "cell_type": "code",
   "execution_count": null,
   "metadata": {},
   "outputs": [],
   "source": [
    "# sdf = pd.DataFrame(tdf.index, columns=['ID'])\n",
    "# sdf['proba'] = get_stack_score(X_test)\n",
    "# sdf.head()"
   ]
  },
  {
   "cell_type": "code",
   "execution_count": null,
   "metadata": {},
   "outputs": [],
   "source": [
    "sdf = pd.DataFrame(tdf.index, columns=['ID'])\n",
    "sdf['proba'] = model.predict_proba(X_test)[:, 1]\n",
    "sdf.head()"
   ]
  },
  {
   "cell_type": "code",
   "execution_count": null,
   "metadata": {},
   "outputs": [],
   "source": [
    "sdf.to_csv(SUBMISSION_PATH, index=False)"
   ]
  }
 ],
 "metadata": {
  "kernelspec": {
   "display_name": "Python 3",
   "language": "python",
   "name": "python3"
  },
  "language_info": {
   "codemirror_mode": {
    "name": "ipython",
    "version": 3
   },
   "file_extension": ".py",
   "mimetype": "text/x-python",
   "name": "python",
   "nbconvert_exporter": "python",
   "pygments_lexer": "ipython3",
   "version": "3.6.4"
  }
 },
 "nbformat": 4,
 "nbformat_minor": 2
}
